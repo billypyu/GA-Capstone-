{
 "cells": [
  {
   "cell_type": "markdown",
   "metadata": {
    "toc": true
   },
   "source": [
    "<h1>Table of Contents<span class=\"tocSkip\"></span></h1>\n",
    "<div class=\"toc\"><ul class=\"toc-item\"></ul></div>"
   ]
  },
  {
   "cell_type": "code",
   "execution_count": 55,
   "metadata": {},
   "outputs": [],
   "source": [
    "from selenium import webdriver\n",
    "from time import sleep\n",
    "import requests\n",
    "from bs4 import BeautifulSoup\n",
    "import pandas as pd"
   ]
  },
  {
   "cell_type": "code",
   "execution_count": 56,
   "metadata": {},
   "outputs": [],
   "source": [
    "options = webdriver.ChromeOptions()\n",
    "options.add_argument(\"/Applications/Google Chrome.app/Contents/MacOS/Google Chrome\")\n"
   ]
  },
  {
   "cell_type": "code",
   "execution_count": 57,
   "metadata": {},
   "outputs": [
    {
     "name": "stderr",
     "output_type": "stream",
     "text": [
      "/Users/billyu/anaconda3/lib/python3.6/site-packages/ipykernel_launcher.py:1: DeprecationWarning: use options instead of chrome_options\n",
      "  \"\"\"Entry point for launching an IPython kernel.\n"
     ]
    }
   ],
   "source": [
    "driver = webdriver.Chrome(executable_path='./chromedriver/chromedriver', chrome_options=options)"
   ]
  },
  {
   "cell_type": "code",
   "execution_count": 58,
   "metadata": {},
   "outputs": [],
   "source": [
    "driver.get(f'https://seekingalpha.com/symbol/TSLA/earnings')"
   ]
  },
  {
   "cell_type": "code",
   "execution_count": 59,
   "metadata": {},
   "outputs": [],
   "source": [
    "def get_cookie_jar(driver):\n",
    "    cookies = driver.get_cookies()\n",
    "    cookie_jar = {x['name']:x['value'] for x in cookies}\n",
    "    \n",
    "    return cookie_jar"
   ]
  },
  {
   "cell_type": "code",
   "execution_count": 60,
   "metadata": {},
   "outputs": [],
   "source": [
    "cookie_jar = get_cookie_jar(driver)"
   ]
  },
  {
   "cell_type": "code",
   "execution_count": 61,
   "metadata": {},
   "outputs": [
    {
     "data": {
      "text/plain": [
       "{'put_3778': 'XMjvJQAAAHyTG139',\n",
       " 'rpb': '6286%3D1%267751%3D1%2631950%3D1%264222%3D1%268981%3D1%26191940%3D1',\n",
       " 'put_2974': '5699500677777375548',\n",
       " 'put_1512': '0fdf5cc8-e3d1-4a00-80e7-2b09293cb001',\n",
       " 'khaos': 'JV4IHNY3-22-7X40',\n",
       " 'put_2249': 'CAESEF7sg5h1Nb9leCE9lxJPvmI',\n",
       " 'audit': '\"w6ON7gSuh5WXM9Xiq6Tbz69BIMdBSZPFjejLUC0KxFhynP5Hev+4XxrLpTKVebyVMAbtri3NDE0=\"',\n",
       " 'put_2132': '3E5A17C625EFC85C1A39884E020F03A1',\n",
       " 'DSID': 'NO_DATA',\n",
       " 'IDE': 'AHWqTUlfbkXzUpQkErC55b__3SNqyyUdOzDA2j2D26cuBr6QkeK8ln8tal2vNp0J',\n",
       " 'session': 'bb6359ec3b942799f24f7c419d306538',\n",
       " '__utma': '150447540.171602421.1556672290.1556672290.1556672290.1',\n",
       " '__cfduid': 'd857d30b8f86c445d3613919406fe088e1556672292',\n",
       " '__utmb': '150447540.1.10.1556672290',\n",
       " 'ad-id': 'A_cLeNpZzUquuw2b7traBa8',\n",
       " '_kuid_': 'MqEJaRcv',\n",
       " 'put_2307': 'a21eef64-62f0-4c02-9110-f072b80297cd',\n",
       " '_pxde': '61b6799a8bb80dbf7e4fa82c59a3278df6d9b301d0f55008a31926f7fc0ec392:eyJ0aW1lc3RhbXAiOjE1NTY2NzIyOTI4NDV9',\n",
       " 'pux': '1512%3D81760%262132%3D81760%262249%3D81760%262307%3D81760%262974%3D81760%263778%3D81760%26brx%3D81760%26goog%3D81760%26',\n",
       " '_pxvid': '300d394b-6bac-11e9-a63b-0242ac12000b',\n",
       " '_px2': 'eyJ1IjoiMmZlZjAwMTAtNmJhYy0xMWU5LWI4MWYtZDk1ZDI0MTNmMjQ4IiwidiI6IjMwMGQzOTRiLTZiYWMtMTFlOS1hNjNiLTAyNDJhYzEyMDAwYiIsInQiOjE1NTY2NzI3OTI4NDUsImgiOiI2NGVhNTY2YmFkYTVhM2ZiZDRjYTcxMzkzOGE3YzY3MTJiZTQ3YWY5YTNiYjkxZGY3YmQ1NDI0OGVmZmZhNzVjIn0=',\n",
       " 'machine_cookie': '9460376584327',\n",
       " '__gads': 'ID=983d1611bbb88d9d:T=1556672290:S=ALNI_MYpqzh-oK8xPGJmbXvsGKcfUPs9ng',\n",
       " 'ad-privacy': '0',\n",
       " '__utmt': '1',\n",
       " '__utmz': '150447540.1556672290.1.1.utmcsr=(direct)|utmccn=(direct)|utmcmd=(none)',\n",
       " '__utmc': '150447540',\n",
       " '_px': 'Vn8I1RkUdhXzn5bJsbWaZIBiwFeBNGEBKIecCWz0jCqwkszyVa+Gn6WVJsOzkuFip3qtm+6MxQrAgMfDz4RdSw==:1000:ZmHs2Tl4wHSB7CrBx0tjMfN/I+8ftbrax5z0ylaFPA2kEWxS5C9Xlu76K7VfBBzt8Jmt4p/hV5XpFheTE10nwUis8HYDSSYrnn6/wJhKzqcA4gQSB7irzsYi1f4ppKSxftAn6OmALgC2x6sIHixGAdgD8iGRM+aQwvD1lH+EalEE0hyiYVAff3NmzvOobr1fiRR4UpaDQ051APZEs/06DCt9ZZFDYwX02LHFMoKip8J7YncSeGr94yMgCwKkk5cJUJTLN3Pa+ZW9XDwSMcGRAQ=='}"
      ]
     },
     "execution_count": 61,
     "metadata": {},
     "output_type": "execute_result"
    }
   ],
   "source": [
    "cookie_jar"
   ]
  },
  {
   "cell_type": "code",
   "execution_count": 64,
   "metadata": {},
   "outputs": [
    {
     "data": {
      "text/plain": [
       "[{'domain': '.rubiconproject.com',\n",
       "  'expiry': 1559177.89433618,\n",
       "  'httpOnly': False,\n",
       "  'name': 'put_3778',\n",
       "  'path': '/',\n",
       "  'secure': False,\n",
       "  'value': 'XMjvJQAAAHyTG139'},\n",
       " {'domain': '.rubiconproject.com',\n",
       "  'expiry': 1559264.2943360938,\n",
       "  'httpOnly': False,\n",
       "  'name': 'rpb',\n",
       "  'path': '/',\n",
       "  'secure': False,\n",
       "  'value': '6286%3D1%267751%3D1%2631950%3D1%264222%3D1%268981%3D1%26191940%3D1'},\n",
       " {'domain': '.rubiconproject.com',\n",
       "  'expiry': 1559177.894321928,\n",
       "  'httpOnly': False,\n",
       "  'name': 'put_2974',\n",
       "  'path': '/',\n",
       "  'secure': False,\n",
       "  'value': '5699500677777375548'},\n",
       " {'domain': '.rubiconproject.com',\n",
       "  'expiry': 1559177.894309494,\n",
       "  'httpOnly': False,\n",
       "  'name': 'put_1512',\n",
       "  'path': '/',\n",
       "  'secure': False,\n",
       "  'value': '0fdf5cc8-e3d1-4a00-80e7-2b09293cb001'},\n",
       " {'domain': '.rubiconproject.com',\n",
       "  'expiry': 1588208.294335989,\n",
       "  'httpOnly': False,\n",
       "  'name': 'khaos',\n",
       "  'path': '/',\n",
       "  'secure': False,\n",
       "  'value': 'JV4IHNY3-22-7X40'},\n",
       " {'domain': '.rubiconproject.com',\n",
       "  'expiry': 1559091.4943061718,\n",
       "  'httpOnly': False,\n",
       "  'name': 'put_2249',\n",
       "  'path': '/',\n",
       "  'secure': False,\n",
       "  'value': 'CAESEF7sg5h1Nb9leCE9lxJPvmI'},\n",
       " {'domain': '.rubiconproject.com',\n",
       "  'expiry': 1588208.2931532708,\n",
       "  'httpOnly': False,\n",
       "  'name': 'audit',\n",
       "  'path': '/',\n",
       "  'secure': False,\n",
       "  'value': '\"w6ON7gSuh5WXM9Xiq6Tbz69BIMdBSZPFjejLUC0KxFhynP5Hev+4XxrLpTKVebyVMAbtri3NDE0=\"'},\n",
       " {'domain': '.rubiconproject.com',\n",
       "  'expiry': 1559091.4942673559,\n",
       "  'httpOnly': False,\n",
       "  'name': 'put_2132',\n",
       "  'path': '/',\n",
       "  'secure': False,\n",
       "  'value': '3E5A17C625EFC85C1A39884E020F03A1'},\n",
       " {'domain': '.doubleclick.net',\n",
       "  'expiry': 1556675.892497234,\n",
       "  'httpOnly': True,\n",
       "  'name': 'DSID',\n",
       "  'path': '/',\n",
       "  'secure': False,\n",
       "  'value': 'NO_DATA'},\n",
       " {'domain': '.doubleclick.net',\n",
       "  'expiry': 1619744.291052829,\n",
       "  'httpOnly': True,\n",
       "  'name': 'IDE',\n",
       "  'path': '/',\n",
       "  'secure': False,\n",
       "  'value': 'AHWqTUlfbkXzUpQkErC55b__3SNqyyUdOzDA2j2D26cuBr6QkeK8ln8tal2vNp0J'},\n",
       " {'domain': '.dianomi.com',\n",
       "  'expiry': 1572224.293047088,\n",
       "  'httpOnly': False,\n",
       "  'name': 'session',\n",
       "  'path': '/',\n",
       "  'secure': False,\n",
       "  'value': 'bb6359ec3b942799f24f7c419d306538'},\n",
       " {'domain': '.seekingalpha.com',\n",
       "  'expiry': 1619744.289,\n",
       "  'httpOnly': False,\n",
       "  'name': '__utma',\n",
       "  'path': '/',\n",
       "  'secure': False,\n",
       "  'value': '150447540.171602421.1556672290.1556672290.1556672290.1'},\n",
       " {'domain': '.dianomi.com',\n",
       "  'expiry': 1588208.2926693659,\n",
       "  'httpOnly': True,\n",
       "  'name': '__cfduid',\n",
       "  'path': '/',\n",
       "  'secure': False,\n",
       "  'value': 'd857d30b8f86c445d3613919406fe088e1556672292'},\n",
       " {'domain': '.seekingalpha.com',\n",
       "  'expiry': 1556674.089,\n",
       "  'httpOnly': False,\n",
       "  'name': '__utmb',\n",
       "  'path': '/',\n",
       "  'secure': False,\n",
       "  'value': '150447540.1.10.1556672290'},\n",
       " {'domain': '.amazon-adsystem.com',\n",
       "  'expiry': 1577840.29050672,\n",
       "  'httpOnly': True,\n",
       "  'name': 'ad-id',\n",
       "  'path': '/',\n",
       "  'secure': False,\n",
       "  'value': 'A_cLeNpZzUquuw2b7traBa8'},\n",
       " {'domain': '.krxd.net',\n",
       "  'expiry': 1572224.401,\n",
       "  'httpOnly': False,\n",
       "  'name': '_kuid_',\n",
       "  'path': '/',\n",
       "  'secure': False,\n",
       "  'value': 'MqEJaRcv'},\n",
       " {'domain': '.rubiconproject.com',\n",
       "  'expiry': 1559091.494261494,\n",
       "  'httpOnly': False,\n",
       "  'name': 'put_2307',\n",
       "  'path': '/',\n",
       "  'secure': False,\n",
       "  'value': 'a21eef64-62f0-4c02-9110-f072b80297cd'},\n",
       " {'domain': '.seekingalpha.com',\n",
       "  'expiry': 1556673.292,\n",
       "  'httpOnly': False,\n",
       "  'name': '_pxde',\n",
       "  'path': '/',\n",
       "  'secure': False,\n",
       "  'value': '61b6799a8bb80dbf7e4fa82c59a3278df6d9b301d0f55008a31926f7fc0ec392:eyJ0aW1lc3RhbXAiOjE1NTY2NzIyOTI4NDV9'},\n",
       " {'domain': 'eus.rubiconproject.com',\n",
       "  'expiry': 1564448.293,\n",
       "  'httpOnly': False,\n",
       "  'name': 'pux',\n",
       "  'path': '/',\n",
       "  'secure': False,\n",
       "  'value': '1512%3D81760%262132%3D81760%262249%3D81760%262307%3D81760%262974%3D81760%263778%3D81760%26brx%3D81760%26goog%3D81760%26'},\n",
       " {'domain': '.seekingalpha.com',\n",
       "  'expiry': 1603328.289,\n",
       "  'httpOnly': False,\n",
       "  'name': '_pxvid',\n",
       "  'path': '/',\n",
       "  'secure': False,\n",
       "  'value': '300d394b-6bac-11e9-a63b-0242ac12000b'},\n",
       " {'domain': '.seekingalpha.com',\n",
       "  'expiry': 1556673.292,\n",
       "  'httpOnly': False,\n",
       "  'name': '_px2',\n",
       "  'path': '/',\n",
       "  'secure': False,\n",
       "  'value': 'eyJ1IjoiMmZlZjAwMTAtNmJhYy0xMWU5LWI4MWYtZDk1ZDI0MTNmMjQ4IiwidiI6IjMwMGQzOTRiLTZiYWMtMTFlOS1hNjNiLTAyNDJhYzEyMDAwYiIsInQiOjE1NTY2NzI3OTI4NDUsImgiOiI2NGVhNTY2YmFkYTVhM2ZiZDRjYTcxMzkzOGE3YzY3MTJiZTQ3YWY5YTNiYjkxZGY3YmQ1NDI0OGVmZmZhNzVjIn0='},\n",
       " {'domain': 'seekingalpha.com',\n",
       "  'expiry': 1872032.289,\n",
       "  'httpOnly': False,\n",
       "  'name': 'machine_cookie',\n",
       "  'path': '/',\n",
       "  'secure': True,\n",
       "  'value': '9460376584327'},\n",
       " {'domain': '.seekingalpha.com',\n",
       "  'expiry': 1619744.29,\n",
       "  'httpOnly': False,\n",
       "  'name': '__gads',\n",
       "  'path': '/',\n",
       "  'secure': False,\n",
       "  'value': 'ID=983d1611bbb88d9d:T=1556672290:S=ALNI_MYpqzh-oK8xPGJmbXvsGKcfUPs9ng'},\n",
       " {'domain': '.amazon-adsystem.com',\n",
       "  'expiry': 1577840.290506798,\n",
       "  'httpOnly': True,\n",
       "  'name': 'ad-privacy',\n",
       "  'path': '/',\n",
       "  'secure': False,\n",
       "  'value': '0'},\n",
       " {'domain': '.seekingalpha.com',\n",
       "  'expiry': 1556672.889,\n",
       "  'httpOnly': False,\n",
       "  'name': '__utmt',\n",
       "  'path': '/',\n",
       "  'secure': False,\n",
       "  'value': '1'},\n",
       " {'domain': '.seekingalpha.com',\n",
       "  'expiry': 1572440.289,\n",
       "  'httpOnly': False,\n",
       "  'name': '__utmz',\n",
       "  'path': '/',\n",
       "  'secure': False,\n",
       "  'value': '150447540.1556672290.1.1.utmcsr=(direct)|utmccn=(direct)|utmcmd=(none)'},\n",
       " {'domain': '.seekingalpha.com',\n",
       "  'httpOnly': False,\n",
       "  'name': '__utmc',\n",
       "  'path': '/',\n",
       "  'secure': False,\n",
       "  'value': '150447540'},\n",
       " {'domain': '.seekingalpha.com',\n",
       "  'expiry': 1556673.292,\n",
       "  'httpOnly': False,\n",
       "  'name': '_px',\n",
       "  'path': '/',\n",
       "  'secure': False,\n",
       "  'value': 'Vn8I1RkUdhXzn5bJsbWaZIBiwFeBNGEBKIecCWz0jCqwkszyVa+Gn6WVJsOzkuFip3qtm+6MxQrAgMfDz4RdSw==:1000:ZmHs2Tl4wHSB7CrBx0tjMfN/I+8ftbrax5z0ylaFPA2kEWxS5C9Xlu76K7VfBBzt8Jmt4p/hV5XpFheTE10nwUis8HYDSSYrnn6/wJhKzqcA4gQSB7irzsYi1f4ppKSxftAn6OmALgC2x6sIHixGAdgD8iGRM+aQwvD1lH+EalEE0hyiYVAff3NmzvOobr1fiRR4UpaDQ051APZEs/06DCt9ZZFDYwX02LHFMoKip8J7YncSeGr94yMgCwKkk5cJUJTLN3Pa+ZW9XDwSMcGRAQ=='}]"
      ]
     },
     "execution_count": 64,
     "metadata": {},
     "output_type": "execute_result"
    }
   ],
   "source": [
    "driver.get_cookies()"
   ]
  },
  {
   "cell_type": "code",
   "execution_count": 63,
   "metadata": {},
   "outputs": [
    {
     "ename": "WebDriverException",
     "evalue": "Message: unknown error: name of cookie is missing or invalid:\"undefined\"\n  (Session info: chrome=73.0.3683.103)\n  (Driver info: chromedriver=2.28.455517 (2c6d2707d8ea850c862f04ac066724273981e88f),platform=Mac OS X 10.13.6 x86_64)\n",
     "output_type": "error",
     "traceback": [
      "\u001b[0;31m---------------------------------------------------------------------------\u001b[0m",
      "\u001b[0;31mWebDriverException\u001b[0m                        Traceback (most recent call last)",
      "\u001b[0;32m<ipython-input-63-536c87112288>\u001b[0m in \u001b[0;36m<module>\u001b[0;34m\u001b[0m\n\u001b[0;32m----> 1\u001b[0;31m \u001b[0mdriver\u001b[0m\u001b[0;34m.\u001b[0m\u001b[0madd_cookie\u001b[0m\u001b[0;34m(\u001b[0m\u001b[0mcookie_dict\u001b[0m\u001b[0;34m=\u001b[0m\u001b[0mcookie_jar\u001b[0m\u001b[0;34m)\u001b[0m\u001b[0;34m\u001b[0m\u001b[0;34m\u001b[0m\u001b[0m\n\u001b[0m",
      "\u001b[0;32m~/anaconda3/lib/python3.6/site-packages/selenium/webdriver/remote/webdriver.py\u001b[0m in \u001b[0;36madd_cookie\u001b[0;34m(self, cookie_dict)\u001b[0m\n\u001b[1;32m    892\u001b[0m \u001b[0;34m\u001b[0m\u001b[0m\n\u001b[1;32m    893\u001b[0m         \"\"\"\n\u001b[0;32m--> 894\u001b[0;31m         \u001b[0mself\u001b[0m\u001b[0;34m.\u001b[0m\u001b[0mexecute\u001b[0m\u001b[0;34m(\u001b[0m\u001b[0mCommand\u001b[0m\u001b[0;34m.\u001b[0m\u001b[0mADD_COOKIE\u001b[0m\u001b[0;34m,\u001b[0m \u001b[0;34m{\u001b[0m\u001b[0;34m'cookie'\u001b[0m\u001b[0;34m:\u001b[0m \u001b[0mcookie_dict\u001b[0m\u001b[0;34m}\u001b[0m\u001b[0;34m)\u001b[0m\u001b[0;34m\u001b[0m\u001b[0;34m\u001b[0m\u001b[0m\n\u001b[0m\u001b[1;32m    895\u001b[0m \u001b[0;34m\u001b[0m\u001b[0m\n\u001b[1;32m    896\u001b[0m     \u001b[0;31m# Timeouts\u001b[0m\u001b[0;34m\u001b[0m\u001b[0;34m\u001b[0m\u001b[0;34m\u001b[0m\u001b[0m\n",
      "\u001b[0;32m~/anaconda3/lib/python3.6/site-packages/selenium/webdriver/remote/webdriver.py\u001b[0m in \u001b[0;36mexecute\u001b[0;34m(self, driver_command, params)\u001b[0m\n\u001b[1;32m    319\u001b[0m         \u001b[0mresponse\u001b[0m \u001b[0;34m=\u001b[0m \u001b[0mself\u001b[0m\u001b[0;34m.\u001b[0m\u001b[0mcommand_executor\u001b[0m\u001b[0;34m.\u001b[0m\u001b[0mexecute\u001b[0m\u001b[0;34m(\u001b[0m\u001b[0mdriver_command\u001b[0m\u001b[0;34m,\u001b[0m \u001b[0mparams\u001b[0m\u001b[0;34m)\u001b[0m\u001b[0;34m\u001b[0m\u001b[0;34m\u001b[0m\u001b[0m\n\u001b[1;32m    320\u001b[0m         \u001b[0;32mif\u001b[0m \u001b[0mresponse\u001b[0m\u001b[0;34m:\u001b[0m\u001b[0;34m\u001b[0m\u001b[0;34m\u001b[0m\u001b[0m\n\u001b[0;32m--> 321\u001b[0;31m             \u001b[0mself\u001b[0m\u001b[0;34m.\u001b[0m\u001b[0merror_handler\u001b[0m\u001b[0;34m.\u001b[0m\u001b[0mcheck_response\u001b[0m\u001b[0;34m(\u001b[0m\u001b[0mresponse\u001b[0m\u001b[0;34m)\u001b[0m\u001b[0;34m\u001b[0m\u001b[0;34m\u001b[0m\u001b[0m\n\u001b[0m\u001b[1;32m    322\u001b[0m             response['value'] = self._unwrap_value(\n\u001b[1;32m    323\u001b[0m                 response.get('value', None))\n",
      "\u001b[0;32m~/anaconda3/lib/python3.6/site-packages/selenium/webdriver/remote/errorhandler.py\u001b[0m in \u001b[0;36mcheck_response\u001b[0;34m(self, response)\u001b[0m\n\u001b[1;32m    240\u001b[0m                 \u001b[0malert_text\u001b[0m \u001b[0;34m=\u001b[0m \u001b[0mvalue\u001b[0m\u001b[0;34m[\u001b[0m\u001b[0;34m'alert'\u001b[0m\u001b[0;34m]\u001b[0m\u001b[0;34m.\u001b[0m\u001b[0mget\u001b[0m\u001b[0;34m(\u001b[0m\u001b[0;34m'text'\u001b[0m\u001b[0;34m)\u001b[0m\u001b[0;34m\u001b[0m\u001b[0;34m\u001b[0m\u001b[0m\n\u001b[1;32m    241\u001b[0m             \u001b[0;32mraise\u001b[0m \u001b[0mexception_class\u001b[0m\u001b[0;34m(\u001b[0m\u001b[0mmessage\u001b[0m\u001b[0;34m,\u001b[0m \u001b[0mscreen\u001b[0m\u001b[0;34m,\u001b[0m \u001b[0mstacktrace\u001b[0m\u001b[0;34m,\u001b[0m \u001b[0malert_text\u001b[0m\u001b[0;34m)\u001b[0m\u001b[0;34m\u001b[0m\u001b[0;34m\u001b[0m\u001b[0m\n\u001b[0;32m--> 242\u001b[0;31m         \u001b[0;32mraise\u001b[0m \u001b[0mexception_class\u001b[0m\u001b[0;34m(\u001b[0m\u001b[0mmessage\u001b[0m\u001b[0;34m,\u001b[0m \u001b[0mscreen\u001b[0m\u001b[0;34m,\u001b[0m \u001b[0mstacktrace\u001b[0m\u001b[0;34m)\u001b[0m\u001b[0;34m\u001b[0m\u001b[0;34m\u001b[0m\u001b[0m\n\u001b[0m\u001b[1;32m    243\u001b[0m \u001b[0;34m\u001b[0m\u001b[0m\n\u001b[1;32m    244\u001b[0m     \u001b[0;32mdef\u001b[0m \u001b[0m_value_or_default\u001b[0m\u001b[0;34m(\u001b[0m\u001b[0mself\u001b[0m\u001b[0;34m,\u001b[0m \u001b[0mobj\u001b[0m\u001b[0;34m,\u001b[0m \u001b[0mkey\u001b[0m\u001b[0;34m,\u001b[0m \u001b[0mdefault\u001b[0m\u001b[0;34m)\u001b[0m\u001b[0;34m:\u001b[0m\u001b[0;34m\u001b[0m\u001b[0;34m\u001b[0m\u001b[0m\n",
      "\u001b[0;31mWebDriverException\u001b[0m: Message: unknown error: name of cookie is missing or invalid:\"undefined\"\n  (Session info: chrome=73.0.3683.103)\n  (Driver info: chromedriver=2.28.455517 (2c6d2707d8ea850c862f04ac066724273981e88f),platform=Mac OS X 10.13.6 x86_64)\n"
     ]
    }
   ],
   "source": [
    "driver.add_cookie(cookie_dict=cookie_jar)"
   ]
  },
  {
   "cell_type": "code",
   "execution_count": 67,
   "metadata": {},
   "outputs": [],
   "source": [
    "xpath = \"//*[@class='transcript-link']\""
   ]
  },
  {
   "cell_type": "code",
   "execution_count": 68,
   "metadata": {},
   "outputs": [
    {
     "ename": "NoSuchWindowException",
     "evalue": "Message: no such window: window was already closed\n  (Session info: chrome=73.0.3683.103)\n  (Driver info: chromedriver=2.28.455517 (2c6d2707d8ea850c862f04ac066724273981e88f),platform=Mac OS X 10.13.6 x86_64)\n",
     "output_type": "error",
     "traceback": [
      "\u001b[0;31m---------------------------------------------------------------------------\u001b[0m",
      "\u001b[0;31mNoSuchWindowException\u001b[0m                     Traceback (most recent call last)",
      "\u001b[0;32m<ipython-input-68-72b3a12f46d2>\u001b[0m in \u001b[0;36m<module>\u001b[0;34m\u001b[0m\n\u001b[0;32m----> 1\u001b[0;31m \u001b[0melement0\u001b[0m\u001b[0;34m=\u001b[0m \u001b[0mdriver\u001b[0m\u001b[0;34m.\u001b[0m\u001b[0mfind_element_by_class_name\u001b[0m\u001b[0;34m(\u001b[0m\u001b[0;34m'transcript-link'\u001b[0m\u001b[0;34m)\u001b[0m\u001b[0;34m\u001b[0m\u001b[0;34m\u001b[0m\u001b[0m\n\u001b[0m",
      "\u001b[0;32m~/anaconda3/lib/python3.6/site-packages/selenium/webdriver/remote/webdriver.py\u001b[0m in \u001b[0;36mfind_element_by_class_name\u001b[0;34m(self, name)\u001b[0m\n\u001b[1;32m    562\u001b[0m             \u001b[0melement\u001b[0m \u001b[0;34m=\u001b[0m \u001b[0mdriver\u001b[0m\u001b[0;34m.\u001b[0m\u001b[0mfind_element_by_class_name\u001b[0m\u001b[0;34m(\u001b[0m\u001b[0;34m'foo'\u001b[0m\u001b[0;34m)\u001b[0m\u001b[0;34m\u001b[0m\u001b[0;34m\u001b[0m\u001b[0m\n\u001b[1;32m    563\u001b[0m         \"\"\"\n\u001b[0;32m--> 564\u001b[0;31m         \u001b[0;32mreturn\u001b[0m \u001b[0mself\u001b[0m\u001b[0;34m.\u001b[0m\u001b[0mfind_element\u001b[0m\u001b[0;34m(\u001b[0m\u001b[0mby\u001b[0m\u001b[0;34m=\u001b[0m\u001b[0mBy\u001b[0m\u001b[0;34m.\u001b[0m\u001b[0mCLASS_NAME\u001b[0m\u001b[0;34m,\u001b[0m \u001b[0mvalue\u001b[0m\u001b[0;34m=\u001b[0m\u001b[0mname\u001b[0m\u001b[0;34m)\u001b[0m\u001b[0;34m\u001b[0m\u001b[0;34m\u001b[0m\u001b[0m\n\u001b[0m\u001b[1;32m    565\u001b[0m \u001b[0;34m\u001b[0m\u001b[0m\n\u001b[1;32m    566\u001b[0m     \u001b[0;32mdef\u001b[0m \u001b[0mfind_elements_by_class_name\u001b[0m\u001b[0;34m(\u001b[0m\u001b[0mself\u001b[0m\u001b[0;34m,\u001b[0m \u001b[0mname\u001b[0m\u001b[0;34m)\u001b[0m\u001b[0;34m:\u001b[0m\u001b[0;34m\u001b[0m\u001b[0;34m\u001b[0m\u001b[0m\n",
      "\u001b[0;32m~/anaconda3/lib/python3.6/site-packages/selenium/webdriver/remote/webdriver.py\u001b[0m in \u001b[0;36mfind_element\u001b[0;34m(self, by, value)\u001b[0m\n\u001b[1;32m    976\u001b[0m         return self.execute(Command.FIND_ELEMENT, {\n\u001b[1;32m    977\u001b[0m             \u001b[0;34m'using'\u001b[0m\u001b[0;34m:\u001b[0m \u001b[0mby\u001b[0m\u001b[0;34m,\u001b[0m\u001b[0;34m\u001b[0m\u001b[0;34m\u001b[0m\u001b[0m\n\u001b[0;32m--> 978\u001b[0;31m             'value': value})['value']\n\u001b[0m\u001b[1;32m    979\u001b[0m \u001b[0;34m\u001b[0m\u001b[0m\n\u001b[1;32m    980\u001b[0m     \u001b[0;32mdef\u001b[0m \u001b[0mfind_elements\u001b[0m\u001b[0;34m(\u001b[0m\u001b[0mself\u001b[0m\u001b[0;34m,\u001b[0m \u001b[0mby\u001b[0m\u001b[0;34m=\u001b[0m\u001b[0mBy\u001b[0m\u001b[0;34m.\u001b[0m\u001b[0mID\u001b[0m\u001b[0;34m,\u001b[0m \u001b[0mvalue\u001b[0m\u001b[0;34m=\u001b[0m\u001b[0;32mNone\u001b[0m\u001b[0;34m)\u001b[0m\u001b[0;34m:\u001b[0m\u001b[0;34m\u001b[0m\u001b[0;34m\u001b[0m\u001b[0m\n",
      "\u001b[0;32m~/anaconda3/lib/python3.6/site-packages/selenium/webdriver/remote/webdriver.py\u001b[0m in \u001b[0;36mexecute\u001b[0;34m(self, driver_command, params)\u001b[0m\n\u001b[1;32m    319\u001b[0m         \u001b[0mresponse\u001b[0m \u001b[0;34m=\u001b[0m \u001b[0mself\u001b[0m\u001b[0;34m.\u001b[0m\u001b[0mcommand_executor\u001b[0m\u001b[0;34m.\u001b[0m\u001b[0mexecute\u001b[0m\u001b[0;34m(\u001b[0m\u001b[0mdriver_command\u001b[0m\u001b[0;34m,\u001b[0m \u001b[0mparams\u001b[0m\u001b[0;34m)\u001b[0m\u001b[0;34m\u001b[0m\u001b[0;34m\u001b[0m\u001b[0m\n\u001b[1;32m    320\u001b[0m         \u001b[0;32mif\u001b[0m \u001b[0mresponse\u001b[0m\u001b[0;34m:\u001b[0m\u001b[0;34m\u001b[0m\u001b[0;34m\u001b[0m\u001b[0m\n\u001b[0;32m--> 321\u001b[0;31m             \u001b[0mself\u001b[0m\u001b[0;34m.\u001b[0m\u001b[0merror_handler\u001b[0m\u001b[0;34m.\u001b[0m\u001b[0mcheck_response\u001b[0m\u001b[0;34m(\u001b[0m\u001b[0mresponse\u001b[0m\u001b[0;34m)\u001b[0m\u001b[0;34m\u001b[0m\u001b[0;34m\u001b[0m\u001b[0m\n\u001b[0m\u001b[1;32m    322\u001b[0m             response['value'] = self._unwrap_value(\n\u001b[1;32m    323\u001b[0m                 response.get('value', None))\n",
      "\u001b[0;32m~/anaconda3/lib/python3.6/site-packages/selenium/webdriver/remote/errorhandler.py\u001b[0m in \u001b[0;36mcheck_response\u001b[0;34m(self, response)\u001b[0m\n\u001b[1;32m    240\u001b[0m                 \u001b[0malert_text\u001b[0m \u001b[0;34m=\u001b[0m \u001b[0mvalue\u001b[0m\u001b[0;34m[\u001b[0m\u001b[0;34m'alert'\u001b[0m\u001b[0;34m]\u001b[0m\u001b[0;34m.\u001b[0m\u001b[0mget\u001b[0m\u001b[0;34m(\u001b[0m\u001b[0;34m'text'\u001b[0m\u001b[0;34m)\u001b[0m\u001b[0;34m\u001b[0m\u001b[0;34m\u001b[0m\u001b[0m\n\u001b[1;32m    241\u001b[0m             \u001b[0;32mraise\u001b[0m \u001b[0mexception_class\u001b[0m\u001b[0;34m(\u001b[0m\u001b[0mmessage\u001b[0m\u001b[0;34m,\u001b[0m \u001b[0mscreen\u001b[0m\u001b[0;34m,\u001b[0m \u001b[0mstacktrace\u001b[0m\u001b[0;34m,\u001b[0m \u001b[0malert_text\u001b[0m\u001b[0;34m)\u001b[0m\u001b[0;34m\u001b[0m\u001b[0;34m\u001b[0m\u001b[0m\n\u001b[0;32m--> 242\u001b[0;31m         \u001b[0;32mraise\u001b[0m \u001b[0mexception_class\u001b[0m\u001b[0;34m(\u001b[0m\u001b[0mmessage\u001b[0m\u001b[0;34m,\u001b[0m \u001b[0mscreen\u001b[0m\u001b[0;34m,\u001b[0m \u001b[0mstacktrace\u001b[0m\u001b[0;34m)\u001b[0m\u001b[0;34m\u001b[0m\u001b[0;34m\u001b[0m\u001b[0m\n\u001b[0m\u001b[1;32m    243\u001b[0m \u001b[0;34m\u001b[0m\u001b[0m\n\u001b[1;32m    244\u001b[0m     \u001b[0;32mdef\u001b[0m \u001b[0m_value_or_default\u001b[0m\u001b[0;34m(\u001b[0m\u001b[0mself\u001b[0m\u001b[0;34m,\u001b[0m \u001b[0mobj\u001b[0m\u001b[0;34m,\u001b[0m \u001b[0mkey\u001b[0m\u001b[0;34m,\u001b[0m \u001b[0mdefault\u001b[0m\u001b[0;34m)\u001b[0m\u001b[0;34m:\u001b[0m\u001b[0;34m\u001b[0m\u001b[0;34m\u001b[0m\u001b[0m\n",
      "\u001b[0;31mNoSuchWindowException\u001b[0m: Message: no such window: window was already closed\n  (Session info: chrome=73.0.3683.103)\n  (Driver info: chromedriver=2.28.455517 (2c6d2707d8ea850c862f04ac066724273981e88f),platform=Mac OS X 10.13.6 x86_64)\n"
     ]
    }
   ],
   "source": [
    "element0= driver.find_element_by_class_name('transcript-link')"
   ]
  },
  {
   "cell_type": "code",
   "execution_count": 69,
   "metadata": {},
   "outputs": [
    {
     "data": {
      "text/plain": [
       "<selenium.webdriver.remote.webelement.WebElement (session=\"8dcc1d4a67703b1d4aa5f7a751aba5ec\", element=\"0.9011284706132294-1\")>"
      ]
     },
     "execution_count": 69,
     "metadata": {},
     "output_type": "execute_result"
    }
   ],
   "source": [
    "element0"
   ]
  },
  {
   "cell_type": "code",
   "execution_count": 70,
   "metadata": {},
   "outputs": [
    {
     "ename": "WebDriverException",
     "evalue": "Message: chrome not reachable\n  (Session info: chrome=73.0.3683.103)\n  (Driver info: chromedriver=2.28.455517 (2c6d2707d8ea850c862f04ac066724273981e88f),platform=Mac OS X 10.13.6 x86_64)\n",
     "output_type": "error",
     "traceback": [
      "\u001b[0;31m---------------------------------------------------------------------------\u001b[0m",
      "\u001b[0;31mWebDriverException\u001b[0m                        Traceback (most recent call last)",
      "\u001b[0;32m<ipython-input-70-f3de847a3006>\u001b[0m in \u001b[0;36m<module>\u001b[0;34m\u001b[0m\n\u001b[0;32m----> 1\u001b[0;31m \u001b[0melement0\u001b[0m\u001b[0;34m.\u001b[0m\u001b[0mclick\u001b[0m\u001b[0;34m(\u001b[0m\u001b[0;34m)\u001b[0m\u001b[0;34m\u001b[0m\u001b[0;34m\u001b[0m\u001b[0m\n\u001b[0m",
      "\u001b[0;32m~/anaconda3/lib/python3.6/site-packages/selenium/webdriver/remote/webelement.py\u001b[0m in \u001b[0;36mclick\u001b[0;34m(self)\u001b[0m\n\u001b[1;32m     78\u001b[0m     \u001b[0;32mdef\u001b[0m \u001b[0mclick\u001b[0m\u001b[0;34m(\u001b[0m\u001b[0mself\u001b[0m\u001b[0;34m)\u001b[0m\u001b[0;34m:\u001b[0m\u001b[0;34m\u001b[0m\u001b[0;34m\u001b[0m\u001b[0m\n\u001b[1;32m     79\u001b[0m         \u001b[0;34m\"\"\"Clicks the element.\"\"\"\u001b[0m\u001b[0;34m\u001b[0m\u001b[0;34m\u001b[0m\u001b[0m\n\u001b[0;32m---> 80\u001b[0;31m         \u001b[0mself\u001b[0m\u001b[0;34m.\u001b[0m\u001b[0m_execute\u001b[0m\u001b[0;34m(\u001b[0m\u001b[0mCommand\u001b[0m\u001b[0;34m.\u001b[0m\u001b[0mCLICK_ELEMENT\u001b[0m\u001b[0;34m)\u001b[0m\u001b[0;34m\u001b[0m\u001b[0;34m\u001b[0m\u001b[0m\n\u001b[0m\u001b[1;32m     81\u001b[0m \u001b[0;34m\u001b[0m\u001b[0m\n\u001b[1;32m     82\u001b[0m     \u001b[0;32mdef\u001b[0m \u001b[0msubmit\u001b[0m\u001b[0;34m(\u001b[0m\u001b[0mself\u001b[0m\u001b[0;34m)\u001b[0m\u001b[0;34m:\u001b[0m\u001b[0;34m\u001b[0m\u001b[0;34m\u001b[0m\u001b[0m\n",
      "\u001b[0;32m~/anaconda3/lib/python3.6/site-packages/selenium/webdriver/remote/webelement.py\u001b[0m in \u001b[0;36m_execute\u001b[0;34m(self, command, params)\u001b[0m\n\u001b[1;32m    631\u001b[0m             \u001b[0mparams\u001b[0m \u001b[0;34m=\u001b[0m \u001b[0;34m{\u001b[0m\u001b[0;34m}\u001b[0m\u001b[0;34m\u001b[0m\u001b[0;34m\u001b[0m\u001b[0m\n\u001b[1;32m    632\u001b[0m         \u001b[0mparams\u001b[0m\u001b[0;34m[\u001b[0m\u001b[0;34m'id'\u001b[0m\u001b[0;34m]\u001b[0m \u001b[0;34m=\u001b[0m \u001b[0mself\u001b[0m\u001b[0;34m.\u001b[0m\u001b[0m_id\u001b[0m\u001b[0;34m\u001b[0m\u001b[0;34m\u001b[0m\u001b[0m\n\u001b[0;32m--> 633\u001b[0;31m         \u001b[0;32mreturn\u001b[0m \u001b[0mself\u001b[0m\u001b[0;34m.\u001b[0m\u001b[0m_parent\u001b[0m\u001b[0;34m.\u001b[0m\u001b[0mexecute\u001b[0m\u001b[0;34m(\u001b[0m\u001b[0mcommand\u001b[0m\u001b[0;34m,\u001b[0m \u001b[0mparams\u001b[0m\u001b[0;34m)\u001b[0m\u001b[0;34m\u001b[0m\u001b[0;34m\u001b[0m\u001b[0m\n\u001b[0m\u001b[1;32m    634\u001b[0m \u001b[0;34m\u001b[0m\u001b[0m\n\u001b[1;32m    635\u001b[0m     \u001b[0;32mdef\u001b[0m \u001b[0mfind_element\u001b[0m\u001b[0;34m(\u001b[0m\u001b[0mself\u001b[0m\u001b[0;34m,\u001b[0m \u001b[0mby\u001b[0m\u001b[0;34m=\u001b[0m\u001b[0mBy\u001b[0m\u001b[0;34m.\u001b[0m\u001b[0mID\u001b[0m\u001b[0;34m,\u001b[0m \u001b[0mvalue\u001b[0m\u001b[0;34m=\u001b[0m\u001b[0;32mNone\u001b[0m\u001b[0;34m)\u001b[0m\u001b[0;34m:\u001b[0m\u001b[0;34m\u001b[0m\u001b[0;34m\u001b[0m\u001b[0m\n",
      "\u001b[0;32m~/anaconda3/lib/python3.6/site-packages/selenium/webdriver/remote/webdriver.py\u001b[0m in \u001b[0;36mexecute\u001b[0;34m(self, driver_command, params)\u001b[0m\n\u001b[1;32m    319\u001b[0m         \u001b[0mresponse\u001b[0m \u001b[0;34m=\u001b[0m \u001b[0mself\u001b[0m\u001b[0;34m.\u001b[0m\u001b[0mcommand_executor\u001b[0m\u001b[0;34m.\u001b[0m\u001b[0mexecute\u001b[0m\u001b[0;34m(\u001b[0m\u001b[0mdriver_command\u001b[0m\u001b[0;34m,\u001b[0m \u001b[0mparams\u001b[0m\u001b[0;34m)\u001b[0m\u001b[0;34m\u001b[0m\u001b[0;34m\u001b[0m\u001b[0m\n\u001b[1;32m    320\u001b[0m         \u001b[0;32mif\u001b[0m \u001b[0mresponse\u001b[0m\u001b[0;34m:\u001b[0m\u001b[0;34m\u001b[0m\u001b[0;34m\u001b[0m\u001b[0m\n\u001b[0;32m--> 321\u001b[0;31m             \u001b[0mself\u001b[0m\u001b[0;34m.\u001b[0m\u001b[0merror_handler\u001b[0m\u001b[0;34m.\u001b[0m\u001b[0mcheck_response\u001b[0m\u001b[0;34m(\u001b[0m\u001b[0mresponse\u001b[0m\u001b[0;34m)\u001b[0m\u001b[0;34m\u001b[0m\u001b[0;34m\u001b[0m\u001b[0m\n\u001b[0m\u001b[1;32m    322\u001b[0m             response['value'] = self._unwrap_value(\n\u001b[1;32m    323\u001b[0m                 response.get('value', None))\n",
      "\u001b[0;32m~/anaconda3/lib/python3.6/site-packages/selenium/webdriver/remote/errorhandler.py\u001b[0m in \u001b[0;36mcheck_response\u001b[0;34m(self, response)\u001b[0m\n\u001b[1;32m    240\u001b[0m                 \u001b[0malert_text\u001b[0m \u001b[0;34m=\u001b[0m \u001b[0mvalue\u001b[0m\u001b[0;34m[\u001b[0m\u001b[0;34m'alert'\u001b[0m\u001b[0;34m]\u001b[0m\u001b[0;34m.\u001b[0m\u001b[0mget\u001b[0m\u001b[0;34m(\u001b[0m\u001b[0;34m'text'\u001b[0m\u001b[0;34m)\u001b[0m\u001b[0;34m\u001b[0m\u001b[0;34m\u001b[0m\u001b[0m\n\u001b[1;32m    241\u001b[0m             \u001b[0;32mraise\u001b[0m \u001b[0mexception_class\u001b[0m\u001b[0;34m(\u001b[0m\u001b[0mmessage\u001b[0m\u001b[0;34m,\u001b[0m \u001b[0mscreen\u001b[0m\u001b[0;34m,\u001b[0m \u001b[0mstacktrace\u001b[0m\u001b[0;34m,\u001b[0m \u001b[0malert_text\u001b[0m\u001b[0;34m)\u001b[0m\u001b[0;34m\u001b[0m\u001b[0;34m\u001b[0m\u001b[0m\n\u001b[0;32m--> 242\u001b[0;31m         \u001b[0;32mraise\u001b[0m \u001b[0mexception_class\u001b[0m\u001b[0;34m(\u001b[0m\u001b[0mmessage\u001b[0m\u001b[0;34m,\u001b[0m \u001b[0mscreen\u001b[0m\u001b[0;34m,\u001b[0m \u001b[0mstacktrace\u001b[0m\u001b[0;34m)\u001b[0m\u001b[0;34m\u001b[0m\u001b[0;34m\u001b[0m\u001b[0m\n\u001b[0m\u001b[1;32m    243\u001b[0m \u001b[0;34m\u001b[0m\u001b[0m\n\u001b[1;32m    244\u001b[0m     \u001b[0;32mdef\u001b[0m \u001b[0m_value_or_default\u001b[0m\u001b[0;34m(\u001b[0m\u001b[0mself\u001b[0m\u001b[0;34m,\u001b[0m \u001b[0mobj\u001b[0m\u001b[0;34m,\u001b[0m \u001b[0mkey\u001b[0m\u001b[0;34m,\u001b[0m \u001b[0mdefault\u001b[0m\u001b[0;34m)\u001b[0m\u001b[0;34m:\u001b[0m\u001b[0;34m\u001b[0m\u001b[0;34m\u001b[0m\u001b[0m\n",
      "\u001b[0;31mWebDriverException\u001b[0m: Message: chrome not reachable\n  (Session info: chrome=73.0.3683.103)\n  (Driver info: chromedriver=2.28.455517 (2c6d2707d8ea850c862f04ac066724273981e88f),platform=Mac OS X 10.13.6 x86_64)\n"
     ]
    }
   ],
   "source": [
    "element0.click()"
   ]
  },
  {
   "cell_type": "code",
   "execution_count": null,
   "metadata": {},
   "outputs": [],
   "source": []
  },
  {
   "cell_type": "code",
   "execution_count": 13,
   "metadata": {},
   "outputs": [],
   "source": [
    "page = requests.get('https://seekingalpha.com/symbol/TSLA/earnings', \n",
    "                    cookies=cookie_jar)"
   ]
  },
  {
   "cell_type": "code",
   "execution_count": 16,
   "metadata": {},
   "outputs": [],
   "source": [
    "soup = BeautifulSoup(page.text, 'html.parser')"
   ]
  },
  {
   "cell_type": "code",
   "execution_count": 17,
   "metadata": {
    "scrolled": true
   },
   "outputs": [
    {
     "data": {
      "text/plain": [
       "<!DOCTYPE html>\n",
       "\n",
       "<html lang=\"en\">\n",
       "<head>\n",
       "<meta charset=\"utf-8\"/>\n",
       "<meta content=\"width=device-width, initial-scale=1\" name=\"viewport\"/>\n",
       "<title>Access to this page has been denied.</title>\n",
       "<link href=\"https://fonts.googleapis.com/css?family=Open+Sans:300\" rel=\"stylesheet\"/>\n",
       "<style>\n",
       "    html, body {\n",
       "      margin: 0;\n",
       "      padding: 0;\n",
       "      font-family: 'Open Sans', sans-serif;\n",
       "      color: #000;\n",
       "    }\n",
       "\n",
       "    .container {\n",
       "      align-items: center;\n",
       "      display: flex;\n",
       "      flex: 1;\n",
       "      justify-content: space-between;\n",
       "      flex-direction: column;\n",
       "      height: 100%;\n",
       "    }\n",
       "\n",
       "    .container > div {\n",
       "      width: 100%;\n",
       "      display: flex;\n",
       "      justify-content: center;\n",
       "    }\n",
       "\n",
       "    .container > div > div {\n",
       "      display: flex;\n",
       "      width: 80%;\n",
       "    }\n",
       "\n",
       "    .customer-logo-wrapper {\n",
       "      padding-top: 2rem;\n",
       "      flex-grow: 0;\n",
       "      background-color: #fff;\n",
       "    }\n",
       "\n",
       "    .customer-logo {\n",
       "      border-bottom: 1px solid #000;\n",
       "    }\n",
       "\n",
       "    .customer-logo > img {\n",
       "      padding-bottom: 1rem;\n",
       "      max-height: 50px;\n",
       "      max-width: 100%;\n",
       "    }\n",
       "\n",
       "    .page-title-wrapper {\n",
       "      flex-grow: 0;  /* was 2, but that pushed it too far down the page */\n",
       "    }\n",
       "\n",
       "    .page-title {\n",
       "      flex-direction: column-reverse;\n",
       "    }\n",
       "\n",
       "    .content-wrapper {\n",
       "      flex-grow: 5;\n",
       "    }\n",
       "\n",
       "    .content {\n",
       "      flex-direction: column;\n",
       "    }\n",
       "\n",
       "    @media (min-width: 768px) {\n",
       "      html, body {\n",
       "        height: 100%;\n",
       "      }\n",
       "    }\n",
       "  </style>\n",
       "<script>\n",
       "    window._pxAppId = 'PXxgCxM9By';\n",
       "    window._pxJsClientSrc = '/xgCxM9By/init.js';\n",
       "    window._pxHostUrl = '/xgCxM9By/xhr';\n",
       "  </script>\n",
       "<script src=\"/xgCxM9By/captcha/PXxgCxM9By/captcha.js?a=c&amp;m=0\"></script>\n",
       "<script>\n",
       "    startTime = Date.now();\n",
       "    window._pxOnCaptchaSuccess = function(isValid){\n",
       "      var solutionTime = Math.floor((Date.now() - startTime) / 1000);\n",
       "      var reload = function(){ top.location.reload(); };\n",
       "      sendEvent(\"captcha/solved?px_uuid=\" + window._pxUuid + \"&time_to_solution=\" + solutionTime + '&isValid=' + isValid, reload);\n",
       "      setTimeout(reload, 700);\n",
       "    };\n",
       "\n",
       "    function sendEvent(event, onload){\n",
       "      var xhr = new XMLHttpRequest();\n",
       "      xhr.open(\"GET\", \"/_sa_track/\" + event);\n",
       "      if (onload) xhr.addEventListener(\"load\", onload);\n",
       "      xhr.send();\n",
       "    }\n",
       "  </script>\n",
       "<script type=\"text/javascript\">window._pxVid = \"\";window._pxUuid = \"5d745900-6ba6-11e9-86a4-5792de9977f1\";</script></head>\n",
       "<body>\n",
       "<section class=\"container\">\n",
       "<div class=\"page-title-wrapper\">\n",
       "<div class=\"page-title\">\n",
       "<h1>Please click âI am not a robotâ to continue</h1>\n",
       "</div>\n",
       "</div>\n",
       "<div class=\"content-wrapper\">\n",
       "<div class=\"content\">\n",
       "<div id=\"px-captcha\"></div>\n",
       "<p></p>\n",
       "<p>\n",
       "        To ensure this doesnât happen in the future, please enable Javascript and cookies in your browser.<br/>\n",
       "        Is this happening to you frequently? Please <a href=\"https://seekingalpha.userecho.com?source=captcha\">report it on our feedback forum</a>.\n",
       "      </p>\n",
       "<p>Reference ID: <span id=\"refid\"></span></p>\n",
       "</div>\n",
       "</div>\n",
       "<script>\n",
       "    document.getElementById(\"refid\").innerHTML = window._pxUuid;\n",
       "    sendEvent(\"captcha/shown?px_uuid=\" + window._pxUuid);\n",
       "  </script>\n",
       "</section>\n",
       "</body>\n",
       "</html>"
      ]
     },
     "execution_count": 17,
     "metadata": {},
     "output_type": "execute_result"
    }
   ],
   "source": [
    "soup"
   ]
  },
  {
   "cell_type": "code",
   "execution_count": null,
   "metadata": {},
   "outputs": [],
   "source": []
  },
  {
   "cell_type": "code",
   "execution_count": null,
   "metadata": {},
   "outputs": [],
   "source": []
  },
  {
   "cell_type": "code",
   "execution_count": null,
   "metadata": {},
   "outputs": [],
   "source": []
  },
  {
   "cell_type": "code",
   "execution_count": null,
   "metadata": {},
   "outputs": [],
   "source": []
  },
  {
   "cell_type": "code",
   "execution_count": null,
   "metadata": {},
   "outputs": [],
   "source": []
  },
  {
   "cell_type": "code",
   "execution_count": null,
   "metadata": {},
   "outputs": [],
   "source": []
  },
  {
   "cell_type": "code",
   "execution_count": 32,
   "metadata": {
    "scrolled": true
   },
   "outputs": [
    {
     "ename": "NoSuchElementException",
     "evalue": "Message: no such element: Unable to locate element: {\"method\":\"xpath\",\"selector\":\"//*[@id=\"main_container\"]/div/div[1]/div/div[2]/section[6]/div[2]/div[1]/div/div/div[0]/ul/li[3]/a\"}\n  (Session info: chrome=73.0.3683.103)\n  (Driver info: chromedriver=2.28.455517 (2c6d2707d8ea850c862f04ac066724273981e88f),platform=Mac OS X 10.13.6 x86_64)\n",
     "output_type": "error",
     "traceback": [
      "\u001b[0;31m---------------------------------------------------------------------------\u001b[0m",
      "\u001b[0;31mNoSuchElementException\u001b[0m                    Traceback (most recent call last)",
      "\u001b[0;32m<ipython-input-32-88b417e87c07>\u001b[0m in \u001b[0;36m<module>\u001b[0;34m\u001b[0m\n\u001b[1;32m      1\u001b[0m \u001b[0mxpath\u001b[0m \u001b[0;34m=\u001b[0m \u001b[0;34m'//*[@id=\"main_container\"]/div/div[1]/div/div[2]/section[6]/div[2]/div[1]/div/div/div[0]/ul/li[3]/a'\u001b[0m\u001b[0;34m\u001b[0m\u001b[0;34m\u001b[0m\u001b[0m\n\u001b[1;32m      2\u001b[0m \u001b[0;34m\u001b[0m\u001b[0m\n\u001b[0;32m----> 3\u001b[0;31m \u001b[0mtranscript\u001b[0m \u001b[0;34m=\u001b[0m \u001b[0mdriver\u001b[0m\u001b[0;34m.\u001b[0m\u001b[0mfind_element_by_xpath\u001b[0m\u001b[0;34m(\u001b[0m\u001b[0mxpath\u001b[0m\u001b[0;34m)\u001b[0m\u001b[0;34m\u001b[0m\u001b[0;34m\u001b[0m\u001b[0m\n\u001b[0m\u001b[1;32m      4\u001b[0m \u001b[0mtranscript\u001b[0m\u001b[0;34m.\u001b[0m\u001b[0mclick\u001b[0m\u001b[0;34m(\u001b[0m\u001b[0;34m)\u001b[0m\u001b[0;34m\u001b[0m\u001b[0;34m\u001b[0m\u001b[0m\n",
      "\u001b[0;32m~/anaconda3/lib/python3.6/site-packages/selenium/webdriver/remote/webdriver.py\u001b[0m in \u001b[0;36mfind_element_by_xpath\u001b[0;34m(self, xpath)\u001b[0m\n\u001b[1;32m    392\u001b[0m             \u001b[0melement\u001b[0m \u001b[0;34m=\u001b[0m \u001b[0mdriver\u001b[0m\u001b[0;34m.\u001b[0m\u001b[0mfind_element_by_xpath\u001b[0m\u001b[0;34m(\u001b[0m\u001b[0;34m'//div/td[1]'\u001b[0m\u001b[0;34m)\u001b[0m\u001b[0;34m\u001b[0m\u001b[0;34m\u001b[0m\u001b[0m\n\u001b[1;32m    393\u001b[0m         \"\"\"\n\u001b[0;32m--> 394\u001b[0;31m         \u001b[0;32mreturn\u001b[0m \u001b[0mself\u001b[0m\u001b[0;34m.\u001b[0m\u001b[0mfind_element\u001b[0m\u001b[0;34m(\u001b[0m\u001b[0mby\u001b[0m\u001b[0;34m=\u001b[0m\u001b[0mBy\u001b[0m\u001b[0;34m.\u001b[0m\u001b[0mXPATH\u001b[0m\u001b[0;34m,\u001b[0m \u001b[0mvalue\u001b[0m\u001b[0;34m=\u001b[0m\u001b[0mxpath\u001b[0m\u001b[0;34m)\u001b[0m\u001b[0;34m\u001b[0m\u001b[0;34m\u001b[0m\u001b[0m\n\u001b[0m\u001b[1;32m    395\u001b[0m \u001b[0;34m\u001b[0m\u001b[0m\n\u001b[1;32m    396\u001b[0m     \u001b[0;32mdef\u001b[0m \u001b[0mfind_elements_by_xpath\u001b[0m\u001b[0;34m(\u001b[0m\u001b[0mself\u001b[0m\u001b[0;34m,\u001b[0m \u001b[0mxpath\u001b[0m\u001b[0;34m)\u001b[0m\u001b[0;34m:\u001b[0m\u001b[0;34m\u001b[0m\u001b[0;34m\u001b[0m\u001b[0m\n",
      "\u001b[0;32m~/anaconda3/lib/python3.6/site-packages/selenium/webdriver/remote/webdriver.py\u001b[0m in \u001b[0;36mfind_element\u001b[0;34m(self, by, value)\u001b[0m\n\u001b[1;32m    976\u001b[0m         return self.execute(Command.FIND_ELEMENT, {\n\u001b[1;32m    977\u001b[0m             \u001b[0;34m'using'\u001b[0m\u001b[0;34m:\u001b[0m \u001b[0mby\u001b[0m\u001b[0;34m,\u001b[0m\u001b[0;34m\u001b[0m\u001b[0;34m\u001b[0m\u001b[0m\n\u001b[0;32m--> 978\u001b[0;31m             'value': value})['value']\n\u001b[0m\u001b[1;32m    979\u001b[0m \u001b[0;34m\u001b[0m\u001b[0m\n\u001b[1;32m    980\u001b[0m     \u001b[0;32mdef\u001b[0m \u001b[0mfind_elements\u001b[0m\u001b[0;34m(\u001b[0m\u001b[0mself\u001b[0m\u001b[0;34m,\u001b[0m \u001b[0mby\u001b[0m\u001b[0;34m=\u001b[0m\u001b[0mBy\u001b[0m\u001b[0;34m.\u001b[0m\u001b[0mID\u001b[0m\u001b[0;34m,\u001b[0m \u001b[0mvalue\u001b[0m\u001b[0;34m=\u001b[0m\u001b[0;32mNone\u001b[0m\u001b[0;34m)\u001b[0m\u001b[0;34m:\u001b[0m\u001b[0;34m\u001b[0m\u001b[0;34m\u001b[0m\u001b[0m\n",
      "\u001b[0;32m~/anaconda3/lib/python3.6/site-packages/selenium/webdriver/remote/webdriver.py\u001b[0m in \u001b[0;36mexecute\u001b[0;34m(self, driver_command, params)\u001b[0m\n\u001b[1;32m    319\u001b[0m         \u001b[0mresponse\u001b[0m \u001b[0;34m=\u001b[0m \u001b[0mself\u001b[0m\u001b[0;34m.\u001b[0m\u001b[0mcommand_executor\u001b[0m\u001b[0;34m.\u001b[0m\u001b[0mexecute\u001b[0m\u001b[0;34m(\u001b[0m\u001b[0mdriver_command\u001b[0m\u001b[0;34m,\u001b[0m \u001b[0mparams\u001b[0m\u001b[0;34m)\u001b[0m\u001b[0;34m\u001b[0m\u001b[0;34m\u001b[0m\u001b[0m\n\u001b[1;32m    320\u001b[0m         \u001b[0;32mif\u001b[0m \u001b[0mresponse\u001b[0m\u001b[0;34m:\u001b[0m\u001b[0;34m\u001b[0m\u001b[0;34m\u001b[0m\u001b[0m\n\u001b[0;32m--> 321\u001b[0;31m             \u001b[0mself\u001b[0m\u001b[0;34m.\u001b[0m\u001b[0merror_handler\u001b[0m\u001b[0;34m.\u001b[0m\u001b[0mcheck_response\u001b[0m\u001b[0;34m(\u001b[0m\u001b[0mresponse\u001b[0m\u001b[0;34m)\u001b[0m\u001b[0;34m\u001b[0m\u001b[0;34m\u001b[0m\u001b[0m\n\u001b[0m\u001b[1;32m    322\u001b[0m             response['value'] = self._unwrap_value(\n\u001b[1;32m    323\u001b[0m                 response.get('value', None))\n",
      "\u001b[0;32m~/anaconda3/lib/python3.6/site-packages/selenium/webdriver/remote/errorhandler.py\u001b[0m in \u001b[0;36mcheck_response\u001b[0;34m(self, response)\u001b[0m\n\u001b[1;32m    240\u001b[0m                 \u001b[0malert_text\u001b[0m \u001b[0;34m=\u001b[0m \u001b[0mvalue\u001b[0m\u001b[0;34m[\u001b[0m\u001b[0;34m'alert'\u001b[0m\u001b[0;34m]\u001b[0m\u001b[0;34m.\u001b[0m\u001b[0mget\u001b[0m\u001b[0;34m(\u001b[0m\u001b[0;34m'text'\u001b[0m\u001b[0;34m)\u001b[0m\u001b[0;34m\u001b[0m\u001b[0;34m\u001b[0m\u001b[0m\n\u001b[1;32m    241\u001b[0m             \u001b[0;32mraise\u001b[0m \u001b[0mexception_class\u001b[0m\u001b[0;34m(\u001b[0m\u001b[0mmessage\u001b[0m\u001b[0;34m,\u001b[0m \u001b[0mscreen\u001b[0m\u001b[0;34m,\u001b[0m \u001b[0mstacktrace\u001b[0m\u001b[0;34m,\u001b[0m \u001b[0malert_text\u001b[0m\u001b[0;34m)\u001b[0m\u001b[0;34m\u001b[0m\u001b[0;34m\u001b[0m\u001b[0m\n\u001b[0;32m--> 242\u001b[0;31m         \u001b[0;32mraise\u001b[0m \u001b[0mexception_class\u001b[0m\u001b[0;34m(\u001b[0m\u001b[0mmessage\u001b[0m\u001b[0;34m,\u001b[0m \u001b[0mscreen\u001b[0m\u001b[0;34m,\u001b[0m \u001b[0mstacktrace\u001b[0m\u001b[0;34m)\u001b[0m\u001b[0;34m\u001b[0m\u001b[0;34m\u001b[0m\u001b[0m\n\u001b[0m\u001b[1;32m    243\u001b[0m \u001b[0;34m\u001b[0m\u001b[0m\n\u001b[1;32m    244\u001b[0m     \u001b[0;32mdef\u001b[0m \u001b[0m_value_or_default\u001b[0m\u001b[0;34m(\u001b[0m\u001b[0mself\u001b[0m\u001b[0;34m,\u001b[0m \u001b[0mobj\u001b[0m\u001b[0;34m,\u001b[0m \u001b[0mkey\u001b[0m\u001b[0;34m,\u001b[0m \u001b[0mdefault\u001b[0m\u001b[0;34m)\u001b[0m\u001b[0;34m:\u001b[0m\u001b[0;34m\u001b[0m\u001b[0;34m\u001b[0m\u001b[0m\n",
      "\u001b[0;31mNoSuchElementException\u001b[0m: Message: no such element: Unable to locate element: {\"method\":\"xpath\",\"selector\":\"//*[@id=\"main_container\"]/div/div[1]/div/div[2]/section[6]/div[2]/div[1]/div/div/div[0]/ul/li[3]/a\"}\n  (Session info: chrome=73.0.3683.103)\n  (Driver info: chromedriver=2.28.455517 (2c6d2707d8ea850c862f04ac066724273981e88f),platform=Mac OS X 10.13.6 x86_64)\n"
     ]
    }
   ],
   "source": [
    "xpath = '//*[@id=\"main_container\"]/div/div[1]/div/div[2]/section[6]/div[2]/div[1]/div/div/div[0]/ul/li[3]/a'\n",
    "\n",
    "transcript = driver.find_element_by_xpath(xpath)\n",
    "transcript.click()\n"
   ]
  },
  {
   "cell_type": "code",
   "execution_count": 20,
   "metadata": {},
   "outputs": [],
   "source": [
    "xpath= '//*[@id=\"summaries\"]/div/div/div[2]/div/div[3]/ul/li/a '\n",
    "link = driver.find_element_by_xpath(xpath)\n",
    "link.click()\n"
   ]
  },
  {
   "cell_type": "code",
   "execution_count": null,
   "metadata": {},
   "outputs": [],
   "source": []
  }
 ],
 "metadata": {
  "kernelspec": {
   "display_name": "Python 3",
   "language": "python",
   "name": "python3"
  },
  "language_info": {
   "codemirror_mode": {
    "name": "ipython",
    "version": 3
   },
   "file_extension": ".py",
   "mimetype": "text/x-python",
   "name": "python",
   "nbconvert_exporter": "python",
   "pygments_lexer": "ipython3",
   "version": "3.6.8"
  },
  "toc": {
   "base_numbering": 1,
   "nav_menu": {},
   "number_sections": true,
   "sideBar": true,
   "skip_h1_title": false,
   "title_cell": "Table of Contents",
   "title_sidebar": "Contents",
   "toc_cell": true,
   "toc_position": {},
   "toc_section_display": true,
   "toc_window_display": true
  }
 },
 "nbformat": 4,
 "nbformat_minor": 2
}
