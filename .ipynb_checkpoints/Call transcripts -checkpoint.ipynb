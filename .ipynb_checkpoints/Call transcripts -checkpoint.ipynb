{
 "cells": [
  {
   "cell_type": "markdown",
   "metadata": {
    "toc": true
   },
   "source": [
    "<h1>Table of Contents<span class=\"tocSkip\"></span></h1>\n",
    "<div class=\"toc\"><ul class=\"toc-item\"></ul></div>"
   ]
  },
  {
   "cell_type": "code",
   "execution_count": 113,
   "metadata": {
    "scrolled": true
   },
   "outputs": [
    {
     "ename": "ModuleNotFoundError",
     "evalue": "No module named 'textstat'",
     "output_type": "error",
     "traceback": [
      "\u001b[0;31m---------------------------------------------------------------------------\u001b[0m",
      "\u001b[0;31mModuleNotFoundError\u001b[0m                       Traceback (most recent call last)",
      "\u001b[0;32m<ipython-input-113-67883a04ee63>\u001b[0m in \u001b[0;36m<module>\u001b[0;34m\u001b[0m\n\u001b[1;32m      2\u001b[0m \u001b[0;32mimport\u001b[0m \u001b[0mdatetime\u001b[0m\u001b[0;34m\u001b[0m\u001b[0;34m\u001b[0m\u001b[0m\n\u001b[1;32m      3\u001b[0m \u001b[0;32mimport\u001b[0m \u001b[0mre\u001b[0m\u001b[0;34m\u001b[0m\u001b[0;34m\u001b[0m\u001b[0m\n\u001b[0;32m----> 4\u001b[0;31m \u001b[0;32mfrom\u001b[0m \u001b[0mtextstat\u001b[0m\u001b[0;34m.\u001b[0m\u001b[0mtextstat\u001b[0m \u001b[0;32mimport\u001b[0m \u001b[0mtextstat\u001b[0m\u001b[0;34m\u001b[0m\u001b[0;34m\u001b[0m\u001b[0m\n\u001b[0m",
      "\u001b[0;31mModuleNotFoundError\u001b[0m: No module named 'textstat'"
     ]
    }
   ],
   "source": [
    "import pandas as pd\n",
    "import datetime\n",
    "import re\n",
    "from textstat.textstat import textstat "
   ]
  },
  {
   "cell_type": "code",
   "execution_count": 18,
   "metadata": {},
   "outputs": [
    {
     "data": {
      "text/plain": [
       "['data/Tesla (TSLA) Q3 2017 Results - Earnings Call Transcript.txt',\n",
       " 'data/Tesla, Inc. (TSLA) CEO Elon Musk on Q4 2018 Results - Earnings Call Transcript.txt',\n",
       " 'data/Tesla, Inc (TSLA) CEO Elon Musk on Q1 2019 Results - Earnings Call Transcript .txt',\n",
       " 'data/Tesla (TSLA) Q2 2017 Results - Earnings Call Transcript.txt',\n",
       " 'data/Tesla (TSLA) Q1 2018 Results - Earnings Call Transcript.txt',\n",
       " 'data/Tesla (TSLA) Q1 2017 Results - Earnings Call Transcript.txt',\n",
       " 'data/Tesla (TSLA) Q2 2018 Results - Earnings Call Transcript.txt',\n",
       " 'data/Tesla (TSLA) Q4 2017 Results - Earnings Call Transcript.txt',\n",
       " 'data/Tesla Inc. (TSLA) CEO Elon Musk on Q3 2018 Results - Earnings Call Transcript.txt']"
      ]
     },
     "execution_count": 18,
     "metadata": {},
     "output_type": "execute_result"
    }
   ],
   "source": [
    "import glob\n",
    "\n",
    "fn = []\n",
    "for filename in glob.glob('data/*.txt'):\n",
    "    fn.append(filename)\n",
    "fn"
   ]
  },
  {
   "cell_type": "code",
   "execution_count": 20,
   "metadata": {
    "scrolled": true
   },
   "outputs": [
    {
     "data": {
      "text/plain": [
       "9"
      ]
     },
     "execution_count": 20,
     "metadata": {},
     "output_type": "execute_result"
    }
   ],
   "source": [
    "text = []\n",
    "for i in fn: \n",
    "    with open(i, 'r') as f:\n",
    "        cont = f.read()\n",
    "        text.append(cont)\n",
    "len(text)"
   ]
  },
  {
   "cell_type": "code",
   "execution_count": 84,
   "metadata": {},
   "outputs": [
    {
     "data": {
      "text/plain": [
       "['Q3 2017',\n",
       " 'Q4 2018',\n",
       " 'Q1 2019',\n",
       " 'Q2 2017',\n",
       " 'Q1 2018',\n",
       " 'Q1 2017',\n",
       " 'Q2 2018',\n",
       " 'Q4 2017',\n",
       " 'Q3 2018']"
      ]
     },
     "execution_count": 84,
     "metadata": {},
     "output_type": "execute_result"
    }
   ],
   "source": [
    "transcript_quarter= []\n",
    "transcript_company = []\n",
    "\n",
    "for i in fn: \n",
    "    transcript_quarter.append(re.findall(r'Q\\d \\d{4}', i)[0]) #[[1],[2]], get the object itself \n",
    "    transcript_company.append(re.findall(r'\\(([^\\)]+)\\)', i)[0])\n",
    "# transcript_company\n",
    "transcript_quarter"
   ]
  },
  {
   "cell_type": "code",
   "execution_count": 82,
   "metadata": {},
   "outputs": [],
   "source": [
    "df = pd.DataFrame(text, columns=[ 'transcripts'])\n",
    "#df.iloc[0,0]"
   ]
  },
  {
   "cell_type": "code",
   "execution_count": 98,
   "metadata": {
    "scrolled": true
   },
   "outputs": [
    {
     "data": {
      "text/html": [
       "<div>\n",
       "<style scoped>\n",
       "    .dataframe tbody tr th:only-of-type {\n",
       "        vertical-align: middle;\n",
       "    }\n",
       "\n",
       "    .dataframe tbody tr th {\n",
       "        vertical-align: top;\n",
       "    }\n",
       "\n",
       "    .dataframe thead th {\n",
       "        text-align: right;\n",
       "    }\n",
       "</style>\n",
       "<table border=\"1\" class=\"dataframe\">\n",
       "  <thead>\n",
       "    <tr style=\"text-align: right;\">\n",
       "      <th></th>\n",
       "      <th>transcripts</th>\n",
       "      <th>transcript_quarter</th>\n",
       "      <th>transcript_company</th>\n",
       "    </tr>\n",
       "  </thead>\n",
       "  <tbody>\n",
       "    <tr>\n",
       "      <th>0</th>\n",
       "      <td>Tesla (TSLA) Q3 2017 Results - Earnings Call T...</td>\n",
       "      <td>Q3 2017</td>\n",
       "      <td>TSLA</td>\n",
       "    </tr>\n",
       "    <tr>\n",
       "      <th>1</th>\n",
       "      <td>Tesla, Inc. (TSLA) CEO Elon Musk on Q4 2018 Re...</td>\n",
       "      <td>Q4 2018</td>\n",
       "      <td>TSLA</td>\n",
       "    </tr>\n",
       "    <tr>\n",
       "      <th>2</th>\n",
       "      <td>Tesla, Inc (TSLA) CEO Elon Musk on Q1 2019 Res...</td>\n",
       "      <td>Q1 2019</td>\n",
       "      <td>TSLA</td>\n",
       "    </tr>\n",
       "    <tr>\n",
       "      <th>3</th>\n",
       "      <td>Tesla (TSLA) Q2 2017 Results - Earnings Call T...</td>\n",
       "      <td>Q2 2017</td>\n",
       "      <td>TSLA</td>\n",
       "    </tr>\n",
       "    <tr>\n",
       "      <th>4</th>\n",
       "      <td>Tesla (TSLA) Q1 2018 Results - Earnings Call T...</td>\n",
       "      <td>Q1 2018</td>\n",
       "      <td>TSLA</td>\n",
       "    </tr>\n",
       "    <tr>\n",
       "      <th>5</th>\n",
       "      <td>Tesla (TSLA) Q1 2017 Results - Earnings Call T...</td>\n",
       "      <td>Q1 2017</td>\n",
       "      <td>TSLA</td>\n",
       "    </tr>\n",
       "    <tr>\n",
       "      <th>6</th>\n",
       "      <td>Tesla (TSLA) Q2 2018 Results - Earnings Call T...</td>\n",
       "      <td>Q2 2018</td>\n",
       "      <td>TSLA</td>\n",
       "    </tr>\n",
       "    <tr>\n",
       "      <th>7</th>\n",
       "      <td>Tesla (TSLA) Q4 2017 Results - Earnings Call T...</td>\n",
       "      <td>Q4 2017</td>\n",
       "      <td>TSLA</td>\n",
       "    </tr>\n",
       "    <tr>\n",
       "      <th>8</th>\n",
       "      <td>Tesla Inc. (TSLA) CEO Elon Musk on Q3 2018 Res...</td>\n",
       "      <td>Q3 2018</td>\n",
       "      <td>TSLA</td>\n",
       "    </tr>\n",
       "  </tbody>\n",
       "</table>\n",
       "</div>"
      ],
      "text/plain": [
       "                                         transcripts transcript_quarter  \\\n",
       "0  Tesla (TSLA) Q3 2017 Results - Earnings Call T...            Q3 2017   \n",
       "1  Tesla, Inc. (TSLA) CEO Elon Musk on Q4 2018 Re...            Q4 2018   \n",
       "2  Tesla, Inc (TSLA) CEO Elon Musk on Q1 2019 Res...            Q1 2019   \n",
       "3  Tesla (TSLA) Q2 2017 Results - Earnings Call T...            Q2 2017   \n",
       "4  Tesla (TSLA) Q1 2018 Results - Earnings Call T...            Q1 2018   \n",
       "5  Tesla (TSLA) Q1 2017 Results - Earnings Call T...            Q1 2017   \n",
       "6  Tesla (TSLA) Q2 2018 Results - Earnings Call T...            Q2 2018   \n",
       "7  Tesla (TSLA) Q4 2017 Results - Earnings Call T...            Q4 2017   \n",
       "8  Tesla Inc. (TSLA) CEO Elon Musk on Q3 2018 Res...            Q3 2018   \n",
       "\n",
       "  transcript_company  \n",
       "0               TSLA  \n",
       "1               TSLA  \n",
       "2               TSLA  \n",
       "3               TSLA  \n",
       "4               TSLA  \n",
       "5               TSLA  \n",
       "6               TSLA  \n",
       "7               TSLA  \n",
       "8               TSLA  "
      ]
     },
     "execution_count": 98,
     "metadata": {},
     "output_type": "execute_result"
    }
   ],
   "source": [
    "df['transcript_quarter'] = transcript_quarter\n",
    "df['transcript_company'] = transcript_company\n",
    "df"
   ]
  },
  {
   "cell_type": "code",
   "execution_count": 135,
   "metadata": {},
   "outputs": [
    {
     "data": {
      "text/html": [
       "<div>\n",
       "<style scoped>\n",
       "    .dataframe tbody tr th:only-of-type {\n",
       "        vertical-align: middle;\n",
       "    }\n",
       "\n",
       "    .dataframe tbody tr th {\n",
       "        vertical-align: top;\n",
       "    }\n",
       "\n",
       "    .dataframe thead th {\n",
       "        text-align: right;\n",
       "    }\n",
       "</style>\n",
       "<table border=\"1\" class=\"dataframe\">\n",
       "  <thead>\n",
       "    <tr style=\"text-align: right;\">\n",
       "      <th></th>\n",
       "      <th>transcripts</th>\n",
       "      <th>transcript_quarter</th>\n",
       "      <th>transcript_company</th>\n",
       "      <th>Text_QA</th>\n",
       "    </tr>\n",
       "  </thead>\n",
       "  <tbody>\n",
       "    <tr>\n",
       "      <th>0</th>\n",
       "      <td>Tesla (TSLA) Q3 2017 Results - Earnings Call T...</td>\n",
       "      <td>Q3 2017</td>\n",
       "      <td>TSLA</td>\n",
       "      <td>[.]</td>\n",
       "    </tr>\n",
       "    <tr>\n",
       "      <th>1</th>\n",
       "      <td>Tesla, Inc. (TSLA) CEO Elon Musk on Q4 2018 Re...</td>\n",
       "      <td>Q4 2018</td>\n",
       "      <td>TSLA</td>\n",
       "      <td>[\\n]</td>\n",
       "    </tr>\n",
       "    <tr>\n",
       "      <th>2</th>\n",
       "      <td>Tesla, Inc (TSLA) CEO Elon Musk on Q1 2019 Res...</td>\n",
       "      <td>Q1 2019</td>\n",
       "      <td>TSLA</td>\n",
       "      <td>[\\n]</td>\n",
       "    </tr>\n",
       "    <tr>\n",
       "      <th>3</th>\n",
       "      <td>Tesla (TSLA) Q2 2017 Results - Earnings Call T...</td>\n",
       "      <td>Q2 2017</td>\n",
       "      <td>TSLA</td>\n",
       "      <td>[.]</td>\n",
       "    </tr>\n",
       "    <tr>\n",
       "      <th>4</th>\n",
       "      <td>Tesla (TSLA) Q1 2018 Results - Earnings Call T...</td>\n",
       "      <td>Q1 2018</td>\n",
       "      <td>TSLA</td>\n",
       "      <td>[\\n]</td>\n",
       "    </tr>\n",
       "    <tr>\n",
       "      <th>5</th>\n",
       "      <td>Tesla (TSLA) Q1 2017 Results - Earnings Call T...</td>\n",
       "      <td>Q1 2017</td>\n",
       "      <td>TSLA</td>\n",
       "      <td>[.]</td>\n",
       "    </tr>\n",
       "    <tr>\n",
       "      <th>6</th>\n",
       "      <td>Tesla (TSLA) Q2 2018 Results - Earnings Call T...</td>\n",
       "      <td>Q2 2018</td>\n",
       "      <td>TSLA</td>\n",
       "      <td>[.]</td>\n",
       "    </tr>\n",
       "    <tr>\n",
       "      <th>7</th>\n",
       "      <td>Tesla (TSLA) Q4 2017 Results - Earnings Call T...</td>\n",
       "      <td>Q4 2017</td>\n",
       "      <td>TSLA</td>\n",
       "      <td>[.]</td>\n",
       "    </tr>\n",
       "    <tr>\n",
       "      <th>8</th>\n",
       "      <td>Tesla Inc. (TSLA) CEO Elon Musk on Q3 2018 Res...</td>\n",
       "      <td>Q3 2018</td>\n",
       "      <td>TSLA</td>\n",
       "      <td>[.]</td>\n",
       "    </tr>\n",
       "  </tbody>\n",
       "</table>\n",
       "</div>"
      ],
      "text/plain": [
       "                                         transcripts transcript_quarter  \\\n",
       "0  Tesla (TSLA) Q3 2017 Results - Earnings Call T...            Q3 2017   \n",
       "1  Tesla, Inc. (TSLA) CEO Elon Musk on Q4 2018 Re...            Q4 2018   \n",
       "2  Tesla, Inc (TSLA) CEO Elon Musk on Q1 2019 Res...            Q1 2019   \n",
       "3  Tesla (TSLA) Q2 2017 Results - Earnings Call T...            Q2 2017   \n",
       "4  Tesla (TSLA) Q1 2018 Results - Earnings Call T...            Q1 2018   \n",
       "5  Tesla (TSLA) Q1 2017 Results - Earnings Call T...            Q1 2017   \n",
       "6  Tesla (TSLA) Q2 2018 Results - Earnings Call T...            Q2 2018   \n",
       "7  Tesla (TSLA) Q4 2017 Results - Earnings Call T...            Q4 2017   \n",
       "8  Tesla Inc. (TSLA) CEO Elon Musk on Q3 2018 Res...            Q3 2018   \n",
       "\n",
       "  transcript_company Text_QA  \n",
       "0               TSLA     [.]  \n",
       "1               TSLA    [\\n]  \n",
       "2               TSLA    [\\n]  \n",
       "3               TSLA     [.]  \n",
       "4               TSLA    [\\n]  \n",
       "5               TSLA     [.]  \n",
       "6               TSLA     [.]  \n",
       "7               TSLA     [.]  \n",
       "8               TSLA     [.]  "
      ]
     },
     "execution_count": 135,
     "metadata": {},
     "output_type": "execute_result"
    }
   ],
   "source": [
    "df."
   ]
  },
  {
   "cell_type": "code",
   "execution_count": 132,
   "metadata": {},
   "outputs": [],
   "source": [
    "df['Text_QA']= [get_QA('||'.join(x)).split('||') for x in df.loc[:,'transcripts']]"
   ]
  },
  {
   "cell_type": "code",
   "execution_count": 142,
   "metadata": {},
   "outputs": [
    {
     "data": {
      "text/plain": [
       "0    Tesla (TSLA) Q3 2017 Results - Earnings Call T...\n",
       "1    Tesla, Inc. (TSLA) CEO Elon Musk on Q4 2018 Re...\n",
       "2    Tesla, Inc (TSLA) CEO Elon Musk on Q1 2019 Res...\n",
       "3    Tesla (TSLA) Q2 2017 Results - Earnings Call T...\n",
       "4    Tesla (TSLA) Q1 2018 Results - Earnings Call T...\n",
       "5    Tesla (TSLA) Q1 2017 Results - Earnings Call T...\n",
       "6    Tesla (TSLA) Q2 2018 Results - Earnings Call T...\n",
       "7    Tesla (TSLA) Q4 2017 Results - Earnings Call T...\n",
       "8    Tesla Inc. (TSLA) CEO Elon Musk on Q3 2018 Res...\n",
       "Name: Text_QA, dtype: object"
      ]
     },
     "execution_count": 142,
     "metadata": {},
     "output_type": "execute_result"
    }
   ],
   "source": [
    "ma = []\n",
    "for i in df.transcripts: \n",
    "    ma.append(get_MD(i))\n",
    "df['Text_QA'] = ma\n",
    "df.Text_QA"
   ]
  },
  {
   "cell_type": "code",
   "execution_count": 128,
   "metadata": {},
   "outputs": [],
   "source": [
    "# M&A part:\n",
    "def get_Mgmt(text):\n",
    "    pos = text.find('Question-')\n",
    "    return text[:pos]\n",
    "\n",
    "# M&A part:\n",
    "def get_QA(text):\n",
    "    pos = text.find('Question-and-Answer')\n",
    "    return text[pos:]"
   ]
  },
  {
   "cell_type": "code",
   "execution_count": 129,
   "metadata": {
    "scrolled": true
   },
   "outputs": [
    {
     "data": {
      "text/plain": [
       "\"Tesla (TSLA) Q3 2017 Results - Earnings Call Transcript\\nNov. 2, 2017 2:33 AM ET|\\n219 comments |\\nAbout: Tesla, Inc. (TSLA)\\nThis article is exclusive for subscribers.\\nQ3: 11-01-17 Earnings Summary\\n\\n    10-Q\\n\\nEPS of $-2.92 misses by $-0.63\\nRevenue of $2.98B (29.86% Y/Y) beats by $46.14M\\n\\nTesla, Inc. (NASDAQ:TSLA) Q3 2017 Earnings Call November 1, 2017 5:30 PM ET\\n\\nExecutives\\n\\nJeffrey K. Evanson - Tesla, Inc.\\n\\nElon Reeve Musk - Tesla, Inc.\\n\\nDeepak Ahuja - Tesla, Inc.\\n\\nJeffrey B. Straubel - Tesla, Inc.\\n\\nDoug Field - Tesla Inc.\\n\\nJonathan McNeill - Tesla, Inc.\\n\\nAnalysts\\n\\nJames J. Albertine - Consumer Edge Research LLC\\n\\nAdam Michael Jonas - Morgan Stanley & Co. LLC\\n\\nBenjamin Joseph Kallo - Robert W. Baird & Co., Inc.\\n\\nRomit Jitendra Shah - Nomura Instinet\\n\\nJohn Murphy - Bank of America Merrill Lynch\\n\\nRyan Brinkman - JPMorgan Securities LLC\\n\\nAlexander Eugene Potter - Piper Jaffray & Co.\\n\\nRod Lache - Deutsche Bank Securities, Inc.\\n\\nAntonio M. Sacconaghi - Sanford C. Bernstein & Co. LLC\\n\\nBrian A. Johnson - Barclays Capital, Inc.\\n\\nJoseph Spak - RBC Capital Markets LLC\\n\\nColin Rusch - Oppenheimer & Co., Inc.\\n\\nRobert Cihra - Guggenheim Securities LLC\\n\\nOperator\\n\\nGood day, ladies and gentlemen, and thank you for your patience. You've joined the Tesla Motors Third Quarter 2017 Financial Results Q&A Conference Call. At this time, all participants are in a listen-only mode. Later we will conduct a question-and-answer session and instructions will be given at that time. As a reminder, this conference maybe recorded.\\n\\nI would now like to turn the call over to your host, VP of Investor Relations, Mr. Jeff Evanson. Sir, you may now begin.\\n\\nJeffrey K. Evanson - Tesla, Inc.\\n\\nThank you, Latiff, and good afternoon, everyone. Welcome to Tesla's third quarter 2017 Q&A webcast. I'm joined today by Elon Musk; JB Straubel; Deepak Ahuja; and Jon McNeill. Our third quarter results were previously announced in the update letter we published at the same link as this webcast.\\n\\nDuring this call, we will discuss our business outlook and make forward-looking statements. These comments are based on our predictions and expectations as of today. Actual events or results could differ materially due to a number of risks and uncertainties including those mentioned in our most recent filings with the SEC.\\n\\nDuring the question-and-answer portion of today's call, please limit yourselves to one question and one follow-up, so we can get to everybody in the queue.\\n\\nBefore we jump into the Q&A, Elon has some opening remarks. Elon?\\n\\nElon Reeve Musk - Tesla, Inc.\\n\\nSo, sorry, one minute, I have a bit of a cold, so, yes I'm actually – we're doing this call from the Gigafactory because that's where the production constraint is for Model 3, the most important thing for the company, and I always move my desk to wherever – well, I don't really have a desk, actually. I move myself to wherever the biggest problem is in Tesla, so I'm at – I really believe that one should lead from the front lines and that's why I'm here.\\n\\nI will go into some of the Gigafactory issues later in the call, but I'd like to start off by acknowledging some I think pretty amazing milestones for Tesla. One thing that I thought was really profound was that we surpassed cumulative deliveries of vehicles. We surpassed a 0.25 million cumulative deliveries since the company's inception and had record Model S and Model X net orders and deliveries last quarter, so things are really going quite well.\\n\\nTo put that into perspective, five years ago we had only delivered 2500 cars, so the Tesla fleet has grown by a factor of 100 in five years. I would expect five years from now to be at least an order of magnitude beyond where we are right now and possibly even close to two orders of (3:34) magnitude. But for the skeptics out there, I'd like to say – ask them which one of you predicted that Tesla would go from 2500 units delivered to 250,000 units delivered now. I suspect the answer is zero.\\n\\nSo consider your assumptions for the future and whether they're valid or perhaps pessimistic.\\n\\nSo for Model 3, we continue to make significant progress each week. We've had no problems with our supply chain or any of our production processes. Obviously, there are bottlenecks. There are thousands of processes in creating the Model 3, and we will move as fast as the slowest and least lucky process among those thousands.\\n\\nIn fact, there's 10,000 unique parts, so to be more accurate, there're tens of thousands of processes necessary to produce the car. We will move as fast as the least competent and least lucky elements of that mixture. So while the vast majority are going incredibly well, there are some problem areas. After I give the business overview, I'll do a deep dive into the biggest problem area.\\n\\nSo, based on what we know now as we've gotten really into the details of some of the worst bottlenecks, we expect to achieve a production rate of 5,000 Model 3 vehicles per week by late Q1 2018, so probably sometime in March. I think in the grand scheme of things this is a relatively small shift, the Model 3 is a 10-year program, and so we're talking about a few months out of a 10-year program. It's in the grand scheme of things (5:53) net present value calculation, this is immaterial.\\n\\nAnd we have a clear path to that. We understand the bottlenecks. It's difficult to fully understand these things but we actually try to do them. And it's worth noting that some of our manufacturing areas we're actually seeing capabilities that we estimate in the 6,000 unit to 7,000 unit per week capability, well in excess of the 5,000 unit capability and we're optimistic with further optimization that many of our production processes will meet very little and in some cases no, so I'm not saying no, but almost no CapEx to reach something close to 10,000 units a week.\\n\\nIt's remarkable how much can be done by just beating up robots, shortening the path, intensifying (7:05) the factory, adding additional robots at choke points and just making lines go really, really fast. Speed is the ultimate weapon. And the design intent of the Model 3 being that its design manufacturability is turning out to be accurate, it is far easier to build this car than a Model S, and vastly easier than a Model X.\\n\\nThe primary production constraint really, by far, is in battery module assembly. So a little bit of a deep dive on that. There are four zones to module manufacturing it goes through four major production zones. The zones three and four are in good shape, zones one and two are not. Zone two in particular, we had a subcontractor, a systems integration subcontractor, that unfortunately really dropped the ball, and we did not realize the degree to which the ball was dropped until quite recently, and this is a very complex manufacturing area. We had to rewrite all of the software from scratch, and redo many of the mechanical and electrical elements of zone two of module production.\\n\\nWe've managed to rewrite what was about 20 to 30 man years of software in four weeks, but there's still a long way to go. Because the software working with the electromechanical elements need to be fabricated and installed, and getting those atoms in place and rebuilt is, unfortunately, a lot longer, and has far more external constraints, than software.\\n\\nThis is where I spent many a late night on the Gigafactory working on. JB has been here constantly, and we reallocated many of our best engineers to fundamentally fixing zone two of the module line, and then (10:05) is zone one.\\n\\nOn the plus side, we now have a very detailed understanding of what is necessary to fix zone one and zone two. We also have a new design for zone one and two that is about three times more effective than the car design. So when we put in – and there are three lines of module production. Lines one, two, and three are essentially identical.\\n\\nLine 4, which will be the new design, will be at triple the effectiveness of – will be as good as the other three lines combined. So we're very confident about a future path of having incredibly efficient production of modules, and that this will not be a constraint in the future but, unfortunately, it just takes some amount of time. This is like moving like lightning compared to what is normal in the automotive industry. There's still some finite amount of time necessary to fix something that we thought was in good shape. We were told by our supplier it was in good shape, but was really not. So this has now been classified (11:31) Tesla's internal automation group in the U.S. – and Tesla Automation U.S. and Tesla Grohmann from Germany, we have a large team from Tesla Grohmann also working the issue, and making very rapid progress.\\n\\nAnd like I said, I am personally on that line, in that machine, (11:57) personally where I can. And JB is basically spending his life at the Gigafactory. So that's the sort of deep dive on that front.\\n\\nThe other thing I want to mention, there are a lot of articles about Tesla firing employees and layoffs (12:20), these are really ridiculous. And any journalist who has written articles to this effect should be ashamed of themselves for lack of journalistic integrity. Every company in the world, there's annual performance reviews. In our annual performance review, despite Tesla having an extremely high standard, a standard far higher than other car companies, which we need to have in order to survive against much larger car companies; you can't be a little guy and have equal levels of skill as the big guy.\\n\\nIf you have two boxers of equal ability and one's much smaller, the big guy's going to crush the little guy, obviously. So little guy better have heck of a lot more skill, and that is why – or he (13:11) is going to clobbered. So that is why our standards are high. They're not high because we believe in being mean to people. They're high because, if they're not high, we will die. Despite that, in our annual performance reviews, only 2% of people didn't make the grade. So that's about 700 people out of 33,000. This is a very low percentage. GE, I don't know if they still do, but they certainly for a long time had a policy of firing 10% of their employees performance every year, no matter what.\\n\\nIf you were to stack Tesla's performance later releases compared to other companies, the number would be low. So the only reason these articles had any play whatsoever is because journalists and editors with low integrity, they'll provide any context for where they stood (14:11) because the actual article would've read, Tesla fires 2% of its employee base for performance-based reasons, a remarkably lower number compared to other companies. But of course, that would be a meaningless article, so they forget to include that. Shame. And then also, it was not reported that several thousand employees were promoted, and almost half those promotions were in manufacturing.\\n\\nRight. I think, let's move to questions.\\n\\nJeffrey K. Evanson - Tesla, Inc.\\n\\nOkay, Latiff, let's go to the question queue, please.\\n\\n\""
      ]
     },
     "execution_count": 129,
     "metadata": {},
     "output_type": "execute_result"
    }
   ],
   "source": [
    "get_MD(text)"
   ]
  },
  {
   "cell_type": "code",
   "execution_count": 130,
   "metadata": {},
   "outputs": [
    {
     "data": {
      "text/plain": [
       "\"Question-and-Answer Session\\n\\nOperator\\n\\nOur first question comes from the line of James Albertine of Consumer Edge. Your line is open.\\n\\nJames J. Albertine - Consumer Edge Research LLC\\n\\nGreat. Thank you and good afternoon everyone. I wanted to ask with respect to – and Elon, thank you for doing the deeper dive into the zones and the bottlenecks. How does this change the trajectory or does it change the trajectory from a margin perspective on the Model 3? And then maybe as an aside, can you tell us where you are today on a production per week basis and where you expect to be by the end of 2017, just so we can get an idea of the ramp? Thanks.\\n\\nElon Reeve Musk - Tesla, Inc.\\n\\nI don't want to go into like the week by week stuff. The reason it's tricky is because people just read too much into it. The ramp curve is a step exponential, so it means like as you alleviate a constraint, the production suddenly jumps to a much higher number. And so, although it looks a little staggered if you sort of zoom out, that production ramp is exponential with week over week increases.\\n\\nI'd like to state a number at the end of Q4, but there's too much uncertainty right now to give that with any precision. Now I do feel confident about the end of Q1, maybe sooner. But really, we're like in a vertical climb here. So it's really hard to say. Yeah.\\n\\nDeepak Ahuja - Tesla, Inc.\\n\\nAnd then also to your earlier point, Deepak here. It does not change any of our projections in terms of the long-term...\\n\\nElon Reeve Musk - Tesla, Inc.\\n\\nYeah.\\n\\nDeepak Ahuja - Tesla, Inc.\\n\\n...target gross margin.\\n\\nElon Reeve Musk - Tesla, Inc.\\n\\nRight.\\n\\nDeepak Ahuja - Tesla, Inc.\\n\\nThese are all short-term issues.\\n\\nElon Reeve Musk - Tesla, Inc.\\n\\nI mean, (17:12) by the end of the year, it will be in the thousands. It's well advanced. Yeah. Yeah.\\n\\nJames J. Albertine - Consumer Edge Research LLC\\n\\nI'm sorry, well into the thousands per...\\n\\nElon Reeve Musk - Tesla, Inc.\\n\\nYeah. In the thousands by the end of the year. But where exactly, it's hard to say. And literally, if you move the calendar by, like, two or three weeks, you would see giant changes. So the quarter-to-date will fall somewhat sort of arbitrarily in that exponential curve. So even in a matter of a few weeks which would show a very different number (17:53) people tend to extrapolate on a linear basis instead of an exponential. In fact, most people wouldn't know what exponential is.\\n\\nSo (18:07) is it tends to be a straight-line extrapolation, but really on a very steep exponential. So it's really an S-curve. Yeah. So it starts off really slow and then it ramps very rapidly on an exponential basis. It does start to go sort of linear right in the middle and then it sort of asymptotes off at the target production capacity, really target a whole supply chain or factory for a given production capacity. And yeah, trying (18:41) possible. We're highly confident of the long-term margin number of 25% or higher for Model 3. Deepak, I mean...\\n\\nDeepak Ahuja - Tesla, Inc.\\n\\nYeah. None of our projections in terms of our material cost or manufacturing, legal and overhead or depreciation or the other elements have changed as a result of these last few months to modifying the target.\\n\\nJames J. Albertine - Consumer Edge Research LLC\\n\\nOkay.\\n\\nDeepak Ahuja - Tesla, Inc.\\n\\nOkay.\\n\\nElon Reeve Musk - Tesla, Inc.\\n\\nYeah.\\n\\nJeffrey K. Evanson - Tesla, Inc.\\n\\nAll right, we have a lot of people in queue, so let's move on to the next question, please.\\n\\nOperator\\n\\nThank you. Our next question comes from Adam Jonas of Morgan Stanley. Your line is open.\\n\\nAdam Michael Jonas - Morgan Stanley & Co. LLC\\n\\nThanks everybody. Just one question, one follow-up. Elon, you described Model 3, the Model 3 launch as production hell. I mean, you have a cold, but how hot is it in hell right now? And is it getting hotter or less hot? I mean, are we solving more problems than are coming up?\\n\\nElon Reeve Musk - Tesla, Inc.\\n\\nI mean, (19:41) emphasize what each level means really, but let's say level 9 is the worst, okay? Well, we're in level 9. We're now in level 8 and I think we're close to exiting level 8. I thought we could probably be more like a level 7 by now and I have to tell you, I was really depressed about 3 or 4 weeks ago when I realized that we're kind of in level 9, then we got to level 8, now I can see sort of a clear path to sunshine. And so I feel really pretty optimistic right now. If you talked to me 3 weeks ago, I would have been quite pessimistic and I was sort of quite down in the dumps.\\n\\nBut now it's pretty obvious what we need to do. It's just a matter of work to get there, working seven days a week to do it. And I have personally (20:39) zone 2 module line at 2:00 AM on a Sunday morning helping diagnose robot calibration issues. So I'm doing everything I can. JB is doing everything he can. The whole team is on it, we're on it. And we are on it, we've got it covered, it's going to take us a few months longer than we expected.\\n\\nAdam Michael Jonas - Morgan Stanley & Co. LLC\\n\\nGot it. Just one follow-up for Deepak. On the secured bonds due 2025 the issuance from last August, was this meant to be a permanent part of the cap structure or is it more a bridge loan to help fund some of the near-term cash absorption issues related to the Model 3 delay and things of that nature? Thanks.\\n\\nDeepak Ahuja - Tesla, Inc.\\n\\nIt is an eight-year tenure on that debt offering and the banks do give us that capital for that timeframe.\\n\\nJeffrey K. Evanson - Tesla, Inc.\\n\\nAll right, Latiff. Let's go to the next question, please.\\n\\nOperator\\n\\nThe next question comes from Tyler Frank of Baird. Your line is open.\\n\\nBenjamin Joseph Kallo - Robert W. Baird & Co., Inc.\\n\\nHey. It's Ben Kallo from Baird. Elon, you guys talked a lot about the Model 3 being easier to manufacture than the S and the X. Could you just give us a sense about the difference in manufacturing the volume of the three compared to basically 10 times the volume that you're trying to get to in the near term? Then I have a follow-up.\\n\\nElon Reeve Musk - Tesla, Inc.\\n\\nYes. There's vastly more automation with Model 3. Now the tricky thing is that when one automation doesn't work, it's really harder to make up for it with men and labor. So with S or X, because a lot less that was automated, we could scale up labor hours and achieve a high level of production. With Model 3, it tends to be either the machine works or it doesn't or it's limping along and we get short (22:47) quite severely on output. So yes, I mean, JB do you want to add?\\n\\nJeffrey B. Straubel - Tesla, Inc.\\n\\nI think you were spot on. The design on the whole is much easier to build but it's also intensely automated, which is part of what lets us realize the margin and the cost targets. But that does become difficult to bring that automation online. That's where we are.\\n\\nElon Reeve Musk - Tesla, Inc.\\n\\nYeah.\\n\\nDeepak Ahuja - Tesla, Inc.\\n\\nAnd Doug is on the line, perhaps he can (23:17).\\n\\nElon Reeve Musk - Tesla, Inc.\\n\\n(23:20) maybe cite a few examples.\\n\\nDoug Field - Tesla Inc.\\n\\nSure. The number of actual what we call a pitch which is a station for a robot to work on the car in general assembly is about one-fourth of the typical industry average for number of stations it used to build a car. So the way we do subassemblies and the care we've taken and designed for manufacturing does make it much simpler. But as JB said, each of those stations is fairly automated and requires time and engineering to make it work.\\n\\nBenjamin Joseph Kallo - Robert W. Baird & Co., Inc.\\n\\nI guess my follow-up's on that point. So, in the battery assembly in automation, things that you're working through in the software for configuring the robots, I'm thinking of this, is it a certain number of man hours that have to go into this to get it fixed, or like you know the fix or what are you throwing at it right now, is it people or is it a time requirement too or all of the above?\\n\\nElon Reeve Musk - Tesla, Inc.\\n\\nYeah, we're throwing a huge amount of people at fixing the machines, and then occasionally there's, like, some part of a production manufacturing process where the machine is permanently broken and then we have to have a bypass to a manual operation.\\n\\nJonathan McNeill - Tesla, Inc.\\n\\nUntil we fix the automation.\\n\\nElon Reeve Musk - Tesla, Inc.\\n\\nYeah, until we fix the automation, but that's really – it's really inefficient because the system is really not designed for a manual bypass to a (25:11) machine or a machine where the software is not right or whatever the case may be.\\n\\nJonathan McNeill - Tesla, Inc.\\n\\nIt's just an extremely...\\n\\nBenjamin Joseph Kallo - Robert W. Baird & Co., Inc.\\n\\nGot it.\\n\\nJonathan McNeill - Tesla, Inc.\\n\\n– extremely complicated machine with combined electrical, mechanical, and software challenges. It's not that different than what we do bringing up a brand-new car.\\n\\nBenjamin Joseph Kallo - Robert W. Baird & Co., Inc.\\n\\nYeah.\\n\\nJonathan McNeill - Tesla, Inc.\\n\\nAnd a lot of the...\\n\\nElon Reeve Musk - Tesla, Inc.\\n\\nIt is harder to supplement with manual than S or X because the system is designed as a very tightly integrated automated system. So it's very unwieldy to try to supplement or make up for a machine not working with manual activity. So, we think like – it's like a – if you had a spreadsheet and a couple of cells in the spreadsheet were manually calculated, well, yeah, you could still do your spreadsheet stuff, but it's going to be a lot slower, until the last cell is automated and then it's going to be super fast.\\n\\nJeffrey K. Evanson - Tesla, Inc.\\n\\nAll right. Let's go to...\\n\\nBenjamin Joseph Kallo - Robert W. Baird & Co., Inc.\\n\\nThank you, guys.\\n\\nJeffrey K. Evanson - Tesla, Inc.\\n\\n...the next question, please.\\n\\nOperator\\n\\nOur next question comes from Romit Shah of Nomura Instinet. Your line is open.\\n\\nRomit Jitendra Shah - Nomura Instinet\\n\\nGreat. Thank you and congratulations on the milestone. The competitiveness of Autopilot is something that's come up a lot recently, and I just wanted to ask about your hardware capabilities. We're actually at a technology conference today hosted by NVIDIA and their newest autonomous solution according to NVIDIA is 10x more powerful than the version that Tesla is using and they're saying they can get you to level 5 autonomy and so along those lines the year-over-year improvement in the NVIDIA board just seems really significant, and I was just curious Elon if you could just talk about what you think you need to do from a hardware perspective to advance Autopilot?\\n\\nElon Reeve Musk - Tesla, Inc.\\n\\nWell, first of all, I think that we will be able to achieve full autonomy with the current hardware. The question is, it's not just full autonomy, but full autonomy with what level of reliability, and what will be acceptable to regulators. But I feel quite confident that we can achieve human level – approximately human level autonomy with the current computing hardware.\\n\\nNow regulators may require some significant margin above human capability in order for a full autonomy to be engaged. They may say, it needs to be 50% safer, 100% safer, 1000% safer, I don't know. I'm not sure they know either. But that's – but I think I'm confident that we can get to approximately human level with our current hardware. And yeah, we'll have more to say on the hardware front soon, we're just not ready to say anything now. But I feel very optimistic on that front.\\n\\nFor customers that have signed up for full software capability, we'll push that option. The – if it does turn out that, that a computer upgrade is necessary in order to meet the regulatory requirements in that area, we will replace the computer with something with greater power, which is sort of, unplug the old one, plug the new one in. But we feel confident of the competitiveness of our hardware strategy. I would say that, we are certain that our hardware strategy is better than any other option, by a lot.\\n\\nRomit Jitendra Shah - Nomura Instinet\\n\\nOkay. And if I could ask, you said that the deposit balance for Model 3 strengthened. Can you give us what that actual balance was?\\n\\nDeepak Ahuja - Tesla, Inc.\\n\\nWe don't give specific balance of – for deposits by car line. We just give the combined number, which you can see on our balance sheet for customer deposits.\\n\\nJeffrey K. Evanson - Tesla, Inc.\\n\\nOkay. Latiff, let's go to the next question, please.\\n\\nOperator\\n\\nYeah. So our next question comes from John Murphy of Bank of America Merrill Lynch. Your question please.\\n\\nJohn Murphy - Bank of America Merrill Lynch\\n\\nGood afternoon. Just a question on quarterly cash flow for the fourth quarter and the first quarter. I mean, it sounds like, obviously, there's some delays here on the Model 3, which is understandable, given the complexity. I'm just curious as we think about cash flow for the next two quarters, would we think about them relatively similarly to what we just saw in the third quarter, plus what you would – whatever you would sell out of inventory, so it might be a bit better? I'm just trying to understand, Deepak, how much of that $2.5 billion in inventory is finished goods that you might be able to sell out of in the fourth quarter?\\n\\nDeepak Ahuja - Tesla, Inc.\\n\\nWell, firstly, as we continue to ramp up Model 3, our cash flow from operations is going to increase or improve significantly over the next few quarters. And it's – this is the positive virtuous cycle of cash flow or working capital that Model 3 provides us, because we effectively pay our suppliers later than we collect from our customers, and also this quarter, our CapEx payments will start to decline as we pay off, over the next couple of quarters, all the remaining Model 3 related CapEx. So there should be an improving trend over the next two quarters, three quarters.\\n\\nJohn Murphy - Bank of America Merrill Lynch\\n\\nBut to be fair, Deepak, I mean, it sounds like this is a little bit more uncertain than you thought before, as far as production and delivery. So I'm just trying to understand, what kind of cash you can generate out of the inventory that you hold right now?\\n\\nDeepak Ahuja - Tesla, Inc.\\n\\nYes. So firstly, our inventory is going to come down on S and X, and also, what's important is, it is – given these short-term delays, we have to be prudent in how we spend our money. And so we are managing our CapEx and OpEx growth to be in line with the growth of our fleet. And so, for example, CapEx related to our stores or service centers or Superchargers. We are slowing that down to be in line, and that's logical of the cargo for (32:23) fleet. So all those actions will come through in terms of helping us conserve cash.\\n\\nJohn Murphy - Bank of America Merrill Lynch\\n\\nOkay. I'll follow-up with detail later. Thank you.\\n\\nDeepak Ahuja - Tesla, Inc.\\n\\nAll right.\\n\\nOperator\\n\\nThank you. Our next question comes from Ryan Brinkman of JPMorgan. Your line is open.\\n\\nRyan Brinkman - JPMorgan Securities LLC\\n\\nGreat. Thanks for taking my question. Just with regard to the ramp-up of the Model 3 production, I can see what's happening with the 5,000 per week target from 1Q to 4Q – or from – now it's 1Q versus 4Q. But I think it's less clear, from reading the letter, what's happening with the previous guidance of the 10,000 units per week at some point in 2018. Is that now like beyond 2018?\\n\\nI think before, investors were estimating that, if you could hit it at the end of 2018, you'd do over 250,000 vehicles. If you could hit it more toward the middle, you'd do over 325,000. But what now would be a reasonable expectation, based upon what you know, for the Model 3s that do get built in 2018?\\n\\nElon Reeve Musk - Tesla, Inc.\\n\\nIt's a bit too early to make (33:29). But I mean, if you extrapolate from 5,000 units towards the end of Q1, we do want to call upon significant CapEx until we are confident about cash flow on Model 3, so then that's a question of how long it takes to implement. I mean, that's where you get to 10,000 units a week for Model 3, which is a number we are confident can be sustained from a drive (34:01) standpoint.\\n\\nDeepak Ahuja - Tesla, Inc.\\n\\nAnd we want to figure out how much we can push the 5,000 up from the existing...\\n\\nElon Reeve Musk - Tesla, Inc.\\n\\nYeah. That's true.\\n\\nDeepak Ahuja - Tesla, Inc.\\n\\nAnd then learn from those, and figure out, how do we redesign whatever we do over the next (34:05) spend more efficiently our CapEx. So, it's the right thing to do.\\n\\nElon Reeve Musk - Tesla, Inc.\\n\\nYeah, exactly. As we mentioned earlier, we're finding that some parts of the line very clearly are capable of 6,000 or 7,000 units a week, and maybe more than that, just by shortening path length, speeding up the robots, adding some robots where the chokepoints exist, simplifying some of the processes, and a few minor part redesigns, it's remarkable how much you can improve cycle time. So...\\n\\nRyan Brinkman - JPMorgan Securities LLC\\n\\nOkay. Actually, that's helpful.\\n\\nElon Reeve Musk - Tesla, Inc.\\n\\nYeah.\\n\\nRyan Brinkman - JPMorgan Securities LLC\\n\\nMaybe just as a follow-up...\\n\\nElon Reeve Musk - Tesla, Inc.\\n\\nNo, go ahead.\\n\\nRyan Brinkman - JPMorgan Securities LLC\\n\\nOh, I was just going to say, is the gross margin discussion also related to this at all? I mean, I see the reduced outlook for 4Q. But do you feel any differently about, for example, the ability to do 25% margin when you're doing kind of 250,000 run rate? And as long as the production is going to be restrained, do you have any ability to continue to preference for longer maybe the higher-margin, higher trim level variance of the Model 3, to help with that?\\n\\nDeepak Ahuja - Tesla, Inc.\\n\\nWe can fine-tune those things when we get there, but overall, our – and I'm reinforcing this again, these are all short-term issues, and it doesn't change our long-term prognosis on Model 3 gross margin.\\n\\nRyan Brinkman - JPMorgan Securities LLC\\n\\nOkay. Great.\\n\\nJeffrey K. Evanson - Tesla, Inc.\\n\\nAll right. Latiff, let's go to the next questioner, please.\\n\\nOperator\\n\\nOur next question comes from Alex Potter of Piper Jaffray. Your question please.\\n\\nAlexander Eugene Potter - Piper Jaffray & Co.\\n\\nYeah, thanks very much. I was wondering, I guess, to the extent that these production bottlenecks are ultimately somebody else's fault, is it worth your time trying to claw back some of the costs that you're presumably incurring due to the subcontractor, I guess, dropping the ball, as you put it?\\n\\nElon Reeve Musk - Tesla, Inc.\\n\\nYeah. I think, first of all, I think at the end of the day, everything is our fault – and my fault most of all. If we pick the wrong subcontractor, we're the fault. So, I don't want to – just to be externalizing responsibility, really it's our fault for picking the wrong supplier and then not realizing it until way late in the game. We will be able to claw back some amounts, but it certainly will not make up for lost revenue, lost free cash flow. So – some amount, yeah, but it's not going to matter that much.\\n\\nDeepak Ahuja - Tesla, Inc.\\n\\nThe goal is right now to fix the problem.\\n\\nElon Reeve Musk - Tesla, Inc.\\n\\nYeah, exactly.\\n\\nAlexander Eugene Potter - Piper Jaffray & Co.\\n\\nOkay. Fair enough. I guess, one other issue you referenced a gross margin headwind on the S and X due to trim and mix. Was wondering, if you could talk maybe a little bit more explicitly about what that was. And then what the corrective measures you taking to address that?\\n\\nElon Reeve Musk - Tesla, Inc.\\n\\nYes. Jon can answer that.\\n\\nJonathan McNeill - Tesla, Inc.\\n\\nYes, this is Jon, I can address a piece of this. So a large chunk of it was discontinued trims. We've introduced the 100-kilowatt battery pack, which has a 335-mile range in Model S. And as a result of that, we discontinued the 90-kilowatt pack. And as those cars were in inventory, we reduced price to move them out. And so that was a piece of the gross margin headwind that won't repeat as we go forward. And in addition to that, the mix did shift. We sold more 100-kilowatt cars, actually, than we predicted we would, but order rate went up for the 75's even faster. And so we sold more 75-kilowatt cars in the mix than we predicted, and that had a gross margin impact as well.\\n\\nGiven demand is – it continues to increase for the 100-kilowatt pack and the mix shift is occurring more towards that product. We'll see as we indicated in the letter, increasing margins as we roll into Q4 and then into Q1. So this is – the heart of the discontinuation really was the success of us debottlenecking the 100-kilowatt production we talked about in Q2 and really rolling that into strong demand in Q3.\\n\\nElon Reeve Musk - Tesla, Inc.\\n\\nYeah. We also just increased the amount of value that's in a Model S and...\\n\\nJonathan McNeill - Tesla, Inc.\\n\\nAnd with X.\\n\\nElon Reeve Musk - Tesla, Inc.\\n\\nYeah, and X, but particularly Model S, because we're hoping there to be greater differentiation between the S and Model 3. So the base – the fundamental cost of a Model S increased because of more included content. So the full Model S have air suspension, for example, yes, much of the premium elements were included by default, just because there needs to be a clearer the reason for people to buy a Model S or a Model 3.\\n\\nJonathan McNeill - Tesla, Inc.\\n\\nAnd the market responded really strongly to that in terms of demand. So in Q3, the Model S in the U.S. outsold the Mercedes S Class by two times – over two times actually. And if you added up the sales of Audi A7 and A8, the BMW 7 series and Porsche Panamera, we outsold all those, combined.\\n\\nElon Reeve Musk - Tesla, Inc.\\n\\nYeah.\\n\\nJonathan McNeill - Tesla, Inc.\\n\\nSo the market really did respond to the increased value.\\n\\nElon Reeve Musk - Tesla, Inc.\\n\\nYes.\\n\\nJonathan McNeill - Tesla, Inc.\\n\\nYeah. And all of our deliveries came down, so our market share in the U.S., it went up in Q3 for S and X.\\n\\nElon Reeve Musk - Tesla, Inc.\\n\\nYeah.\\n\\nAlexander Eugene Potter - Piper Jaffray & Co.\\n\\nS & X both?\\n\\nJonathan McNeill - Tesla, Inc.\\n\\nThat's right.\\n\\nElon Reeve Musk - Tesla, Inc.\\n\\nYeah.\\n\\nJonathan McNeill - Tesla, Inc.\\n\\nCompared to Q2.\\n\\nElon Reeve Musk - Tesla, Inc.\\n\\nAnd I saw some of the articles from our quarterly earnings letter about sort of question kind of S and X, why we reduced production on S and X. We didn't reduce it very much. It's just sort of from about 2,000 units a week to 1,800, and we did that in order to breakdown (40:39) inventory. So just because inventory was too high. We also just needed much people on Model 3 line. So we thought we will take the third shift from Model S and the X, and apply it to Model 3. Because really, running out of the labor pool, honestly. It's like we're a second labor pool dry both in Gigafactory and in Fremont. And so it's like – yes. It's just so many people that can make it to the Gigafactory. And then we're all finding that we're able to improve the efficiency of production of the S and X.\\n\\nPreviously it required three shifts to do 2,000 units a week. And so – I just want to appreciate like the whole supply chain, and everything -- it's all sized to 2,000 units a week. So likes they're walking spontaneously make 2,500 units a week because the entire supply chain all the parts, everything's going to go to 2,500 and that requires a bunch of CapEx, then you got to match, can imagine sort of increased stores everything is going to increase. So sort of like decide on what seems like the right number, sort of the right numbers about 100,000 units a year combined S and X, and resize the supply chain accordingly.\\n\\nBut we expect to continue making production efficiency improvements on the S and X line and be able to take that from 1,800 units a week to 2,000 units a week in probably over the next year. And still be on two shifts, which is labor hours are reducing per vehicle and that gets us to our sort of roughly 100,000 units a year week cadence and we can work on supply chain efficiencies and the like. But we do expect to – and one point, we expect to sell more cars in Q4 than we did in Q3. So we expect sales and deliveries to be higher in Q4 than Q3. But to reduce Model S and X inventory, to achieve that.\\n\\nJeffrey K. Evanson - Tesla, Inc.\\n\\nOkay, next question please.\\n\\nOperator\\n\\nNext question comes from Rod Lache of Deutsche Bank. Your line is open.\\n\\nRod Lache - Deutsche Bank Securities, Inc.\\n\\nHi, everybody. Just had a question about how we should be thinking about capital spending maybe at a high level next year. It sounds like you're going to be deploying some capital to increase to 10,000 units per week. And obviously there've also been some reports about you investing in another assembly facility in China. So is your CapEx still expected to be lower in 2018 versus 2017?\\n\\nDeepak Ahuja - Tesla, Inc.\\n\\nSo, Rod, in terms of the China factory, I'll leave for Elon to make comments on that. But I think it may be better if we hold on, broadly speaking, to that question to the next quarter when we provide full 2018 guidance and give you better clarity on our capital spend for the different elements in our plan.\\n\\nElon Reeve Musk - Tesla, Inc.\\n\\nI suspect it's comparable and similar, honestly, to 2017. We have some – obviously some – it's somewhat of a strategic choice. Do we have higher CapEx and higher growth or lower CapEx and lower growth? Yeah, so it's – but we can – we can move that lever wherever it makes sense, where it makes sense to do so. As I mentioned earlier though we want to make sure we know what to scale before we spend money on it. So for the Model 3, figuring out which production lines can be simply accelerated and which production lines need to be duplicated, we'd far rather accelerate a production line than duplicate it. If we were to make those CapEx decisions right now, we'd be making them – we're kind of shooting in the dark.\\n\\nJeffrey B. Straubel - Tesla, Inc.\\n\\nYeah.\\n\\nDeepak Ahuja - Tesla, Inc.\\n\\nYeah.\\n\\nElon Reeve Musk - Tesla, Inc.\\n\\nBut in respect to China, I wouldn't expect any significant CapEx on China until 2019. It won't be material in 2018.\\n\\nRod Lache - Deutsche Bank Securities, Inc.\\n\\nOkay.\\n\\nElon Reeve Musk - Tesla, Inc.\\n\\nThe China plant is sort of something like – this is just a like don't say (45:59), but it's sort of a rough target of start of production in about three years and it would be serving the China market and perhaps some other countries in the region and that's really the intent, is to be able to provide Model 3 and Model – won't be making Model S and Model X, but we'll be making probably Model 3, probably Model Y primarily for the local Chinese market and it's really the only way to make the cars affordable in China, but it's three years out, so.\\n\\nRod Lache - Deutsche Bank Securities, Inc.\\n\\nAnd just to clarify two points. Is your objective to have something that's kind of three-month sized in China? And I wanted to also clarify your earlier comment about when exactly the production of Model 3 goes exponential. Were you suggesting that that...\\n\\nElon Reeve Musk - Tesla, Inc.\\n\\nExponential, right now.\\n\\nRod Lache - Deutsche Bank Securities, Inc.\\n\\nIs that why – I guess, yeah off of a low number but are you getting to a few thousand per week already by the end of this year or did you mean to say that you'll have a few thousand produced in total by the year-end?\\n\\nElon Reeve Musk - Tesla, Inc.\\n\\nOh, no, no. Again, it's really tricky because of that being exponential. If you were to move the calendar date by plus or minus a few weeks, you'd see gigantic differences in weekly output. But what I meant is something like a few thousand units per week at the end of Q4.\\n\\nRod Lache - Deutsche Bank Securities, Inc.\\n\\nOkay.\\n\\nElon Reeve Musk - Tesla, Inc.\\n\\nBut there's (47:56), if you said okay, what about a few weeks after Q4? I'd say, yeah, definitely. So, it's just going to be very, very – rising very, very sharply at that time.\\n\\nDeepak Ahuja - Tesla, Inc.\\n\\nTo be clear, Elon is not going to provide guidance. He's just giving – you are giving...\\n\\nElon Reeve Musk - Tesla, Inc.\\n\\nThis is my guess.\\n\\nDeepak Ahuja - Tesla, Inc.\\n\\nExactly.\\n\\nElon Reeve Musk - Tesla, Inc.\\n\\nIt will be (48:16) vertical climb here, it's like – from one moment to the next (48:22).\\n\\nRod Lache - Deutsche Bank Securities, Inc.\\n\\nIt sounds like you'll be able to provide some pretty high confidence update on the fourth quarter earnings call.\\n\\nJeffrey B. Straubel - Tesla, Inc.\\n\\nYes.\\n\\nElon Reeve Musk - Tesla, Inc.\\n\\nFor sure. Yes. Absolutely.\\n\\nJeffrey B. Straubel - Tesla, Inc.\\n\\nYeah.\\n\\nDeepak Ahuja - Tesla, Inc.\\n\\nEven with the deliveries announcements, we'll have some feedback for you as we mentioned...\\n\\nRod Lache - Deutsche Bank Securities, Inc.\\n\\nOkay. Great.\\n\\nElon Reeve Musk - Tesla, Inc.\\n\\nYeah. We'll have very good understanding and high clarity on the Q4 earnings call.\\n\\nRod Lache - Deutsche Bank Securities, Inc.\\n\\nOkay. And then the China size, is this a Fremont type of project?\\n\\nElon Reeve Musk - Tesla, Inc.\\n\\nI mean, it's something in the hundreds of thousands of vehicles per year. I'm not sure where it is exactly in the – it's at least a couple of hundred thousand vehicles a year, maybe more.\\n\\nRod Lache - Deutsche Bank Securities, Inc.\\n\\nOkay. Great. Thank you.\\n\\nJeffrey K. Evanson - Tesla, Inc.\\n\\nAll right. That's all you will get out of him. Thanks. Next question, please.\\n\\nOperator\\n\\nOur next question comes from Toni Sacconaghi of Bernstein. Your line is open.\\n\\nAntonio M. Sacconaghi - Sanford C. Bernstein & Co. LLC\\n\\nYes. Thank you. I have a question and a follow-up, please. Elon, you just talked about sort of this trade-off between growth and capital spending. And quite frankly, I think it's really the first time that I've heard you talk about that potential trade-off. Usually, Tesla's been all about doing as much as quickly as possible to lead the move to electrification, to establish a first-mover advantage, et cetera. So is the hesitancy in going all-out growth, is that a concern that you might run out of cash and have to raise more cash? Is that a bandwidth concern for the organization in terms of trying to do too much, too quickly? Is that a concern about using capital effectively? What's at the root of that decision? And why is there even a decision, I guess, is the question.\\n\\nJeffrey B. Straubel - Tesla, Inc.\\n\\nI would say that it's probably a bit of both. I mean it's prudent for us to think through all of that as we are continuing to grow. Certainly, we want to be in a certain sense of fiduciary responsibility that we have in addition to just growing like crazy. So...\\n\\nElon Reeve Musk - Tesla, Inc.\\n\\nI mean these are mad substantial (50:56) growth rates for the auto industry. I think we made some comparison of Tesla growth rate relative to Ford in the Model T era, and we're talking about a rate of growth faster than the Model T, which is the fastest in history. So these are nutty growth rates.\\n\\nJeffrey B. Straubel - Tesla, Inc.\\n\\nIt's really not the first time we've thought about this.\\n\\nDeepak Ahuja - Tesla, Inc.\\n\\nYes. We have talked about that. And our growth rate, I don't recall the exact numbers, but I think it's been in the 70%, 80% every year. And next year even at 5,000, it will be like crazy compared to this year. So growth rate continues to be extraordinary.\\n\\nElon Reeve Musk - Tesla, Inc.\\n\\nYes. Yes. Our growth rate continues that anything like that in the coming years I mean, if it continues to be something like that, Tesla will be the largest car company in the world by volume as well.\\n\\nJeffrey B. Straubel - Tesla, Inc.\\n\\nI mean, Toni, it may be helpful, it accelerates with new product introductions too. Model X reached Model S demand rates in half the time, so twice the rate of demand build, so not only are we growing but we're accelerating as we grow.\\n\\nElon Reeve Musk - Tesla, Inc.\\n\\nYeah, exactly, Model 3 will be I'd call it five times – it will be five times Model S...\\n\\nJeffrey B. Straubel - Tesla, Inc.\\n\\nAnd if you look at the timing and it's order of magnitude shifts a bit downward. Yeah.\\n\\nElon Reeve Musk - Tesla, Inc.\\n\\nYeah.\\n\\nAntonio M. Sacconaghi - Sanford C. Bernstein & Co. LLC\\n\\nI guess, the question is...\\n\\nElon Reeve Musk - Tesla, Inc.\\n\\n(52:32).\\n\\nAntonio M. Sacconaghi - Sanford C. Bernstein & Co. LLC\\n\\nBut really perhaps to punctuate a little bit more, you've talked about pretty soon you're going to be close to cash flow generative once you get the volume on the Model 3. And so I'm just surprised why you're actually not trying to step on that as quickly as possible because ostensibly once you get to that level, then cash flow really doesn't become a problem. And so, is there any difference in that view? Otherwise I'm just struggling to sort of reconcile why you don't want to get to scale, get to volume, get to positive operating cash flow, as quickly as possible?\\n\\nDeepak Ahuja - Tesla, Inc.\\n\\nJust to be clear, we are trying to get as fast as we can to 5,000, and then we will work as fast as we can to get to 10,000.\\n\\nAntonio M. Sacconaghi - Sanford C. Bernstein & Co. LLC\\n\\nYes.\\n\\nJeffrey B. Straubel - Tesla, Inc.\\n\\nYeah, I don't think we were saying we wouldn't do it. We were just saying we would think through it and make the strategic trade-offs, in terms of timing. But we'd think through it.\\n\\nDeepak Ahuja - Tesla, Inc.\\n\\n(53:40)\\n\\nElon Reeve Musk - Tesla, Inc.\\n\\nI mean sort of like (53:42) interpretations of time scales. For us, it's like, well, should we have the growth to 10,000, be – take 9 months, 12 months or 15 months?\\n\\nAntonio M. Sacconaghi - Sanford C. Bernstein & Co. LLC\\n\\nOkay. Fair enough.\\n\\nJeffrey B. Straubel - Tesla, Inc.\\n\\nSo these are like flash-in-the-pan timescales for other manufacturers.\\n\\nAntonio M. Sacconaghi - Sanford C. Bernstein & Co. LLC\\n\\nRight. Okay. If I could just follow up on a separate topic, on the Model S and Model X gross margins, they look like they must have fallen materially, unless Model 3 gross margins were worse than minus 1000%, so maybe you can help us understand what Model S and Model X gross margins were this quarter and, given most of the one-time stuff has gone and the mix shift is favorable, why wouldn't they snap back to be similar or better next quarter? And do you think that the promotional activity helped drive volume for Model S and Model X this quarter?\\n\\nDeepak Ahuja - Tesla, Inc.\\n\\nYeah, I mean, firstly, your analysis is completely off from what we see internally, and the mix shift that we saw, part of that continues in Q4.\\n\\nJeffrey B. Straubel - Tesla, Inc.\\n\\nYeah, largely because we're largely custom orders, so those orders were placed in Q3 that we will ship in Q4.\\n\\nDeepak Ahuja - Tesla, Inc.\\n\\nAnd then as we continue to achieve efficiencies and also work on that mix shift, which takes time, we will continue to see improvement, and have full confidence in Model S and Model X gross margin.\\n\\nElon Reeve Musk - Tesla, Inc.\\n\\nYeah. The (55:25) cars being sold in Q4 are inventory rundown and some, you know, particularly in (55:31) older models...\\n\\nJeffrey B. Straubel - Tesla, Inc.\\n\\nService loaners.\\n\\nElon Reeve Musk - Tesla, Inc.\\n\\n...the service loaners, and those grow slightly lower, average like less than a custom order vehicle, that has a point or two effect on gross margin. But yeah, I mean, it should get back to the mid-20s, essentially, in Q4.\\n\\nAntonio M. Sacconaghi - Sanford C. Bernstein & Co. LLC\\n\\nOkay. Thank you.\\n\\nJeffrey K. Evanson - Tesla, Inc.\\n\\nNext question please.\\n\\nOperator\\n\\nOur next question comes from Brian Johnson of Barclays. Your line is open.\\n\\nBrian A. Johnson - Barclays Capital, Inc.\\n\\nYes. Thank you. Want to just drill down on the service revenue and expenses line, not something we often talk about, but a lot of the other questions have been asked. Looks like year-over-year revenues were up $180 million, costs were up $247 million. Could you just talk about the drivers of that change, between what's left of the drivetrain outsource business, the CPO business, the service loaner actual vehicles expense, and then the cost of the PP&E for the actual people and service infrastructure?\\n\\nJeffrey B. Straubel - Tesla, Inc.\\n\\nYes. I think what you see there is, the increase in PP&E for the service infrastructure we wanted to get out in front of demand as we're increasing both Model S and Model X fleet size, and also Model 3. So we opened a location just about every four days in Q3. And to get ahead of that demand, you probably saw that we put 180 mobile vehicles on the road. And we plan to double that this quarter. And so a lot of that, what you see, is PP&E.\\n\\nIn terms of the drivetrain, the drivetrain issue that you mentioned, that's mostly behind us; in fact, we see very little of that now. The reliability for Model S and Model X continues to improve, and you asked about the CPO business. The CPO business, for us, last year – or last quarter was about a $238 million revenue business. We expect that to grow to $1 billion run rate – or $1 billion business for all of 2017. And so that business is growing rapidly at the same time. And we're running those – we do our own CPO refurbishment. We do that in the same service infrastructure that we're servicing the cars. So you see a little bit of that cost into that line as well.\\n\\nBrian A. Johnson - Barclays Capital, Inc.\\n\\nOkay. And my follow-on for Deepak, probably, is, can you walk us through the depreciation when you produce, for example, in second quarter, those 100 P100D cars Mr. Musk talked about going into the loaner fleet? How do those get depreciated while they are in the loaner fleet? And when they're transferred to be sold, what's the accounting on that?\\n\\nDeepak Ahuja - Tesla, Inc.\\n\\nYes. They are capitalized as inventory, because these cars are salable. And when these cars get sold, the depreciation related to those cars gets recognized in COGS.\\n\\nBrian A. Johnson - Barclays Capital, Inc.\\n\\nOkay. So it's not in the cost of the service centers?\\n\\nDeepak Ahuja - Tesla, Inc.\\n\\nNo.\\n\\nBrian A. Johnson - Barclays Capital, Inc.\\n\\nRight. Okay. Thanks.\\n\\nJeffrey K. Evanson - Tesla, Inc.\\n\\nNext question, please.\\n\\nOperator\\n\\nThe next question comes from Joseph Spak of RBC Capital Markets. Your question please.\\n\\nJoseph Spak - RBC Capital Markets LLC\\n\\nHi, thank you. You also mentioned some constraints in bodyshop, welding and final assembly. And final assembly, obviously, makes sense given constraints elsewhere. I was wondering if you could talk a little bit about welding. And then, as you get to your year-end run rate, is there still going to be a discrepancy between sort of different parts of the entire line? Or do you think everything is going to be roughly at the same level?\\n\\nDeepak Ahuja - Tesla, Inc.\\n\\nDoug, would you like to take that on?\\n\\nDoug Field - Tesla Inc.\\n\\nWell with respect to welding, the rate is controlled by – are you specifically asking about the video, or do you have another...\\n\\nJoseph Spak - RBC Capital Markets LLC\\n\\nI'm sorry. In the letter, it said bodyshop welding, it listed as a constraint.\\n\\nDoug Field - Tesla Inc.\\n\\nYeah.\\n\\nDeepak Ahuja - Tesla, Inc.\\n\\n(59:56). Yeah.\\n\\nDoug Field - Tesla Inc.\\n\\nNo, it is not the same constraint. It's not the same level of constraint as the Gigafactory, but it is one of the more complex parts of the overall assembly line. So to reach our overall production goals, that has to ramp significantly. But again, it's not at the same level of constraint as modules. And it's really driven just by the sheer number of robots in the bodyshop. It's the highest concentration of robots anywhere in our overall production line. But it is coming up well. The bodies that we're building are of excellent quality. We've had fantastic crash results in testing them. And we're building more and more every day. We're ahead of the rest of the production curve.\\n\\nJoseph Spak - RBC Capital Markets LLC\\n\\nOkay. And then, as a follow-up on the capital question. Elon, I think a year ago on this call, you said to go from 5 to 10 would require a fair amount of capital. But you were confident that it would be less than going from 0 to 5, and now that you have some real-world experience with the ramp, I'm wondering if you have any different views or if you could put a little bit of a finer point on that comment?\\n\\nDeepak Ahuja - Tesla, Inc.\\n\\nYeah. I mean, we actually feel even more strongly that our efficiency of CapEx on the next phase will be significant compared to the first phase.\\n\\nElon Reeve Musk - Tesla, Inc.\\n\\nYeah, absolutely. Some elements will require almost no CapEx. It really comes to realize that the – you really want to make a factory that grows incredibly fast. Like really I think speed is the ultimate weapon when it comes to innovation or production. And we are pushing robots to the limit in terms of the speed that they can operate at, and asking our suppliers to make robots go way faster, and they are shocked because nobody has ever asked them that question. It's like if you can see the robot move, it's too slow. We should be caring about air friction like things moving so fast. You should need a strobe light to see it. And that's incredibly critical to CapEx efficiency. And obviously we're going to be designing a lot of the robotic elements and what makes the robots internally. So yes, because current (1:02:22) suppliers are just too slow to respond in some cases.\\n\\nJeffrey K. Evanson - Tesla, Inc.\\n\\nOkay, we have 10 more questions in the queue so we're obviously not going to get to everybody. Elon, do you want to take just a couple more?\\n\\nElon Reeve Musk - Tesla, Inc.\\n\\nSure.\\n\\nJeffrey K. Evanson - Tesla, Inc.\\n\\nOkay. Next question, please, Latiff.\\n\\nOperator\\n\\nThe next question comes from Colin Rusch of Oppenheimer. Your line is open.\\n\\nColin Rusch - Oppenheimer & Co., Inc.\\n\\nThanks so much. Could you talk about the percentage of sales that are coming from these loaners of the fleet vehicles? We're trying to reconcile the MSRP declines that you implemented and what it looks like is a little bit more severe ASP decline. And then also, if you could talk a little bit about why you felt that it was necessary to add value to the Model S and Model X while lowering price? It seems like you should be able to drive volumes with one or the other.\\n\\nJeffrey B. Straubel - Tesla, Inc.\\n\\nYeah. I think to the first question I would say it's roughly about 5%.\\n\\nJonathan McNeill - Tesla, Inc.\\n\\nYeah. Very low single-digit in terms of the service loaner sales as a percentage of total units.\\n\\nJeffrey B. Straubel - Tesla, Inc.\\n\\nYeah.\\n\\nDeepak Ahuja - Tesla, Inc.\\n\\nYeah.\\n\\nElon Reeve Musk - Tesla, Inc.\\n\\nYeah. As far as the prices, Model X was always – it was really the one that saw more of a price reduction than other things. And then 100-kilowatt hour pack, the 100-kilowatt pack cars was artificially priced high because we have like really production constraint on that pack. It was never our intention to price them quite that high, so we reduced it a little bit. And then added some content S to both.\\n\\nSo we sort of split it between some price reductions where we thought things were a little overpriced, and then added some content just to have a clear differentiation. We weren't quite sure what the response would be to the Model 3. So maybe we might have overcorrected a little bit, but that's kind of where it is.\\n\\nColin Rusch - Oppenheimer & Co., Inc.\\n\\nOkay. And then just moving to the China strategy. Obviously, with the permanent magnet requirements for the DC motor for the Model 3 and what we've seen historically with export restrictions in China and improved environmental enforcement in terms of mining practices, how important is that to the strategy of moving into China and maintaining your supply lines for the growth of the Model 3?\\n\\nJonathan McNeill - Tesla, Inc.\\n\\nI think we think about China more from a demand side than anything. We're building complete cars and we're shipping them across the ocean and into the largest electric vehicle market in the world. So what really pulls us into China primarily is to be able to supply that market. And to make the cars more affordable, as Elon said, so that we're not forcing consumers to experience tariffs if you bring those cars in. That's a much bigger impact than I think the supply chain or sourcing materials issue.\\n\\nJeffrey K. Evanson - Tesla, Inc.\\n\\nOkay. Next question?\\n\\nOperator\\n\\nThe next question comes from Rob Cihra of Guggenheim. Your line is open.\\n\\nRobert Cihra - Guggenheim Securities LLC\\n\\nGreat. Thank you very much. I recognize it's not the biggest focus right now, but just curious on solar declining as you had expected. But just wondering when you think that can start growing again. Is that a function of Solar Roof? Or is that sort of moving past your sales changes? And then, I guess, similarly on energy storage, the ramp, sort of exiting this year into 2018, is that constrained by Model 3? Or is that on its own separate track? Thanks.\\n\\nElon Reeve Musk - Tesla, Inc.\\n\\nYeah. We do expect the solar demand to rebound as we move solar sales into all of our stores, which is a much more efficient channel for demand generation. And that's just what sort of conventional solar. The Solar Roof stuff, we expect is going to be – we're confident it's going to have extremely high demand. And we're just going through the validation process for the solar tiles.\\n\\nAnd they're working right now, I should point out. So I have the Solar Roof tiles on my house. And I didn't even notice that they're there that they blend in so well. So look really good but a roof is expected to last a long time, at least 25, 30 years. And so there's certain rate at which we can do accelerated lab testing on (1:07:38) components and maybe try to accelerate lab testing on a 30-year roof in sort of six months, but it's hard to do it less than about six months and then we got to pack that into the production process.\\n\\nSo I have no doubt that this will be a very significant part of the business down the road. It just takes a little while to get those behemoth rolling, but once it gets rolling, it's going to be a behemoth.\\n\\nJonathan McNeill - Tesla, Inc.\\n\\nAnd we continue to install pilot engineering in early customer homes. We continue the cadence for that.\\n\\nElon Reeve Musk - Tesla, Inc.\\n\\nYes. You have one in your house. Your house in the....\\n\\nJonathan McNeill - Tesla, Inc.\\n\\nYes. And JB has installed one and quite a few others at this point, 1 to 10 (1:08:26). And we still are on track to turn on most of the production line in Buffalo at the end of this year to start ramping final actual production versus this in the final factory.\\n\\nElon Reeve Musk - Tesla, Inc.\\n\\nYeah.\\n\\nJonathan McNeill - Tesla, Inc.\\n\\nAnd maybe to your about the separation for Model 3, those production areas are largely separate.\\n\\nElon Reeve Musk - Tesla, Inc.\\n\\n(1:08:48) for the pack size.\\n\\nJonathan McNeill - Tesla, Inc.\\n\\nYeah, storage versus vehicles. The energy storage production is actually growing at the really – actually doing really well by our ability to complete the South Australia project or be on track to complete that, that's...\\n\\nElon Reeve Musk - Tesla, Inc.\\n\\nIn Puerto Rico.\\n\\nJonathan McNeill - Tesla, Inc.\\n\\nAs well as the deployments in Puerto Rico and elsewhere in the Caribbean. That's been running at nominal rate and doing quite well. So those are quite separate.\\n\\nRobert Cihra - Guggenheim Securities LLC\\n\\nThank you.\\n\\nElon Reeve Musk - Tesla, Inc.\\n\\nAnd down the road, there will be some cell conflict. I think if you sort of fast forward a year or two, we really need to think about cell production as being a constraint and (1:09:17) going into cell production (1:09:20) couple of years out, making sure that we have (1:09:24) cobalt – because it's actually – not a lot of cobalt, I meant to say nickel...\\n\\nJeffrey B. Straubel - Tesla, Inc.\\n\\nNickel, graphite, (1:09:53) aluminum.\\n\\nElon Reeve Musk - Tesla, Inc.\\n\\nYeah, separator like (1:09:54).\\n\\nJeffrey B. Straubel - Tesla, Inc.\\n\\nThe module lines that we're operating to assemble the cells into modules are totally separate.\\n\\nElon Reeve Musk - Tesla, Inc.\\n\\nYeah.\\n\\nJeffrey B. Straubel - Tesla, Inc.\\n\\nSo this Model 3 line that we're focused on right now and improving quickly but the energy module line in the same building for instance now is a totally separate line.\\n\\nElon Reeve Musk - Tesla, Inc.\\n\\nYeah.\\n\\nJeffrey K. Evanson - Tesla, Inc.\\n\\nOkay. I think that's, unfortunately, all the time we have today. Appreciate all your great questions and we look forward to talking to you next quarter. Goodbye.\\n\\nOperator\\n\\nLadies and gentlemen, this concludes today's conference. Thank you for your participation and have a wonderful day.\""
      ]
     },
     "execution_count": 130,
     "metadata": {},
     "output_type": "execute_result"
    }
   ],
   "source": [
    "get_QA(text)"
   ]
  },
  {
   "cell_type": "code",
   "execution_count": null,
   "metadata": {},
   "outputs": [],
   "source": []
  },
  {
   "cell_type": "code",
   "execution_count": null,
   "metadata": {},
   "outputs": [],
   "source": []
  },
  {
   "cell_type": "code",
   "execution_count": 99,
   "metadata": {
    "scrolled": true
   },
   "outputs": [
    {
     "data": {
      "text/plain": [
       "transcripts           object\n",
       "transcript_quarter    object\n",
       "transcript_company    object\n",
       "dtype: object"
      ]
     },
     "execution_count": 99,
     "metadata": {},
     "output_type": "execute_result"
    }
   ],
   "source": [
    "df.dtypes"
   ]
  },
  {
   "cell_type": "code",
   "execution_count": 124,
   "metadata": {},
   "outputs": [],
   "source": [
    "df['Text_QA']= [get_QA('||'.join(x)).split('||') for x in df.loc[:,'transcripts']]"
   ]
  },
  {
   "cell_type": "code",
   "execution_count": 122,
   "metadata": {},
   "outputs": [],
   "source": [
    "def get_QA(text):\n",
    "    pos = text.find('Question')\n",
    "    return text[pos:]"
   ]
  },
  {
   "cell_type": "code",
   "execution_count": 125,
   "metadata": {},
   "outputs": [
    {
     "data": {
      "text/html": [
       "<div>\n",
       "<style scoped>\n",
       "    .dataframe tbody tr th:only-of-type {\n",
       "        vertical-align: middle;\n",
       "    }\n",
       "\n",
       "    .dataframe tbody tr th {\n",
       "        vertical-align: top;\n",
       "    }\n",
       "\n",
       "    .dataframe thead th {\n",
       "        text-align: right;\n",
       "    }\n",
       "</style>\n",
       "<table border=\"1\" class=\"dataframe\">\n",
       "  <thead>\n",
       "    <tr style=\"text-align: right;\">\n",
       "      <th></th>\n",
       "      <th>transcripts</th>\n",
       "      <th>transcript_quarter</th>\n",
       "      <th>transcript_company</th>\n",
       "      <th>Text_QA</th>\n",
       "    </tr>\n",
       "  </thead>\n",
       "  <tbody>\n",
       "    <tr>\n",
       "      <th>0</th>\n",
       "      <td>Tesla (TSLA) Q3 2017 Results - Earnings Call T...</td>\n",
       "      <td>Q3 2017</td>\n",
       "      <td>TSLA</td>\n",
       "      <td>[.]</td>\n",
       "    </tr>\n",
       "    <tr>\n",
       "      <th>1</th>\n",
       "      <td>Tesla, Inc. (TSLA) CEO Elon Musk on Q4 2018 Re...</td>\n",
       "      <td>Q4 2018</td>\n",
       "      <td>TSLA</td>\n",
       "      <td>[\\n]</td>\n",
       "    </tr>\n",
       "    <tr>\n",
       "      <th>2</th>\n",
       "      <td>Tesla, Inc (TSLA) CEO Elon Musk on Q1 2019 Res...</td>\n",
       "      <td>Q1 2019</td>\n",
       "      <td>TSLA</td>\n",
       "      <td>[\\n]</td>\n",
       "    </tr>\n",
       "    <tr>\n",
       "      <th>3</th>\n",
       "      <td>Tesla (TSLA) Q2 2017 Results - Earnings Call T...</td>\n",
       "      <td>Q2 2017</td>\n",
       "      <td>TSLA</td>\n",
       "      <td>[.]</td>\n",
       "    </tr>\n",
       "    <tr>\n",
       "      <th>4</th>\n",
       "      <td>Tesla (TSLA) Q1 2018 Results - Earnings Call T...</td>\n",
       "      <td>Q1 2018</td>\n",
       "      <td>TSLA</td>\n",
       "      <td>[\\n]</td>\n",
       "    </tr>\n",
       "    <tr>\n",
       "      <th>5</th>\n",
       "      <td>Tesla (TSLA) Q1 2017 Results - Earnings Call T...</td>\n",
       "      <td>Q1 2017</td>\n",
       "      <td>TSLA</td>\n",
       "      <td>[.]</td>\n",
       "    </tr>\n",
       "    <tr>\n",
       "      <th>6</th>\n",
       "      <td>Tesla (TSLA) Q2 2018 Results - Earnings Call T...</td>\n",
       "      <td>Q2 2018</td>\n",
       "      <td>TSLA</td>\n",
       "      <td>[.]</td>\n",
       "    </tr>\n",
       "    <tr>\n",
       "      <th>7</th>\n",
       "      <td>Tesla (TSLA) Q4 2017 Results - Earnings Call T...</td>\n",
       "      <td>Q4 2017</td>\n",
       "      <td>TSLA</td>\n",
       "      <td>[.]</td>\n",
       "    </tr>\n",
       "    <tr>\n",
       "      <th>8</th>\n",
       "      <td>Tesla Inc. (TSLA) CEO Elon Musk on Q3 2018 Res...</td>\n",
       "      <td>Q3 2018</td>\n",
       "      <td>TSLA</td>\n",
       "      <td>[.]</td>\n",
       "    </tr>\n",
       "  </tbody>\n",
       "</table>\n",
       "</div>"
      ],
      "text/plain": [
       "                                         transcripts transcript_quarter  \\\n",
       "0  Tesla (TSLA) Q3 2017 Results - Earnings Call T...            Q3 2017   \n",
       "1  Tesla, Inc. (TSLA) CEO Elon Musk on Q4 2018 Re...            Q4 2018   \n",
       "2  Tesla, Inc (TSLA) CEO Elon Musk on Q1 2019 Res...            Q1 2019   \n",
       "3  Tesla (TSLA) Q2 2017 Results - Earnings Call T...            Q2 2017   \n",
       "4  Tesla (TSLA) Q1 2018 Results - Earnings Call T...            Q1 2018   \n",
       "5  Tesla (TSLA) Q1 2017 Results - Earnings Call T...            Q1 2017   \n",
       "6  Tesla (TSLA) Q2 2018 Results - Earnings Call T...            Q2 2018   \n",
       "7  Tesla (TSLA) Q4 2017 Results - Earnings Call T...            Q4 2017   \n",
       "8  Tesla Inc. (TSLA) CEO Elon Musk on Q3 2018 Res...            Q3 2018   \n",
       "\n",
       "  transcript_company Text_QA  \n",
       "0               TSLA     [.]  \n",
       "1               TSLA    [\\n]  \n",
       "2               TSLA    [\\n]  \n",
       "3               TSLA     [.]  \n",
       "4               TSLA    [\\n]  \n",
       "5               TSLA     [.]  \n",
       "6               TSLA     [.]  \n",
       "7               TSLA     [.]  \n",
       "8               TSLA     [.]  "
      ]
     },
     "execution_count": 125,
     "metadata": {},
     "output_type": "execute_result"
    }
   ],
   "source": [
    "df"
   ]
  },
  {
   "cell_type": "code",
   "execution_count": 126,
   "metadata": {},
   "outputs": [
    {
     "ename": "KeyError",
     "evalue": "'Text_str'",
     "output_type": "error",
     "traceback": [
      "\u001b[0;31m---------------------------------------------------------------------------\u001b[0m",
      "\u001b[0;31mKeyError\u001b[0m                                  Traceback (most recent call last)",
      "\u001b[0;32m~/anaconda3/lib/python3.6/site-packages/pandas/core/indexes/base.py\u001b[0m in \u001b[0;36mget_loc\u001b[0;34m(self, key, method, tolerance)\u001b[0m\n\u001b[1;32m   2656\u001b[0m             \u001b[0;32mtry\u001b[0m\u001b[0;34m:\u001b[0m\u001b[0;34m\u001b[0m\u001b[0;34m\u001b[0m\u001b[0m\n\u001b[0;32m-> 2657\u001b[0;31m                 \u001b[0;32mreturn\u001b[0m \u001b[0mself\u001b[0m\u001b[0;34m.\u001b[0m\u001b[0m_engine\u001b[0m\u001b[0;34m.\u001b[0m\u001b[0mget_loc\u001b[0m\u001b[0;34m(\u001b[0m\u001b[0mkey\u001b[0m\u001b[0;34m)\u001b[0m\u001b[0;34m\u001b[0m\u001b[0;34m\u001b[0m\u001b[0m\n\u001b[0m\u001b[1;32m   2658\u001b[0m             \u001b[0;32mexcept\u001b[0m \u001b[0mKeyError\u001b[0m\u001b[0;34m:\u001b[0m\u001b[0;34m\u001b[0m\u001b[0;34m\u001b[0m\u001b[0m\n",
      "\u001b[0;32mpandas/_libs/index.pyx\u001b[0m in \u001b[0;36mpandas._libs.index.IndexEngine.get_loc\u001b[0;34m()\u001b[0m\n",
      "\u001b[0;32mpandas/_libs/index.pyx\u001b[0m in \u001b[0;36mpandas._libs.index.IndexEngine.get_loc\u001b[0;34m()\u001b[0m\n",
      "\u001b[0;32mpandas/_libs/hashtable_class_helper.pxi\u001b[0m in \u001b[0;36mpandas._libs.hashtable.PyObjectHashTable.get_item\u001b[0;34m()\u001b[0m\n",
      "\u001b[0;32mpandas/_libs/hashtable_class_helper.pxi\u001b[0m in \u001b[0;36mpandas._libs.hashtable.PyObjectHashTable.get_item\u001b[0;34m()\u001b[0m\n",
      "\u001b[0;31mKeyError\u001b[0m: 'Text_str'",
      "\nDuring handling of the above exception, another exception occurred:\n",
      "\u001b[0;31mKeyError\u001b[0m                                  Traceback (most recent call last)",
      "\u001b[0;32m<ipython-input-126-ba41a8201b03>\u001b[0m in \u001b[0;36m<module>\u001b[0;34m\u001b[0m\n\u001b[1;32m      1\u001b[0m \u001b[0;32mfrom\u001b[0m \u001b[0mtextstat\u001b[0m\u001b[0;34m.\u001b[0m\u001b[0mtextstat\u001b[0m \u001b[0;32mimport\u001b[0m \u001b[0mtextstat\u001b[0m\u001b[0;34m\u001b[0m\u001b[0;34m\u001b[0m\u001b[0m\n\u001b[1;32m      2\u001b[0m \u001b[0;34m\u001b[0m\u001b[0m\n\u001b[0;32m----> 3\u001b[0;31m \u001b[0mdf\u001b[0m\u001b[0;34m[\u001b[0m\u001b[0;34m'Num_syl'\u001b[0m\u001b[0;34m]\u001b[0m \u001b[0;34m=\u001b[0m \u001b[0;34m[\u001b[0m\u001b[0mtextstat\u001b[0m\u001b[0;34m.\u001b[0m\u001b[0msyllable_count\u001b[0m\u001b[0;34m(\u001b[0m\u001b[0mx\u001b[0m\u001b[0;34m)\u001b[0m \u001b[0;32mfor\u001b[0m \u001b[0mx\u001b[0m \u001b[0;32min\u001b[0m \u001b[0mlist\u001b[0m\u001b[0;34m(\u001b[0m\u001b[0mdf\u001b[0m\u001b[0;34m.\u001b[0m\u001b[0mloc\u001b[0m\u001b[0;34m[\u001b[0m\u001b[0;34m:\u001b[0m\u001b[0;34m,\u001b[0m\u001b[0;34m'Text_str'\u001b[0m\u001b[0;34m]\u001b[0m\u001b[0;34m)\u001b[0m\u001b[0;34m]\u001b[0m\u001b[0;34m\u001b[0m\u001b[0;34m\u001b[0m\u001b[0m\n\u001b[0m",
      "\u001b[0;32m~/anaconda3/lib/python3.6/site-packages/pandas/core/indexing.py\u001b[0m in \u001b[0;36m__getitem__\u001b[0;34m(self, key)\u001b[0m\n\u001b[1;32m   1492\u001b[0m             \u001b[0;32mexcept\u001b[0m \u001b[0;34m(\u001b[0m\u001b[0mKeyError\u001b[0m\u001b[0;34m,\u001b[0m \u001b[0mIndexError\u001b[0m\u001b[0;34m,\u001b[0m \u001b[0mAttributeError\u001b[0m\u001b[0;34m)\u001b[0m\u001b[0;34m:\u001b[0m\u001b[0;34m\u001b[0m\u001b[0;34m\u001b[0m\u001b[0m\n\u001b[1;32m   1493\u001b[0m                 \u001b[0;32mpass\u001b[0m\u001b[0;34m\u001b[0m\u001b[0;34m\u001b[0m\u001b[0m\n\u001b[0;32m-> 1494\u001b[0;31m             \u001b[0;32mreturn\u001b[0m \u001b[0mself\u001b[0m\u001b[0;34m.\u001b[0m\u001b[0m_getitem_tuple\u001b[0m\u001b[0;34m(\u001b[0m\u001b[0mkey\u001b[0m\u001b[0;34m)\u001b[0m\u001b[0;34m\u001b[0m\u001b[0;34m\u001b[0m\u001b[0m\n\u001b[0m\u001b[1;32m   1495\u001b[0m         \u001b[0;32melse\u001b[0m\u001b[0;34m:\u001b[0m\u001b[0;34m\u001b[0m\u001b[0;34m\u001b[0m\u001b[0m\n\u001b[1;32m   1496\u001b[0m             \u001b[0;31m# we by definition only have the 0th axis\u001b[0m\u001b[0;34m\u001b[0m\u001b[0;34m\u001b[0m\u001b[0;34m\u001b[0m\u001b[0m\n",
      "\u001b[0;32m~/anaconda3/lib/python3.6/site-packages/pandas/core/indexing.py\u001b[0m in \u001b[0;36m_getitem_tuple\u001b[0;34m(self, tup)\u001b[0m\n\u001b[1;32m    866\u001b[0m     \u001b[0;32mdef\u001b[0m \u001b[0m_getitem_tuple\u001b[0m\u001b[0;34m(\u001b[0m\u001b[0mself\u001b[0m\u001b[0;34m,\u001b[0m \u001b[0mtup\u001b[0m\u001b[0;34m)\u001b[0m\u001b[0;34m:\u001b[0m\u001b[0;34m\u001b[0m\u001b[0;34m\u001b[0m\u001b[0m\n\u001b[1;32m    867\u001b[0m         \u001b[0;32mtry\u001b[0m\u001b[0;34m:\u001b[0m\u001b[0;34m\u001b[0m\u001b[0;34m\u001b[0m\u001b[0m\n\u001b[0;32m--> 868\u001b[0;31m             \u001b[0;32mreturn\u001b[0m \u001b[0mself\u001b[0m\u001b[0;34m.\u001b[0m\u001b[0m_getitem_lowerdim\u001b[0m\u001b[0;34m(\u001b[0m\u001b[0mtup\u001b[0m\u001b[0;34m)\u001b[0m\u001b[0;34m\u001b[0m\u001b[0;34m\u001b[0m\u001b[0m\n\u001b[0m\u001b[1;32m    869\u001b[0m         \u001b[0;32mexcept\u001b[0m \u001b[0mIndexingError\u001b[0m\u001b[0;34m:\u001b[0m\u001b[0;34m\u001b[0m\u001b[0;34m\u001b[0m\u001b[0m\n\u001b[1;32m    870\u001b[0m             \u001b[0;32mpass\u001b[0m\u001b[0;34m\u001b[0m\u001b[0;34m\u001b[0m\u001b[0m\n",
      "\u001b[0;32m~/anaconda3/lib/python3.6/site-packages/pandas/core/indexing.py\u001b[0m in \u001b[0;36m_getitem_lowerdim\u001b[0;34m(self, tup)\u001b[0m\n\u001b[1;32m    986\u001b[0m         \u001b[0;32mfor\u001b[0m \u001b[0mi\u001b[0m\u001b[0;34m,\u001b[0m \u001b[0mkey\u001b[0m \u001b[0;32min\u001b[0m \u001b[0menumerate\u001b[0m\u001b[0;34m(\u001b[0m\u001b[0mtup\u001b[0m\u001b[0;34m)\u001b[0m\u001b[0;34m:\u001b[0m\u001b[0;34m\u001b[0m\u001b[0;34m\u001b[0m\u001b[0m\n\u001b[1;32m    987\u001b[0m             \u001b[0;32mif\u001b[0m \u001b[0mis_label_like\u001b[0m\u001b[0;34m(\u001b[0m\u001b[0mkey\u001b[0m\u001b[0;34m)\u001b[0m \u001b[0;32mor\u001b[0m \u001b[0misinstance\u001b[0m\u001b[0;34m(\u001b[0m\u001b[0mkey\u001b[0m\u001b[0;34m,\u001b[0m \u001b[0mtuple\u001b[0m\u001b[0;34m)\u001b[0m\u001b[0;34m:\u001b[0m\u001b[0;34m\u001b[0m\u001b[0;34m\u001b[0m\u001b[0m\n\u001b[0;32m--> 988\u001b[0;31m                 \u001b[0msection\u001b[0m \u001b[0;34m=\u001b[0m \u001b[0mself\u001b[0m\u001b[0;34m.\u001b[0m\u001b[0m_getitem_axis\u001b[0m\u001b[0;34m(\u001b[0m\u001b[0mkey\u001b[0m\u001b[0;34m,\u001b[0m \u001b[0maxis\u001b[0m\u001b[0;34m=\u001b[0m\u001b[0mi\u001b[0m\u001b[0;34m)\u001b[0m\u001b[0;34m\u001b[0m\u001b[0;34m\u001b[0m\u001b[0m\n\u001b[0m\u001b[1;32m    989\u001b[0m \u001b[0;34m\u001b[0m\u001b[0m\n\u001b[1;32m    990\u001b[0m                 \u001b[0;31m# we have yielded a scalar ?\u001b[0m\u001b[0;34m\u001b[0m\u001b[0;34m\u001b[0m\u001b[0;34m\u001b[0m\u001b[0m\n",
      "\u001b[0;32m~/anaconda3/lib/python3.6/site-packages/pandas/core/indexing.py\u001b[0m in \u001b[0;36m_getitem_axis\u001b[0;34m(self, key, axis)\u001b[0m\n\u001b[1;32m   1911\u001b[0m         \u001b[0;31m# fall thru to straight lookup\u001b[0m\u001b[0;34m\u001b[0m\u001b[0;34m\u001b[0m\u001b[0;34m\u001b[0m\u001b[0m\n\u001b[1;32m   1912\u001b[0m         \u001b[0mself\u001b[0m\u001b[0;34m.\u001b[0m\u001b[0m_validate_key\u001b[0m\u001b[0;34m(\u001b[0m\u001b[0mkey\u001b[0m\u001b[0;34m,\u001b[0m \u001b[0maxis\u001b[0m\u001b[0;34m)\u001b[0m\u001b[0;34m\u001b[0m\u001b[0;34m\u001b[0m\u001b[0m\n\u001b[0;32m-> 1913\u001b[0;31m         \u001b[0;32mreturn\u001b[0m \u001b[0mself\u001b[0m\u001b[0;34m.\u001b[0m\u001b[0m_get_label\u001b[0m\u001b[0;34m(\u001b[0m\u001b[0mkey\u001b[0m\u001b[0;34m,\u001b[0m \u001b[0maxis\u001b[0m\u001b[0;34m=\u001b[0m\u001b[0maxis\u001b[0m\u001b[0;34m)\u001b[0m\u001b[0;34m\u001b[0m\u001b[0;34m\u001b[0m\u001b[0m\n\u001b[0m\u001b[1;32m   1914\u001b[0m \u001b[0;34m\u001b[0m\u001b[0m\n\u001b[1;32m   1915\u001b[0m \u001b[0;34m\u001b[0m\u001b[0m\n",
      "\u001b[0;32m~/anaconda3/lib/python3.6/site-packages/pandas/core/indexing.py\u001b[0m in \u001b[0;36m_get_label\u001b[0;34m(self, label, axis)\u001b[0m\n\u001b[1;32m    139\u001b[0m             \u001b[0;32mraise\u001b[0m \u001b[0mIndexingError\u001b[0m\u001b[0;34m(\u001b[0m\u001b[0;34m'no slices here, handle elsewhere'\u001b[0m\u001b[0;34m)\u001b[0m\u001b[0;34m\u001b[0m\u001b[0;34m\u001b[0m\u001b[0m\n\u001b[1;32m    140\u001b[0m \u001b[0;34m\u001b[0m\u001b[0m\n\u001b[0;32m--> 141\u001b[0;31m         \u001b[0;32mreturn\u001b[0m \u001b[0mself\u001b[0m\u001b[0;34m.\u001b[0m\u001b[0mobj\u001b[0m\u001b[0;34m.\u001b[0m\u001b[0m_xs\u001b[0m\u001b[0;34m(\u001b[0m\u001b[0mlabel\u001b[0m\u001b[0;34m,\u001b[0m \u001b[0maxis\u001b[0m\u001b[0;34m=\u001b[0m\u001b[0maxis\u001b[0m\u001b[0;34m)\u001b[0m\u001b[0;34m\u001b[0m\u001b[0;34m\u001b[0m\u001b[0m\n\u001b[0m\u001b[1;32m    142\u001b[0m \u001b[0;34m\u001b[0m\u001b[0m\n\u001b[1;32m    143\u001b[0m     \u001b[0;32mdef\u001b[0m \u001b[0m_get_loc\u001b[0m\u001b[0;34m(\u001b[0m\u001b[0mself\u001b[0m\u001b[0;34m,\u001b[0m \u001b[0mkey\u001b[0m\u001b[0;34m,\u001b[0m \u001b[0maxis\u001b[0m\u001b[0;34m=\u001b[0m\u001b[0;32mNone\u001b[0m\u001b[0;34m)\u001b[0m\u001b[0;34m:\u001b[0m\u001b[0;34m\u001b[0m\u001b[0;34m\u001b[0m\u001b[0m\n",
      "\u001b[0;32m~/anaconda3/lib/python3.6/site-packages/pandas/core/generic.py\u001b[0m in \u001b[0;36mxs\u001b[0;34m(self, key, axis, level, drop_level)\u001b[0m\n\u001b[1;32m   3574\u001b[0m \u001b[0;34m\u001b[0m\u001b[0m\n\u001b[1;32m   3575\u001b[0m         \u001b[0;32mif\u001b[0m \u001b[0maxis\u001b[0m \u001b[0;34m==\u001b[0m \u001b[0;36m1\u001b[0m\u001b[0;34m:\u001b[0m\u001b[0;34m\u001b[0m\u001b[0;34m\u001b[0m\u001b[0m\n\u001b[0;32m-> 3576\u001b[0;31m             \u001b[0;32mreturn\u001b[0m \u001b[0mself\u001b[0m\u001b[0;34m[\u001b[0m\u001b[0mkey\u001b[0m\u001b[0;34m]\u001b[0m\u001b[0;34m\u001b[0m\u001b[0;34m\u001b[0m\u001b[0m\n\u001b[0m\u001b[1;32m   3577\u001b[0m \u001b[0;34m\u001b[0m\u001b[0m\n\u001b[1;32m   3578\u001b[0m         \u001b[0mself\u001b[0m\u001b[0;34m.\u001b[0m\u001b[0m_consolidate_inplace\u001b[0m\u001b[0;34m(\u001b[0m\u001b[0;34m)\u001b[0m\u001b[0;34m\u001b[0m\u001b[0;34m\u001b[0m\u001b[0m\n",
      "\u001b[0;32m~/anaconda3/lib/python3.6/site-packages/pandas/core/frame.py\u001b[0m in \u001b[0;36m__getitem__\u001b[0;34m(self, key)\u001b[0m\n\u001b[1;32m   2925\u001b[0m             \u001b[0;32mif\u001b[0m \u001b[0mself\u001b[0m\u001b[0;34m.\u001b[0m\u001b[0mcolumns\u001b[0m\u001b[0;34m.\u001b[0m\u001b[0mnlevels\u001b[0m \u001b[0;34m>\u001b[0m \u001b[0;36m1\u001b[0m\u001b[0;34m:\u001b[0m\u001b[0;34m\u001b[0m\u001b[0;34m\u001b[0m\u001b[0m\n\u001b[1;32m   2926\u001b[0m                 \u001b[0;32mreturn\u001b[0m \u001b[0mself\u001b[0m\u001b[0;34m.\u001b[0m\u001b[0m_getitem_multilevel\u001b[0m\u001b[0;34m(\u001b[0m\u001b[0mkey\u001b[0m\u001b[0;34m)\u001b[0m\u001b[0;34m\u001b[0m\u001b[0;34m\u001b[0m\u001b[0m\n\u001b[0;32m-> 2927\u001b[0;31m             \u001b[0mindexer\u001b[0m \u001b[0;34m=\u001b[0m \u001b[0mself\u001b[0m\u001b[0;34m.\u001b[0m\u001b[0mcolumns\u001b[0m\u001b[0;34m.\u001b[0m\u001b[0mget_loc\u001b[0m\u001b[0;34m(\u001b[0m\u001b[0mkey\u001b[0m\u001b[0;34m)\u001b[0m\u001b[0;34m\u001b[0m\u001b[0;34m\u001b[0m\u001b[0m\n\u001b[0m\u001b[1;32m   2928\u001b[0m             \u001b[0;32mif\u001b[0m \u001b[0mis_integer\u001b[0m\u001b[0;34m(\u001b[0m\u001b[0mindexer\u001b[0m\u001b[0;34m)\u001b[0m\u001b[0;34m:\u001b[0m\u001b[0;34m\u001b[0m\u001b[0;34m\u001b[0m\u001b[0m\n\u001b[1;32m   2929\u001b[0m                 \u001b[0mindexer\u001b[0m \u001b[0;34m=\u001b[0m \u001b[0;34m[\u001b[0m\u001b[0mindexer\u001b[0m\u001b[0;34m]\u001b[0m\u001b[0;34m\u001b[0m\u001b[0;34m\u001b[0m\u001b[0m\n",
      "\u001b[0;32m~/anaconda3/lib/python3.6/site-packages/pandas/core/indexes/base.py\u001b[0m in \u001b[0;36mget_loc\u001b[0;34m(self, key, method, tolerance)\u001b[0m\n\u001b[1;32m   2657\u001b[0m                 \u001b[0;32mreturn\u001b[0m \u001b[0mself\u001b[0m\u001b[0;34m.\u001b[0m\u001b[0m_engine\u001b[0m\u001b[0;34m.\u001b[0m\u001b[0mget_loc\u001b[0m\u001b[0;34m(\u001b[0m\u001b[0mkey\u001b[0m\u001b[0;34m)\u001b[0m\u001b[0;34m\u001b[0m\u001b[0;34m\u001b[0m\u001b[0m\n\u001b[1;32m   2658\u001b[0m             \u001b[0;32mexcept\u001b[0m \u001b[0mKeyError\u001b[0m\u001b[0;34m:\u001b[0m\u001b[0;34m\u001b[0m\u001b[0;34m\u001b[0m\u001b[0m\n\u001b[0;32m-> 2659\u001b[0;31m                 \u001b[0;32mreturn\u001b[0m \u001b[0mself\u001b[0m\u001b[0;34m.\u001b[0m\u001b[0m_engine\u001b[0m\u001b[0;34m.\u001b[0m\u001b[0mget_loc\u001b[0m\u001b[0;34m(\u001b[0m\u001b[0mself\u001b[0m\u001b[0;34m.\u001b[0m\u001b[0m_maybe_cast_indexer\u001b[0m\u001b[0;34m(\u001b[0m\u001b[0mkey\u001b[0m\u001b[0;34m)\u001b[0m\u001b[0;34m)\u001b[0m\u001b[0;34m\u001b[0m\u001b[0;34m\u001b[0m\u001b[0m\n\u001b[0m\u001b[1;32m   2660\u001b[0m         \u001b[0mindexer\u001b[0m \u001b[0;34m=\u001b[0m \u001b[0mself\u001b[0m\u001b[0;34m.\u001b[0m\u001b[0mget_indexer\u001b[0m\u001b[0;34m(\u001b[0m\u001b[0;34m[\u001b[0m\u001b[0mkey\u001b[0m\u001b[0;34m]\u001b[0m\u001b[0;34m,\u001b[0m \u001b[0mmethod\u001b[0m\u001b[0;34m=\u001b[0m\u001b[0mmethod\u001b[0m\u001b[0;34m,\u001b[0m \u001b[0mtolerance\u001b[0m\u001b[0;34m=\u001b[0m\u001b[0mtolerance\u001b[0m\u001b[0;34m)\u001b[0m\u001b[0;34m\u001b[0m\u001b[0;34m\u001b[0m\u001b[0m\n\u001b[1;32m   2661\u001b[0m         \u001b[0;32mif\u001b[0m \u001b[0mindexer\u001b[0m\u001b[0;34m.\u001b[0m\u001b[0mndim\u001b[0m \u001b[0;34m>\u001b[0m \u001b[0;36m1\u001b[0m \u001b[0;32mor\u001b[0m \u001b[0mindexer\u001b[0m\u001b[0;34m.\u001b[0m\u001b[0msize\u001b[0m \u001b[0;34m>\u001b[0m \u001b[0;36m1\u001b[0m\u001b[0;34m:\u001b[0m\u001b[0;34m\u001b[0m\u001b[0;34m\u001b[0m\u001b[0m\n",
      "\u001b[0;32mpandas/_libs/index.pyx\u001b[0m in \u001b[0;36mpandas._libs.index.IndexEngine.get_loc\u001b[0;34m()\u001b[0m\n",
      "\u001b[0;32mpandas/_libs/index.pyx\u001b[0m in \u001b[0;36mpandas._libs.index.IndexEngine.get_loc\u001b[0;34m()\u001b[0m\n",
      "\u001b[0;32mpandas/_libs/hashtable_class_helper.pxi\u001b[0m in \u001b[0;36mpandas._libs.hashtable.PyObjectHashTable.get_item\u001b[0;34m()\u001b[0m\n",
      "\u001b[0;32mpandas/_libs/hashtable_class_helper.pxi\u001b[0m in \u001b[0;36mpandas._libs.hashtable.PyObjectHashTable.get_item\u001b[0;34m()\u001b[0m\n",
      "\u001b[0;31mKeyError\u001b[0m: 'Text_str'"
     ]
    }
   ],
   "source": [
    "from textstat.textstat import textstat\n",
    "\n",
    "df['Num_syl'] = [textstat.syllable_count(x) for x in list(df.loc[:,'Text_str'])]"
   ]
  },
  {
   "cell_type": "code",
   "execution_count": null,
   "metadata": {},
   "outputs": [],
   "source": [
    "--"
   ]
  },
  {
   "cell_type": "code",
   "execution_count": null,
   "metadata": {},
   "outputs": [],
   "source": []
  },
  {
   "cell_type": "code",
   "execution_count": null,
   "metadata": {},
   "outputs": [],
   "source": []
  },
  {
   "cell_type": "code",
   "execution_count": null,
   "metadata": {},
   "outputs": [],
   "source": []
  },
  {
   "cell_type": "code",
   "execution_count": null,
   "metadata": {},
   "outputs": [],
   "source": []
  },
  {
   "cell_type": "code",
   "execution_count": null,
   "metadata": {},
   "outputs": [],
   "source": [
    "import datetime\n",
    "\n",
    "tday = datetime.date.today()\n",
    "tdelta = datetime. timedelta (days=7)\n",
    "\n",
    "print (tday +tdelta)\n",
    "print (tday -tdelta)\n",
    "print(tday.year)\n",
    "print(tday.month)\n",
    "\n",
    "print()\n",
    "\n",
    "\n",
    "bday = datetime.date(2016, 9, 24)\n",
    "till_bday = tday - bday\n",
    "print (till_bday.days)\n",
    "\n"
   ]
  },
  {
   "cell_type": "code",
   "execution_count": null,
   "metadata": {},
   "outputs": [],
   "source": [
    "--"
   ]
  },
  {
   "cell_type": "markdown",
   "metadata": {},
   "source": [
    "Don’t try to engineer features. The NLP and ML community tried that for 50 years and success was pretty mediocre. Instead, train an LSTM or a dilated CNN. In the simplest case, use a binary cross-entropy loss with ground truth labels ‘stock went up’ and ‘stock went down’ (you’ll have to collect those yourself by checking the price before and after earnings calls). Then use back-propagation through time to train your model. Real models are of course much more complicated, but it’s a start and will likely work better than manual engineering.\n",
    "\n",
    "If you succeed, it’s still pretty unlikely that you can beat institutions in terms of time. They analyze these report in about 150ms, just to give you a benchmark."
   ]
  },
  {
   "cell_type": "markdown",
   "metadata": {},
   "source": [
    "Since you’re doing simple text classification, any reason why linear models wouldn’t perform well enough for a task like this? Is there any evaluation suggesting a neural network does significantly better? Also do we really need to model it as a time-series (lstm/dilated cnns)?\n",
    "\n",
    "It’s not a time-series, it’s sequential prediction. There’s absolutely no chance to obtain state-of-the-art performance with a linear model and the entire NLP literature supports this view. Many successful approaches use bidirectional LSTMs modeling n-grams nowadays. If the task is topic modeling, check out David Blei’s papers on”Latent Dirichlet Allocation” and “Dynamic topic models”. For word embeddings, “Distributed Representations of Words and Phrases and their Compositionality” is a must read.\n",
    "\n",
    "https://www.reddit.com/r/investing/comments/a1kk0p/when_applying_nlp_to_earnings_transcripts_what/"
   ]
  },
  {
   "cell_type": "code",
   "execution_count": null,
   "metadata": {},
   "outputs": [],
   "source": [
    "#https://www.geeksforgeeks.org/working-with-pdf-files-in-python/"
   ]
  },
  {
   "cell_type": "code",
   "execution_count": null,
   "metadata": {
    "scrolled": true
   },
   "outputs": [],
   "source": [
    "# importing required modules \n",
    "import PyPDF2 \n",
    "  \n",
    "# creating a pdf file object \n",
    "pdfFileObj = open('./document(1).pdf', 'rb') \n",
    "  \n",
    "# creating a pdf reader object \n",
    "pdfReader = PyPDF2.PdfFileReader(pdfFileObj) \n",
    "  \n",
    "# printing number of pages in pdf file \n",
    "print(pdfReader.numPages) \n",
    "\n",
    "# creating a page object \n",
    "pageObj = pdfReader.getPage(0) \n",
    "  \n",
    "# extracting text from page \n",
    "print(pageObj.extractText()) \n",
    "\n",
    "text = pageObj.extractText()\n",
    "  \n",
    "# closing the pdf file object \n",
    "pdfFileObj.close() "
   ]
  },
  {
   "cell_type": "code",
   "execution_count": null,
   "metadata": {},
   "outputs": [],
   "source": [
    "--"
   ]
  },
  {
   "cell_type": "code",
   "execution_count": null,
   "metadata": {},
   "outputs": [],
   "source": []
  },
  {
   "cell_type": "code",
   "execution_count": 89,
   "metadata": {},
   "outputs": [],
   "source": [
    "import pandas_datareader as pdr\n",
    "import datetime \n",
    "\n",
    "def get(tickers, startdate, enddate):\n",
    "  def data(ticker):\n",
    "    return (pdr.get_data_yahoo(ticker, start=startdate, end=enddate))\n",
    "  datas = map (data, tickers)\n",
    "  return(pd.concat(datas, keys=tickers, names=['Ticker', 'Date']))\n",
    "\n",
    "tickers = ['TSLA', 'GM']\n",
    "all_data = get(tickers, datetime.datetime(2019, 1, 1), datetime.datetime(2019, 4, 29))\n"
   ]
  },
  {
   "cell_type": "code",
   "execution_count": 90,
   "metadata": {},
   "outputs": [],
   "source": [
    "all_data.reset_index(inplace=True)"
   ]
  },
  {
   "cell_type": "code",
   "execution_count": 91,
   "metadata": {},
   "outputs": [
    {
     "data": {
      "text/html": [
       "<div>\n",
       "<style scoped>\n",
       "    .dataframe tbody tr th:only-of-type {\n",
       "        vertical-align: middle;\n",
       "    }\n",
       "\n",
       "    .dataframe tbody tr th {\n",
       "        vertical-align: top;\n",
       "    }\n",
       "\n",
       "    .dataframe thead th {\n",
       "        text-align: right;\n",
       "    }\n",
       "</style>\n",
       "<table border=\"1\" class=\"dataframe\">\n",
       "  <thead>\n",
       "    <tr style=\"text-align: right;\">\n",
       "      <th></th>\n",
       "      <th>Ticker</th>\n",
       "      <th>Date</th>\n",
       "      <th>High</th>\n",
       "      <th>Low</th>\n",
       "      <th>Open</th>\n",
       "      <th>Close</th>\n",
       "      <th>Volume</th>\n",
       "      <th>Adj Close</th>\n",
       "      <th>year</th>\n",
       "      <th>month</th>\n",
       "      <th>day</th>\n",
       "      <th>quarter</th>\n",
       "    </tr>\n",
       "  </thead>\n",
       "  <tbody>\n",
       "    <tr>\n",
       "      <th>0</th>\n",
       "      <td>TSLA</td>\n",
       "      <td>2019-01-02</td>\n",
       "      <td>315.130005</td>\n",
       "      <td>298.799988</td>\n",
       "      <td>306.100006</td>\n",
       "      <td>310.119995</td>\n",
       "      <td>11658600.0</td>\n",
       "      <td>310.119995</td>\n",
       "      <td>2019</td>\n",
       "      <td>1</td>\n",
       "      <td>2</td>\n",
       "      <td>1</td>\n",
       "    </tr>\n",
       "    <tr>\n",
       "      <th>1</th>\n",
       "      <td>TSLA</td>\n",
       "      <td>2019-01-03</td>\n",
       "      <td>309.399994</td>\n",
       "      <td>297.380005</td>\n",
       "      <td>307.000000</td>\n",
       "      <td>300.359985</td>\n",
       "      <td>6954400.0</td>\n",
       "      <td>300.359985</td>\n",
       "      <td>2019</td>\n",
       "      <td>1</td>\n",
       "      <td>3</td>\n",
       "      <td>1</td>\n",
       "    </tr>\n",
       "    <tr>\n",
       "      <th>2</th>\n",
       "      <td>TSLA</td>\n",
       "      <td>2019-01-04</td>\n",
       "      <td>318.000000</td>\n",
       "      <td>302.730011</td>\n",
       "      <td>306.000000</td>\n",
       "      <td>317.690002</td>\n",
       "      <td>7394100.0</td>\n",
       "      <td>317.690002</td>\n",
       "      <td>2019</td>\n",
       "      <td>1</td>\n",
       "      <td>4</td>\n",
       "      <td>1</td>\n",
       "    </tr>\n",
       "    <tr>\n",
       "      <th>3</th>\n",
       "      <td>TSLA</td>\n",
       "      <td>2019-01-07</td>\n",
       "      <td>336.739990</td>\n",
       "      <td>317.750000</td>\n",
       "      <td>321.720001</td>\n",
       "      <td>334.959991</td>\n",
       "      <td>7551200.0</td>\n",
       "      <td>334.959991</td>\n",
       "      <td>2019</td>\n",
       "      <td>1</td>\n",
       "      <td>7</td>\n",
       "      <td>1</td>\n",
       "    </tr>\n",
       "    <tr>\n",
       "      <th>4</th>\n",
       "      <td>TSLA</td>\n",
       "      <td>2019-01-08</td>\n",
       "      <td>344.010010</td>\n",
       "      <td>327.019989</td>\n",
       "      <td>341.959991</td>\n",
       "      <td>335.350006</td>\n",
       "      <td>7008500.0</td>\n",
       "      <td>335.350006</td>\n",
       "      <td>2019</td>\n",
       "      <td>1</td>\n",
       "      <td>8</td>\n",
       "      <td>1</td>\n",
       "    </tr>\n",
       "  </tbody>\n",
       "</table>\n",
       "</div>"
      ],
      "text/plain": [
       "  Ticker       Date        High         Low        Open       Close  \\\n",
       "0   TSLA 2019-01-02  315.130005  298.799988  306.100006  310.119995   \n",
       "1   TSLA 2019-01-03  309.399994  297.380005  307.000000  300.359985   \n",
       "2   TSLA 2019-01-04  318.000000  302.730011  306.000000  317.690002   \n",
       "3   TSLA 2019-01-07  336.739990  317.750000  321.720001  334.959991   \n",
       "4   TSLA 2019-01-08  344.010010  327.019989  341.959991  335.350006   \n",
       "\n",
       "       Volume   Adj Close  year  month  day  quarter  \n",
       "0  11658600.0  310.119995  2019      1    2        1  \n",
       "1   6954400.0  300.359985  2019      1    3        1  \n",
       "2   7394100.0  317.690002  2019      1    4        1  \n",
       "3   7551200.0  334.959991  2019      1    7        1  \n",
       "4   7008500.0  335.350006  2019      1    8        1  "
      ]
     },
     "execution_count": 91,
     "metadata": {},
     "output_type": "execute_result"
    }
   ],
   "source": [
    "all_data['year'] = all_data['Date'].dt.year\n",
    "all_data['month'] = all_data['Date'].dt.month\n",
    "all_data['day'] = all_data['Date'].dt.day\n",
    "all_data['quarter'] = all_data['Date'].dt.quarter\n",
    "\n",
    "\n",
    "all_data.head()"
   ]
  },
  {
   "cell_type": "code",
   "execution_count": null,
   "metadata": {},
   "outputs": [],
   "source": []
  }
 ],
 "metadata": {
  "kernelspec": {
   "display_name": "Python 3",
   "language": "python",
   "name": "python3"
  },
  "language_info": {
   "codemirror_mode": {
    "name": "ipython",
    "version": 3
   },
   "file_extension": ".py",
   "mimetype": "text/x-python",
   "name": "python",
   "nbconvert_exporter": "python",
   "pygments_lexer": "ipython3",
   "version": "3.6.8"
  },
  "toc": {
   "base_numbering": 1,
   "nav_menu": {},
   "number_sections": true,
   "sideBar": true,
   "skip_h1_title": false,
   "title_cell": "Table of Contents",
   "title_sidebar": "Contents",
   "toc_cell": true,
   "toc_position": {
    "height": "calc(100% - 180px)",
    "left": "10px",
    "top": "150px",
    "width": "165px"
   },
   "toc_section_display": true,
   "toc_window_display": true
  }
 },
 "nbformat": 4,
 "nbformat_minor": 2
}
