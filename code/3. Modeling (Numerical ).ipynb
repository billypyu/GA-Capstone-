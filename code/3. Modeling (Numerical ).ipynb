{
 "cells": [
  {
   "cell_type": "markdown",
   "metadata": {
    "toc": true
   },
   "source": [
    "<h1>Table of Contents<span class=\"tocSkip\"></span></h1>\n",
    "<div class=\"toc\"><ul class=\"toc-item\"><li><span><a href=\"#Coefficient-on-the-features\" data-toc-modified-id=\"Coefficient-on-the-features-1\"><span class=\"toc-item-num\">1&nbsp;&nbsp;</span>Coefficient on the features</a></span></li><li><span><a href=\"#Model-Instantiation\" data-toc-modified-id=\"Model-Instantiation-2\"><span class=\"toc-item-num\">2&nbsp;&nbsp;</span>Model Instantiation</a></span></li><li><span><a href=\"#Model-prep-and-Train/Test-split\" data-toc-modified-id=\"Model-prep-and-Train/Test-split-3\"><span class=\"toc-item-num\">3&nbsp;&nbsp;</span>Model prep and Train/Test split</a></span></li><li><span><a href=\"#Model-Score\" data-toc-modified-id=\"Model-Score-4\"><span class=\"toc-item-num\">4&nbsp;&nbsp;</span>Model Score</a></span></li><li><span><a href=\"#Principal-Component-Analysis-(PCA)\" data-toc-modified-id=\"Principal-Component-Analysis-(PCA)-5\"><span class=\"toc-item-num\">5&nbsp;&nbsp;</span>Principal Component Analysis (PCA)</a></span></li><li><span><a href=\"#Telsa-Only\" data-toc-modified-id=\"Telsa-Only-6\"><span class=\"toc-item-num\">6&nbsp;&nbsp;</span>Telsa Only</a></span><ul class=\"toc-item\"><li><span><a href=\"#Principal-Component-Analysis-(PCA)-for-Tesla\" data-toc-modified-id=\"Principal-Component-Analysis-(PCA)-for-Tesla-6.1\"><span class=\"toc-item-num\">6.1&nbsp;&nbsp;</span>Principal Component Analysis (PCA) for Tesla</a></span></li></ul></li><li><span><a href=\"#Simple-Neural-Network\" data-toc-modified-id=\"Simple-Neural-Network-7\"><span class=\"toc-item-num\">7&nbsp;&nbsp;</span>Simple Neural Network</a></span></li></ul></div>"
   ]
  },
  {
   "cell_type": "code",
   "execution_count": 1,
   "metadata": {},
   "outputs": [],
   "source": [
    "import pandas as pd\n",
    "import datetime\n",
    "import pandas_datareader as pdr\n",
    "\n",
    "import re\n",
    "from nltk.tokenize import RegexpTokenizer\n",
    "from nltk.stem import WordNetLemmatizer\n",
    "from nltk.corpus import stopwords\n",
    "\n",
    "\n",
    "from sklearn.model_selection import train_test_split, GridSearchCV\n",
    "from sklearn.feature_extraction.text import TfidfTransformer, CountVectorizer, TfidfVectorizer\n",
    "from sklearn.neighbors import KNeighborsClassifier\n",
    "\n",
    "from sklearn.naive_bayes import MultinomialNB, GaussianNB\n",
    "\n",
    "from sklearn.ensemble import ExtraTreesClassifier, GradientBoostingRegressor, VotingClassifier, RandomForestClassifier, GradientBoostingClassifier, BaggingClassifier,   AdaBoostClassifier\n",
    "from sklearn.tree import DecisionTreeClassifier\n",
    "\n",
    "from sklearn.linear_model import LogisticRegression\n",
    "from sklearn import metrics\n",
    "from sklearn.svm import LinearSVC\n",
    "import xgboost as xgb\n",
    "from sklearn.svm import SVC\n",
    "import xgboost as xgb\n",
    "import numpy as np\n",
    "\n",
    "from capstone_function import model_scores\n",
    "\n",
    "import matplotlib.pyplot as plt\n",
    "%matplotlib inline\n",
    "\n",
    "\n",
    "import scikitplot as skplt\n",
    "import matplotlib.pyplot as plt\n",
    "\n",
    "from capstone_function import model_scores\n",
    "\n",
    "import warnings\n",
    "warnings.filterwarnings('ignore')\n",
    "\n",
    "%matplotlib inline"
   ]
  },
  {
   "cell_type": "markdown",
   "metadata": {},
   "source": [
    "**Modeling concern and model selection**\n",
    "- Before modeling, one of the concern is multicollinearity as some of features are highly correlated if we use linear regression to predict continuous values. Meanwhile, we can not guarantee the independence of each features because management and analyst may have a similar point of view or sentiment in the call transcripts. \n",
    "\n",
    "- However, referred to the setup of the problem statement, we want to predict either the market is up or down for speculative investors, classification model such as tree-based model, GBM-based model will work well in this dataset. Since we will use the combination of both, adding or removing correlated variables should not hit the accuracy scores but only decrease the computing time necessary. Since boosted trees use individual decision trees, they also are unaffected by multi-collinearity. \n",
    "\n",
    "- The ideal candidate will be Random forest and XGBoost for this data set. The importance matrix of an xgboost model is actually a data table object with the first column listing the names of all the features actually used in the boosted trees. The second column is the Gain metric which implies the relative contribution of the corresponding feature to the model calculated by taking each feature's contribution for each tree in the model. A higher value of this metric when compared to another feature implies it is more important for generating a prediction. Therefore, the ultimate goal will be providing insights to speculative investors on what to look for before next trading day. \n"
   ]
  },
  {
   "cell_type": "code",
   "execution_count": 2,
   "metadata": {},
   "outputs": [
    {
     "data": {
      "text/plain": [
       "61"
      ]
     },
     "execution_count": 2,
     "metadata": {},
     "output_type": "execute_result"
    }
   ],
   "source": [
    "import pickle\n",
    "df = pickle.load(open( \"../data/df_final.pkl\", \"rb\" ))\n",
    "df = df.drop(columns=['Close','Open','pct_price'])\n",
    "df.drop_duplicates(subset='transcripts', keep='first', inplace=True)\n",
    "\n",
    "df = df.select_dtypes([np.number])\n",
    "len(df)"
   ]
  },
  {
   "cell_type": "markdown",
   "metadata": {},
   "source": [
    "# Coefficient on the features "
   ]
  },
  {
   "cell_type": "code",
   "execution_count": 3,
   "metadata": {},
   "outputs": [
    {
     "data": {
      "text/html": [
       "<div>\n",
       "<style scoped>\n",
       "    .dataframe tbody tr th:only-of-type {\n",
       "        vertical-align: middle;\n",
       "    }\n",
       "\n",
       "    .dataframe tbody tr th {\n",
       "        vertical-align: top;\n",
       "    }\n",
       "\n",
       "    .dataframe thead th {\n",
       "        text-align: right;\n",
       "    }\n",
       "</style>\n",
       "<table border=\"1\" class=\"dataframe\">\n",
       "  <thead>\n",
       "    <tr style=\"text-align: right;\">\n",
       "      <th></th>\n",
       "      <th>pct_price_target</th>\n",
       "    </tr>\n",
       "  </thead>\n",
       "  <tbody>\n",
       "    <tr>\n",
       "      <th>pct_price_target</th>\n",
       "      <td>1.000000</td>\n",
       "    </tr>\n",
       "    <tr>\n",
       "      <th>esp_target</th>\n",
       "      <td>0.185844</td>\n",
       "    </tr>\n",
       "    <tr>\n",
       "      <th>tx_QAflesch_reading_ease</th>\n",
       "      <td>0.137845</td>\n",
       "    </tr>\n",
       "    <tr>\n",
       "      <th>polarity</th>\n",
       "      <td>0.131189</td>\n",
       "    </tr>\n",
       "    <tr>\n",
       "      <th>tx_QA_compound</th>\n",
       "      <td>0.115045</td>\n",
       "    </tr>\n",
       "    <tr>\n",
       "      <th>subjectivity</th>\n",
       "      <td>0.109585</td>\n",
       "    </tr>\n",
       "    <tr>\n",
       "      <th>transcriptsflesch_reading_ease</th>\n",
       "      <td>0.099037</td>\n",
       "    </tr>\n",
       "    <tr>\n",
       "      <th>tx_QA_polarity</th>\n",
       "      <td>0.097424</td>\n",
       "    </tr>\n",
       "    <tr>\n",
       "      <th>tx_QA_subjectivity</th>\n",
       "      <td>0.095725</td>\n",
       "    </tr>\n",
       "    <tr>\n",
       "      <th>tx_MDdale_chall_readability_score</th>\n",
       "      <td>0.088516</td>\n",
       "    </tr>\n",
       "  </tbody>\n",
       "</table>\n",
       "</div>"
      ],
      "text/plain": [
       "                                   pct_price_target\n",
       "pct_price_target                           1.000000\n",
       "esp_target                                 0.185844\n",
       "tx_QAflesch_reading_ease                   0.137845\n",
       "polarity                                   0.131189\n",
       "tx_QA_compound                             0.115045\n",
       "subjectivity                               0.109585\n",
       "transcriptsflesch_reading_ease             0.099037\n",
       "tx_QA_polarity                             0.097424\n",
       "tx_QA_subjectivity                         0.095725\n",
       "tx_MDdale_chall_readability_score          0.088516"
      ]
     },
     "execution_count": 3,
     "metadata": {},
     "output_type": "execute_result"
    }
   ],
   "source": [
    "df.corr()[['pct_price_target']].sort_values(by='pct_price_target', ascending=False)[:10]"
   ]
  },
  {
   "cell_type": "code",
   "execution_count": 4,
   "metadata": {},
   "outputs": [
    {
     "data": {
      "text/html": [
       "<div>\n",
       "<style scoped>\n",
       "    .dataframe tbody tr th:only-of-type {\n",
       "        vertical-align: middle;\n",
       "    }\n",
       "\n",
       "    .dataframe tbody tr th {\n",
       "        vertical-align: top;\n",
       "    }\n",
       "\n",
       "    .dataframe thead th {\n",
       "        text-align: right;\n",
       "    }\n",
       "</style>\n",
       "<table border=\"1\" class=\"dataframe\">\n",
       "  <thead>\n",
       "    <tr style=\"text-align: right;\">\n",
       "      <th></th>\n",
       "      <th>pct_price_target</th>\n",
       "    </tr>\n",
       "  </thead>\n",
       "  <tbody>\n",
       "    <tr>\n",
       "      <th>tx_MDtextstat.lexicon_count</th>\n",
       "      <td>-0.133579</td>\n",
       "    </tr>\n",
       "    <tr>\n",
       "      <th>transcriptsdale_chall_readability_score</th>\n",
       "      <td>-0.133712</td>\n",
       "    </tr>\n",
       "    <tr>\n",
       "      <th>tx_QAautomated_readability_index</th>\n",
       "      <td>-0.134759</td>\n",
       "    </tr>\n",
       "    <tr>\n",
       "      <th>tx_QAgunning_fog</th>\n",
       "      <td>-0.144407</td>\n",
       "    </tr>\n",
       "    <tr>\n",
       "      <th>tx_QAflesch_kincaid_grade</th>\n",
       "      <td>-0.148334</td>\n",
       "    </tr>\n",
       "    <tr>\n",
       "      <th>tx_QA_avg_sentence_length</th>\n",
       "      <td>-0.149017</td>\n",
       "    </tr>\n",
       "    <tr>\n",
       "      <th>tx_QAdale_chall_readability_score</th>\n",
       "      <td>-0.165917</td>\n",
       "    </tr>\n",
       "    <tr>\n",
       "      <th>Volume</th>\n",
       "      <td>-0.171352</td>\n",
       "    </tr>\n",
       "    <tr>\n",
       "      <th>pct_price_target_same_day</th>\n",
       "      <td>-0.633531</td>\n",
       "    </tr>\n",
       "    <tr>\n",
       "      <th>pct_price_same_day</th>\n",
       "      <td>-0.634030</td>\n",
       "    </tr>\n",
       "  </tbody>\n",
       "</table>\n",
       "</div>"
      ],
      "text/plain": [
       "                                         pct_price_target\n",
       "tx_MDtextstat.lexicon_count                     -0.133579\n",
       "transcriptsdale_chall_readability_score         -0.133712\n",
       "tx_QAautomated_readability_index                -0.134759\n",
       "tx_QAgunning_fog                                -0.144407\n",
       "tx_QAflesch_kincaid_grade                       -0.148334\n",
       "tx_QA_avg_sentence_length                       -0.149017\n",
       "tx_QAdale_chall_readability_score               -0.165917\n",
       "Volume                                          -0.171352\n",
       "pct_price_target_same_day                       -0.633531\n",
       "pct_price_same_day                              -0.634030"
      ]
     },
     "execution_count": 4,
     "metadata": {},
     "output_type": "execute_result"
    }
   ],
   "source": [
    "df.corr()[['pct_price_target']].sort_values(by='pct_price_target', ascending=False)[-10:]"
   ]
  },
  {
   "cell_type": "markdown",
   "metadata": {},
   "source": [
    "# Model Instantiation"
   ]
  },
  {
   "cell_type": "code",
   "execution_count": 5,
   "metadata": {},
   "outputs": [],
   "source": [
    "#instantiate models \n",
    "logreg = LogisticRegression(random_state=42)\n",
    "dt = DecisionTreeClassifier()\n",
    "et = ExtraTreesClassifier(random_state=42)\n",
    "\n",
    "rf = RandomForestClassifier(random_state=42)\n",
    "rf1 = RandomForestClassifier(n_estimators=500, max_leaf_nodes=16, n_jobs=-1)\n",
    "\n",
    "gb = GradientBoostingClassifier(random_state=42)\n",
    "gbrt1 = GradientBoostingRegressor(max_depth=5, n_estimators=3, learning_rate=1.0)\n",
    "\n",
    "svm = SVC(kernel='poly', degree=2)\n",
    "\n",
    "xb = xgb.XGBClassifier(random_state=42)\n",
    "xb1 = xgb.XGBClassifier(learning_rate =0.1,n_estimators=1000,max_depth=5,min_child_weight=1,gamma=0,subsample=0.8,colsample_bytree=0.8,\n",
    " objective= 'binary:logistic',nthread=4,scale_pos_weight=1,seed=42)\n",
    "\n",
    "ada = AdaBoostClassifier(random_state=42)\n",
    "ada1 = AdaBoostClassifier (DecisionTreeClassifier(), n_estimators=10, learning_rate=1, random_state= 42 )\n",
    "\n",
    "bg = BaggingClassifier(DecisionTreeClassifier(), max_samples=0.5, max_features=1,n_estimators=10,random_state= 42 )\n",
    "\n",
    "#Emsenble model\n",
    "evc = VotingClassifier( estimators=[ ('lr',logreg), ('dt', dt), ('svm', svm),('et',et) ], voting='hard')\n"
   ]
  },
  {
   "cell_type": "markdown",
   "metadata": {},
   "source": [
    "# Model prep and Train/Test split"
   ]
  },
  {
   "cell_type": "code",
   "execution_count": 6,
   "metadata": {},
   "outputs": [],
   "source": [
    "X = df.drop(columns=['pct_price_target','Volume'])\n",
    "y = df['pct_price_target']\n",
    "\n",
    "X_train, X_test, y_train, y_test = train_test_split(X,\n",
    "                                                    y, \n",
    "                                                    test_size=0.25, \n",
    "                                                    random_state=42)\n",
    "from sklearn.preprocessing import StandardScaler\n",
    "ss = StandardScaler()\n",
    "X_train_sc = ss.fit_transform(X_train) # must fit transform to numbers for train \n",
    "X_test_sc = ss.transform(X_test)       # must transform to number for test"
   ]
  },
  {
   "cell_type": "markdown",
   "metadata": {},
   "source": [
    "# Model Score"
   ]
  },
  {
   "cell_type": "code",
   "execution_count": 7,
   "metadata": {
    "scrolled": false
   },
   "outputs": [
    {
     "data": {
      "text/html": [
       "<div>\n",
       "<style scoped>\n",
       "    .dataframe tbody tr th:only-of-type {\n",
       "        vertical-align: middle;\n",
       "    }\n",
       "\n",
       "    .dataframe tbody tr th {\n",
       "        vertical-align: top;\n",
       "    }\n",
       "\n",
       "    .dataframe thead th {\n",
       "        text-align: right;\n",
       "    }\n",
       "</style>\n",
       "<table border=\"1\" class=\"dataframe\">\n",
       "  <thead>\n",
       "    <tr style=\"text-align: right;\">\n",
       "      <th></th>\n",
       "      <th>model</th>\n",
       "      <th>accuracy score</th>\n",
       "      <th>cv train score</th>\n",
       "      <th>cv test score</th>\n",
       "      <th>train score</th>\n",
       "      <th>test score</th>\n",
       "      <th>train-test gap</th>\n",
       "      <th>model status</th>\n",
       "      <th>bias vs variance</th>\n",
       "    </tr>\n",
       "  </thead>\n",
       "  <tbody>\n",
       "    <tr>\n",
       "      <th>0</th>\n",
       "      <td>LogisticRegression(C=1.0, class_weight=None, d...</td>\n",
       "      <td>0.5000</td>\n",
       "      <td>0.638889</td>\n",
       "      <td>0.433333</td>\n",
       "      <td>1.000000</td>\n",
       "      <td>0.5000</td>\n",
       "      <td>0.500000</td>\n",
       "      <td>overfit</td>\n",
       "      <td>high variance</td>\n",
       "    </tr>\n",
       "    <tr>\n",
       "      <th>0</th>\n",
       "      <td>(DecisionTreeClassifier(class_weight=None, cri...</td>\n",
       "      <td>0.3125</td>\n",
       "      <td>0.643452</td>\n",
       "      <td>0.388889</td>\n",
       "      <td>1.000000</td>\n",
       "      <td>0.3125</td>\n",
       "      <td>0.687500</td>\n",
       "      <td>overfit</td>\n",
       "      <td>high variance</td>\n",
       "    </tr>\n",
       "    <tr>\n",
       "      <th>0</th>\n",
       "      <td>(ExtraTreeClassifier(class_weight=None, criter...</td>\n",
       "      <td>0.7500</td>\n",
       "      <td>0.624008</td>\n",
       "      <td>0.444444</td>\n",
       "      <td>1.000000</td>\n",
       "      <td>0.7500</td>\n",
       "      <td>0.250000</td>\n",
       "      <td>overfit</td>\n",
       "      <td>high variance</td>\n",
       "    </tr>\n",
       "    <tr>\n",
       "      <th>0</th>\n",
       "      <td>(DecisionTreeClassifier(class_weight=None, cri...</td>\n",
       "      <td>0.6250</td>\n",
       "      <td>0.665476</td>\n",
       "      <td>0.566667</td>\n",
       "      <td>1.000000</td>\n",
       "      <td>0.6250</td>\n",
       "      <td>0.375000</td>\n",
       "      <td>overfit</td>\n",
       "      <td>high variance</td>\n",
       "    </tr>\n",
       "    <tr>\n",
       "      <th>0</th>\n",
       "      <td>([DecisionTreeRegressor(criterion='friedman_ms...</td>\n",
       "      <td>0.6875</td>\n",
       "      <td>0.601587</td>\n",
       "      <td>0.500000</td>\n",
       "      <td>1.000000</td>\n",
       "      <td>0.6875</td>\n",
       "      <td>0.312500</td>\n",
       "      <td>overfit</td>\n",
       "      <td>high variance</td>\n",
       "    </tr>\n",
       "    <tr>\n",
       "      <th>0</th>\n",
       "      <td>SVC(C=1.0, cache_size=200, class_weight=None, ...</td>\n",
       "      <td>0.4375</td>\n",
       "      <td>0.600397</td>\n",
       "      <td>0.500000</td>\n",
       "      <td>0.733333</td>\n",
       "      <td>0.4375</td>\n",
       "      <td>0.295833</td>\n",
       "      <td>overfit</td>\n",
       "      <td>high variance</td>\n",
       "    </tr>\n",
       "    <tr>\n",
       "      <th>0</th>\n",
       "      <td>XGBClassifier(base_score=0.5, booster='gbtree'...</td>\n",
       "      <td>0.6250</td>\n",
       "      <td>0.644841</td>\n",
       "      <td>0.566667</td>\n",
       "      <td>1.000000</td>\n",
       "      <td>0.6250</td>\n",
       "      <td>0.375000</td>\n",
       "      <td>overfit</td>\n",
       "      <td>high variance</td>\n",
       "    </tr>\n",
       "    <tr>\n",
       "      <th>0</th>\n",
       "      <td>XGBClassifier(base_score=0.5, booster='gbtree'...</td>\n",
       "      <td>0.6250</td>\n",
       "      <td>0.668651</td>\n",
       "      <td>0.566667</td>\n",
       "      <td>1.000000</td>\n",
       "      <td>0.6250</td>\n",
       "      <td>0.375000</td>\n",
       "      <td>overfit</td>\n",
       "      <td>high variance</td>\n",
       "    </tr>\n",
       "    <tr>\n",
       "      <th>0</th>\n",
       "      <td>VotingClassifier(estimators=[('lr', LogisticRe...</td>\n",
       "      <td>0.5000</td>\n",
       "      <td>0.684921</td>\n",
       "      <td>0.444444</td>\n",
       "      <td>1.000000</td>\n",
       "      <td>0.5000</td>\n",
       "      <td>0.500000</td>\n",
       "      <td>overfit</td>\n",
       "      <td>high variance</td>\n",
       "    </tr>\n",
       "  </tbody>\n",
       "</table>\n",
       "</div>"
      ],
      "text/plain": [
       "                                               model  accuracy score  \\\n",
       "0  LogisticRegression(C=1.0, class_weight=None, d...          0.5000   \n",
       "0  (DecisionTreeClassifier(class_weight=None, cri...          0.3125   \n",
       "0  (ExtraTreeClassifier(class_weight=None, criter...          0.7500   \n",
       "0  (DecisionTreeClassifier(class_weight=None, cri...          0.6250   \n",
       "0  ([DecisionTreeRegressor(criterion='friedman_ms...          0.6875   \n",
       "0  SVC(C=1.0, cache_size=200, class_weight=None, ...          0.4375   \n",
       "0  XGBClassifier(base_score=0.5, booster='gbtree'...          0.6250   \n",
       "0  XGBClassifier(base_score=0.5, booster='gbtree'...          0.6250   \n",
       "0  VotingClassifier(estimators=[('lr', LogisticRe...          0.5000   \n",
       "\n",
       "   cv train score  cv test score  train score  test score  train-test gap  \\\n",
       "0        0.638889       0.433333     1.000000      0.5000        0.500000   \n",
       "0        0.643452       0.388889     1.000000      0.3125        0.687500   \n",
       "0        0.624008       0.444444     1.000000      0.7500        0.250000   \n",
       "0        0.665476       0.566667     1.000000      0.6250        0.375000   \n",
       "0        0.601587       0.500000     1.000000      0.6875        0.312500   \n",
       "0        0.600397       0.500000     0.733333      0.4375        0.295833   \n",
       "0        0.644841       0.566667     1.000000      0.6250        0.375000   \n",
       "0        0.668651       0.566667     1.000000      0.6250        0.375000   \n",
       "0        0.684921       0.444444     1.000000      0.5000        0.500000   \n",
       "\n",
       "  model status bias vs variance  \n",
       "0      overfit    high variance  \n",
       "0      overfit    high variance  \n",
       "0      overfit    high variance  \n",
       "0      overfit    high variance  \n",
       "0      overfit    high variance  \n",
       "0      overfit    high variance  \n",
       "0      overfit    high variance  \n",
       "0      overfit    high variance  \n",
       "0      overfit    high variance  "
      ]
     },
     "execution_count": 7,
     "metadata": {},
     "output_type": "execute_result"
    }
   ],
   "source": [
    "score_matrix = pd.DataFrame() # Instantiate the empty shell to hold the function\n",
    "\n",
    "models = [logreg, rf,et,ada,gb, svm, xb, xb1, evc]\n",
    "\n",
    "for i in models:\n",
    "    score_matrix = score_matrix.append(model_scores(i, X_train_sc, y_train, X_test_sc, y_test))\n",
    "score_matrix"
   ]
  },
  {
   "cell_type": "code",
   "execution_count": 8,
   "metadata": {
    "scrolled": false
   },
   "outputs": [
    {
     "data": {
      "text/html": [
       "<div>\n",
       "<style scoped>\n",
       "    .dataframe tbody tr th:only-of-type {\n",
       "        vertical-align: middle;\n",
       "    }\n",
       "\n",
       "    .dataframe tbody tr th {\n",
       "        vertical-align: top;\n",
       "    }\n",
       "\n",
       "    .dataframe thead th {\n",
       "        text-align: right;\n",
       "    }\n",
       "</style>\n",
       "<table border=\"1\" class=\"dataframe\">\n",
       "  <thead>\n",
       "    <tr style=\"text-align: right;\">\n",
       "      <th></th>\n",
       "      <th>feature</th>\n",
       "      <th>coef</th>\n",
       "    </tr>\n",
       "  </thead>\n",
       "  <tbody>\n",
       "    <tr>\n",
       "      <th>7</th>\n",
       "      <td>pct_price_target_same_day</td>\n",
       "      <td>0.255232</td>\n",
       "    </tr>\n",
       "    <tr>\n",
       "      <th>3</th>\n",
       "      <td>pct_price_same_day</td>\n",
       "      <td>0.090428</td>\n",
       "    </tr>\n",
       "    <tr>\n",
       "      <th>14</th>\n",
       "      <td>tx_QA_neg</td>\n",
       "      <td>0.045227</td>\n",
       "    </tr>\n",
       "    <tr>\n",
       "      <th>51</th>\n",
       "      <td>tx_QAdifficult_words</td>\n",
       "      <td>0.032455</td>\n",
       "    </tr>\n",
       "    <tr>\n",
       "      <th>34</th>\n",
       "      <td>transcriptsdale_chall_readability_score</td>\n",
       "      <td>0.029059</td>\n",
       "    </tr>\n",
       "    <tr>\n",
       "      <th>10</th>\n",
       "      <td>tx_MD_neg</td>\n",
       "      <td>0.028147</td>\n",
       "    </tr>\n",
       "    <tr>\n",
       "      <th>28</th>\n",
       "      <td>transcriptsflesch_kincaid_grade</td>\n",
       "      <td>0.027838</td>\n",
       "    </tr>\n",
       "    <tr>\n",
       "      <th>29</th>\n",
       "      <td>transcriptsdifficult_words</td>\n",
       "      <td>0.027101</td>\n",
       "    </tr>\n",
       "    <tr>\n",
       "      <th>22</th>\n",
       "      <td>tx_MD_subjectivity</td>\n",
       "      <td>0.023494</td>\n",
       "    </tr>\n",
       "    <tr>\n",
       "      <th>39</th>\n",
       "      <td>tx_MDflesch_kincaid_grade</td>\n",
       "      <td>0.021928</td>\n",
       "    </tr>\n",
       "  </tbody>\n",
       "</table>\n",
       "</div>"
      ],
      "text/plain": [
       "                                    feature      coef\n",
       "7                 pct_price_target_same_day  0.255232\n",
       "3                        pct_price_same_day  0.090428\n",
       "14                                tx_QA_neg  0.045227\n",
       "51                     tx_QAdifficult_words  0.032455\n",
       "34  transcriptsdale_chall_readability_score  0.029059\n",
       "10                                tx_MD_neg  0.028147\n",
       "28          transcriptsflesch_kincaid_grade  0.027838\n",
       "29               transcriptsdifficult_words  0.027101\n",
       "22                       tx_MD_subjectivity  0.023494\n",
       "39                tx_MDflesch_kincaid_grade  0.021928"
      ]
     },
     "execution_count": 8,
     "metadata": {},
     "output_type": "execute_result"
    }
   ],
   "source": [
    "feature_importance_df = pd.DataFrame()\n",
    "feature_importance_df['feature'] = X_train.columns\n",
    "feature_importance_df['coef'] = et.feature_importances_\n",
    "feature_importance_df.sort_values(by='coef', ascending=False, inplace=True)\n",
    "feature_importance_df.head(10)"
   ]
  },
  {
   "cell_type": "code",
   "execution_count": 9,
   "metadata": {
    "scrolled": true
   },
   "outputs": [
    {
     "name": "stdout",
     "output_type": "stream",
     "text": [
      "[[5 1]\n",
      " [3 7]]\n",
      "              precision    recall  f1-score   support\n",
      "\n",
      "           0       0.62      0.83      0.71         6\n",
      "           1       0.88      0.70      0.78        10\n",
      "\n",
      "   micro avg       0.75      0.75      0.75        16\n",
      "   macro avg       0.75      0.77      0.75        16\n",
      "weighted avg       0.78      0.75      0.75        16\n",
      "\n"
     ]
    }
   ],
   "source": [
    "from sklearn.metrics import confusion_matrix  \n",
    "from sklearn.metrics import accuracy_score\n",
    "from sklearn.metrics import classification_report\n",
    "\n",
    "y_pred = et.predict(X_test_sc)  \n",
    "cm = confusion_matrix(y_test, y_pred)  \n",
    "\n",
    "print(cm)  \n",
    "print(classification_report(y_test, y_pred))"
   ]
  },
  {
   "cell_type": "markdown",
   "metadata": {},
   "source": [
    "From the confusion matrix, we see that the classifier got the following results:\n",
    "- Out of the (horizontal sum of 6) actual instances of 'ham' (not spam), it predicted correctly 5 of them;\n",
    "- Out of the (horizontal sum of 10) total actual instances of spam, it predicted correctly 7 of them."
   ]
  },
  {
   "cell_type": "code",
   "execution_count": 10,
   "metadata": {
    "scrolled": true
   },
   "outputs": [
    {
     "data": {
      "text/plain": [
       "<matplotlib.legend.Legend at 0x109847828>"
      ]
     },
     "execution_count": 10,
     "metadata": {},
     "output_type": "execute_result"
    },
    {
     "data": {
      "image/png": "[encoded data removed]",
      "text/plain": [
       "<Figure size 432x288 with 1 Axes>"
      ]
     },
     "metadata": {
      "needs_background": "light"
     },
     "output_type": "display_data"
    }
   ],
   "source": [
    "from sklearn.metrics import roc_curve\n",
    "import matplotlib.pyplot as plt\n",
    "%matplotlib inline\n",
    "\n",
    "y_pred_prob = et.predict_proba(X_test_sc)[:,1]\n",
    "fpr, tpr, thresholds = roc_curve(y_test, y_pred_prob)\n",
    "\n",
    "# create plot\n",
    "plt.plot(fpr, tpr, label='ROC curve')\n",
    "plt.plot([0, 1], [0, 1], 'k--', label='Random guess')\n",
    "plt.xlabel('False Positive Rate')\n",
    "plt.ylabel('True Positive Rate')\n",
    "plt.title('ROC Curve')\n",
    "plt.xlim([-0.02, 1])\n",
    "plt.ylim([0, 1.02])\n",
    "plt.legend(loc=\"lower right\")"
   ]
  },
  {
   "cell_type": "markdown",
   "metadata": {},
   "source": [
    "# Principal Component Analysis (PCA)"
   ]
  },
  {
   "cell_type": "markdown",
   "metadata": {},
   "source": [
    "The explained variance ratio with 2 components is 0.99. It could produce 0.75 accuracy with Extra tree model, compare to models without PCA. One of the most important applications of PCA is for speeding up machine learning algorithms as I intent to increase the data set. "
   ]
  },
  {
   "cell_type": "code",
   "execution_count": 12,
   "metadata": {},
   "outputs": [
    {
     "name": "stdout",
     "output_type": "stream",
     "text": [
      "[0.62581597 0.37167878 0.00192235]\n",
      "[0.62581597 0.99749475 0.9994171 ]\n"
     ]
    }
   ],
   "source": [
    "# Results 3 Principal Components\n",
    "from sklearn.decomposition import PCA\n",
    "pca = PCA(n_components=3)  \n",
    "\n",
    "X_train_pca = pca.fit_transform(X_train)  \n",
    "X_test_pca = pca.transform(X_test)  \n",
    "\n",
    "# Explained_variance Ration\n",
    "explained_variance = pca.explained_variance_ratio_  \n",
    "\n",
    "print(explained_variance[0:5])\n",
    "print (np.cumsum(explained_variance[0:5]))"
   ]
  },
  {
   "cell_type": "code",
   "execution_count": 13,
   "metadata": {
    "scrolled": false
   },
   "outputs": [
    {
     "data": {
      "text/html": [
       "<div>\n",
       "<style scoped>\n",
       "    .dataframe tbody tr th:only-of-type {\n",
       "        vertical-align: middle;\n",
       "    }\n",
       "\n",
       "    .dataframe tbody tr th {\n",
       "        vertical-align: top;\n",
       "    }\n",
       "\n",
       "    .dataframe thead th {\n",
       "        text-align: right;\n",
       "    }\n",
       "</style>\n",
       "<table border=\"1\" class=\"dataframe\">\n",
       "  <thead>\n",
       "    <tr style=\"text-align: right;\">\n",
       "      <th></th>\n",
       "      <th>model</th>\n",
       "      <th>accuracy score</th>\n",
       "      <th>cv train score</th>\n",
       "      <th>cv test score</th>\n",
       "      <th>train score</th>\n",
       "      <th>test score</th>\n",
       "      <th>train-test gap</th>\n",
       "      <th>model status</th>\n",
       "      <th>bias vs variance</th>\n",
       "    </tr>\n",
       "  </thead>\n",
       "  <tbody>\n",
       "    <tr>\n",
       "      <th>0</th>\n",
       "      <td>LogisticRegression(C=1.0, class_weight=None, d...</td>\n",
       "      <td>0.5000</td>\n",
       "      <td>0.638889</td>\n",
       "      <td>0.433333</td>\n",
       "      <td>1.000000</td>\n",
       "      <td>0.5000</td>\n",
       "      <td>0.500000</td>\n",
       "      <td>overfit</td>\n",
       "      <td>high variance</td>\n",
       "    </tr>\n",
       "    <tr>\n",
       "      <th>0</th>\n",
       "      <td>(DecisionTreeClassifier(class_weight=None, cri...</td>\n",
       "      <td>0.3125</td>\n",
       "      <td>0.643452</td>\n",
       "      <td>0.388889</td>\n",
       "      <td>1.000000</td>\n",
       "      <td>0.3125</td>\n",
       "      <td>0.687500</td>\n",
       "      <td>overfit</td>\n",
       "      <td>high variance</td>\n",
       "    </tr>\n",
       "    <tr>\n",
       "      <th>0</th>\n",
       "      <td>(ExtraTreeClassifier(class_weight=None, criter...</td>\n",
       "      <td>0.7500</td>\n",
       "      <td>0.624008</td>\n",
       "      <td>0.444444</td>\n",
       "      <td>1.000000</td>\n",
       "      <td>0.7500</td>\n",
       "      <td>0.250000</td>\n",
       "      <td>overfit</td>\n",
       "      <td>high variance</td>\n",
       "    </tr>\n",
       "    <tr>\n",
       "      <th>0</th>\n",
       "      <td>(DecisionTreeClassifier(class_weight=None, cri...</td>\n",
       "      <td>0.6250</td>\n",
       "      <td>0.665476</td>\n",
       "      <td>0.566667</td>\n",
       "      <td>1.000000</td>\n",
       "      <td>0.6250</td>\n",
       "      <td>0.375000</td>\n",
       "      <td>overfit</td>\n",
       "      <td>high variance</td>\n",
       "    </tr>\n",
       "    <tr>\n",
       "      <th>0</th>\n",
       "      <td>([DecisionTreeRegressor(criterion='friedman_ms...</td>\n",
       "      <td>0.6875</td>\n",
       "      <td>0.601587</td>\n",
       "      <td>0.500000</td>\n",
       "      <td>1.000000</td>\n",
       "      <td>0.6875</td>\n",
       "      <td>0.312500</td>\n",
       "      <td>overfit</td>\n",
       "      <td>high variance</td>\n",
       "    </tr>\n",
       "    <tr>\n",
       "      <th>0</th>\n",
       "      <td>SVC(C=1.0, cache_size=200, class_weight=None, ...</td>\n",
       "      <td>0.4375</td>\n",
       "      <td>0.600397</td>\n",
       "      <td>0.500000</td>\n",
       "      <td>0.733333</td>\n",
       "      <td>0.4375</td>\n",
       "      <td>0.295833</td>\n",
       "      <td>overfit</td>\n",
       "      <td>high variance</td>\n",
       "    </tr>\n",
       "    <tr>\n",
       "      <th>0</th>\n",
       "      <td>XGBClassifier(base_score=0.5, booster='gbtree'...</td>\n",
       "      <td>0.6250</td>\n",
       "      <td>0.644841</td>\n",
       "      <td>0.566667</td>\n",
       "      <td>1.000000</td>\n",
       "      <td>0.6250</td>\n",
       "      <td>0.375000</td>\n",
       "      <td>overfit</td>\n",
       "      <td>high variance</td>\n",
       "    </tr>\n",
       "    <tr>\n",
       "      <th>0</th>\n",
       "      <td>XGBClassifier(base_score=0.5, booster='gbtree'...</td>\n",
       "      <td>0.6250</td>\n",
       "      <td>0.668651</td>\n",
       "      <td>0.566667</td>\n",
       "      <td>1.000000</td>\n",
       "      <td>0.6250</td>\n",
       "      <td>0.375000</td>\n",
       "      <td>overfit</td>\n",
       "      <td>high variance</td>\n",
       "    </tr>\n",
       "    <tr>\n",
       "      <th>0</th>\n",
       "      <td>VotingClassifier(estimators=[('lr', LogisticRe...</td>\n",
       "      <td>0.5000</td>\n",
       "      <td>0.684921</td>\n",
       "      <td>0.500000</td>\n",
       "      <td>1.000000</td>\n",
       "      <td>0.5000</td>\n",
       "      <td>0.500000</td>\n",
       "      <td>overfit</td>\n",
       "      <td>high variance</td>\n",
       "    </tr>\n",
       "  </tbody>\n",
       "</table>\n",
       "</div>"
      ],
      "text/plain": [
       "                                               model  accuracy score  \\\n",
       "0  LogisticRegression(C=1.0, class_weight=None, d...          0.5000   \n",
       "0  (DecisionTreeClassifier(class_weight=None, cri...          0.3125   \n",
       "0  (ExtraTreeClassifier(class_weight=None, criter...          0.7500   \n",
       "0  (DecisionTreeClassifier(class_weight=None, cri...          0.6250   \n",
       "0  ([DecisionTreeRegressor(criterion='friedman_ms...          0.6875   \n",
       "0  SVC(C=1.0, cache_size=200, class_weight=None, ...          0.4375   \n",
       "0  XGBClassifier(base_score=0.5, booster='gbtree'...          0.6250   \n",
       "0  XGBClassifier(base_score=0.5, booster='gbtree'...          0.6250   \n",
       "0  VotingClassifier(estimators=[('lr', LogisticRe...          0.5000   \n",
       "\n",
       "   cv train score  cv test score  train score  test score  train-test gap  \\\n",
       "0        0.638889       0.433333     1.000000      0.5000        0.500000   \n",
       "0        0.643452       0.388889     1.000000      0.3125        0.687500   \n",
       "0        0.624008       0.444444     1.000000      0.7500        0.250000   \n",
       "0        0.665476       0.566667     1.000000      0.6250        0.375000   \n",
       "0        0.601587       0.500000     1.000000      0.6875        0.312500   \n",
       "0        0.600397       0.500000     0.733333      0.4375        0.295833   \n",
       "0        0.644841       0.566667     1.000000      0.6250        0.375000   \n",
       "0        0.668651       0.566667     1.000000      0.6250        0.375000   \n",
       "0        0.684921       0.500000     1.000000      0.5000        0.500000   \n",
       "\n",
       "  model status bias vs variance  \n",
       "0      overfit    high variance  \n",
       "0      overfit    high variance  \n",
       "0      overfit    high variance  \n",
       "0      overfit    high variance  \n",
       "0      overfit    high variance  \n",
       "0      overfit    high variance  \n",
       "0      overfit    high variance  \n",
       "0      overfit    high variance  \n",
       "0      overfit    high variance  "
      ]
     },
     "execution_count": 13,
     "metadata": {},
     "output_type": "execute_result"
    }
   ],
   "source": [
    "score_matrix = pd.DataFrame() # Instantiate the empty shell to hold the function\n",
    "\n",
    "models = [logreg, rf,et,ada,gb, svm, xb, xb1, evc]\n",
    "\n",
    "for i in models:\n",
    "    score_matrix = score_matrix.append(model_scores(i, X_train_sc, y_train, X_test_sc, y_test))\n",
    "score_matrix"
   ]
  },
  {
   "cell_type": "code",
   "execution_count": 14,
   "metadata": {},
   "outputs": [
    {
     "name": "stdout",
     "output_type": "stream",
     "text": [
      "[[5 1]\n",
      " [3 7]]\n",
      "              precision    recall  f1-score   support\n",
      "\n",
      "           0       0.62      0.83      0.71         6\n",
      "           1       0.88      0.70      0.78        10\n",
      "\n",
      "   micro avg       0.75      0.75      0.75        16\n",
      "   macro avg       0.75      0.77      0.75        16\n",
      "weighted avg       0.78      0.75      0.75        16\n",
      "\n"
     ]
    }
   ],
   "source": [
    "from sklearn.metrics import confusion_matrix  \n",
    "from sklearn.metrics import accuracy_score\n",
    "from sklearn.metrics import classification_report\n",
    "\n",
    "y_pred = et.predict(X_test_sc)  \n",
    "cm = confusion_matrix(y_test, y_pred)  \n",
    "\n",
    "print(cm)  \n",
    "print(classification_report(y_test, y_pred))"
   ]
  },
  {
   "cell_type": "markdown",
   "metadata": {},
   "source": [
    "From the confusion matrix, we see that the classifier got the following results:\n",
    "- Out of the (horizontal sum of 6) actual instances of 'ham' (not spam), it predicted correctly 5 of them;\n",
    "- Out of the (horizontal sum of 10) total actual instances of spam, it predicted correctly 7 of them. Therefore, the chance of predicting market is up correctly is higher than that of market is down."
   ]
  },
  {
   "cell_type": "markdown",
   "metadata": {},
   "source": [
    "# Telsa Only"
   ]
  },
  {
   "cell_type": "markdown",
   "metadata": {},
   "source": [
    "While building up a model on one particular company (Tesla), the accuracy and train-test gap are lowest. However, it doesn't mean that it is correctly labeled the target because there are only 4 test set. It is not representative enough for investor to risk their money on the market due to the limited dataset. "
   ]
  },
  {
   "cell_type": "code",
   "execution_count": 15,
   "metadata": {},
   "outputs": [
    {
     "data": {
      "text/plain": [
       "15"
      ]
     },
     "execution_count": 15,
     "metadata": {},
     "output_type": "execute_result"
    }
   ],
   "source": [
    "import pickle\n",
    "df = pickle.load(open( \"../data/df_1.pkl\", \"rb\" ))\n",
    "df = df.drop(columns=['Close','Open','pct_price'])\n",
    "df.drop_duplicates(subset='transcripts', keep='first', inplace=True)\n",
    "\n",
    "df = df.select_dtypes([np.number])\n",
    "len(df)"
   ]
  },
  {
   "cell_type": "code",
   "execution_count": 16,
   "metadata": {},
   "outputs": [],
   "source": [
    "X = df.drop(columns=['pct_price_target','Volume'])\n",
    "y = df['pct_price_target']\n",
    "\n",
    "X_train, X_test, y_train, y_test = train_test_split(X,\n",
    "                                                    y, \n",
    "                                                    test_size=0.25, \n",
    "                                                    random_state=42)\n",
    "ss = StandardScaler()\n",
    "X_train_sc = ss.fit_transform(X_train) # must fit transform to numbers for train \n",
    "X_test_sc = ss.transform(X_test)       # must transform to number for test"
   ]
  },
  {
   "cell_type": "code",
   "execution_count": 17,
   "metadata": {
    "scrolled": false
   },
   "outputs": [
    {
     "data": {
      "text/html": [
       "<div>\n",
       "<style scoped>\n",
       "    .dataframe tbody tr th:only-of-type {\n",
       "        vertical-align: middle;\n",
       "    }\n",
       "\n",
       "    .dataframe tbody tr th {\n",
       "        vertical-align: top;\n",
       "    }\n",
       "\n",
       "    .dataframe thead th {\n",
       "        text-align: right;\n",
       "    }\n",
       "</style>\n",
       "<table border=\"1\" class=\"dataframe\">\n",
       "  <thead>\n",
       "    <tr style=\"text-align: right;\">\n",
       "      <th></th>\n",
       "      <th>model</th>\n",
       "      <th>accuracy score</th>\n",
       "      <th>cv train score</th>\n",
       "      <th>cv test score</th>\n",
       "      <th>train score</th>\n",
       "      <th>test score</th>\n",
       "      <th>train-test gap</th>\n",
       "      <th>model status</th>\n",
       "      <th>bias vs variance</th>\n",
       "    </tr>\n",
       "  </thead>\n",
       "  <tbody>\n",
       "    <tr>\n",
       "      <th>0</th>\n",
       "      <td>(DecisionTreeClassifier(class_weight=None, cri...</td>\n",
       "      <td>1.00</td>\n",
       "      <td>0.444444</td>\n",
       "      <td>1.0</td>\n",
       "      <td>0.909091</td>\n",
       "      <td>1.00</td>\n",
       "      <td>-0.090909</td>\n",
       "      <td>underfit</td>\n",
       "      <td>high variance</td>\n",
       "    </tr>\n",
       "    <tr>\n",
       "      <th>0</th>\n",
       "      <td>(ExtraTreeClassifier(class_weight=None, criter...</td>\n",
       "      <td>0.75</td>\n",
       "      <td>0.361111</td>\n",
       "      <td>1.0</td>\n",
       "      <td>1.000000</td>\n",
       "      <td>0.75</td>\n",
       "      <td>0.250000</td>\n",
       "      <td>overfit</td>\n",
       "      <td>high variance</td>\n",
       "    </tr>\n",
       "    <tr>\n",
       "      <th>0</th>\n",
       "      <td>(DecisionTreeClassifier(class_weight=None, cri...</td>\n",
       "      <td>1.00</td>\n",
       "      <td>0.527778</td>\n",
       "      <td>1.0</td>\n",
       "      <td>1.000000</td>\n",
       "      <td>1.00</td>\n",
       "      <td>0.000000</td>\n",
       "      <td>underfit</td>\n",
       "      <td>high variance</td>\n",
       "    </tr>\n",
       "    <tr>\n",
       "      <th>0</th>\n",
       "      <td>XGBClassifier(base_score=0.5, booster='gbtree'...</td>\n",
       "      <td>1.00</td>\n",
       "      <td>0.444444</td>\n",
       "      <td>1.0</td>\n",
       "      <td>1.000000</td>\n",
       "      <td>1.00</td>\n",
       "      <td>0.000000</td>\n",
       "      <td>underfit</td>\n",
       "      <td>high variance</td>\n",
       "    </tr>\n",
       "    <tr>\n",
       "      <th>0</th>\n",
       "      <td>XGBClassifier(base_score=0.5, booster='gbtree'...</td>\n",
       "      <td>1.00</td>\n",
       "      <td>0.444444</td>\n",
       "      <td>1.0</td>\n",
       "      <td>1.000000</td>\n",
       "      <td>1.00</td>\n",
       "      <td>0.000000</td>\n",
       "      <td>underfit</td>\n",
       "      <td>high variance</td>\n",
       "    </tr>\n",
       "  </tbody>\n",
       "</table>\n",
       "</div>"
      ],
      "text/plain": [
       "                                               model  accuracy score  \\\n",
       "0  (DecisionTreeClassifier(class_weight=None, cri...            1.00   \n",
       "0  (ExtraTreeClassifier(class_weight=None, criter...            0.75   \n",
       "0  (DecisionTreeClassifier(class_weight=None, cri...            1.00   \n",
       "0  XGBClassifier(base_score=0.5, booster='gbtree'...            1.00   \n",
       "0  XGBClassifier(base_score=0.5, booster='gbtree'...            1.00   \n",
       "\n",
       "   cv train score  cv test score  train score  test score  train-test gap  \\\n",
       "0        0.444444            1.0     0.909091        1.00       -0.090909   \n",
       "0        0.361111            1.0     1.000000        0.75        0.250000   \n",
       "0        0.527778            1.0     1.000000        1.00        0.000000   \n",
       "0        0.444444            1.0     1.000000        1.00        0.000000   \n",
       "0        0.444444            1.0     1.000000        1.00        0.000000   \n",
       "\n",
       "  model status bias vs variance  \n",
       "0     underfit    high variance  \n",
       "0      overfit    high variance  \n",
       "0     underfit    high variance  \n",
       "0     underfit    high variance  \n",
       "0     underfit    high variance  "
      ]
     },
     "execution_count": 17,
     "metadata": {},
     "output_type": "execute_result"
    }
   ],
   "source": [
    "score_matrix = pd.DataFrame() # Instantiate the empty shell to hold the function\n",
    "\n",
    "models = [rf,et,ada, xb, xb1]\n",
    "\n",
    "for i in models:\n",
    "    score_matrix = score_matrix.append(model_scores(i, X_train_sc, y_train, X_test_sc, y_test))\n",
    "score_matrix"
   ]
  },
  {
   "cell_type": "code",
   "execution_count": 18,
   "metadata": {
    "scrolled": false
   },
   "outputs": [
    {
     "data": {
      "text/html": [
       "<div>\n",
       "<style scoped>\n",
       "    .dataframe tbody tr th:only-of-type {\n",
       "        vertical-align: middle;\n",
       "    }\n",
       "\n",
       "    .dataframe tbody tr th {\n",
       "        vertical-align: top;\n",
       "    }\n",
       "\n",
       "    .dataframe thead th {\n",
       "        text-align: right;\n",
       "    }\n",
       "</style>\n",
       "<table border=\"1\" class=\"dataframe\">\n",
       "  <thead>\n",
       "    <tr style=\"text-align: right;\">\n",
       "      <th></th>\n",
       "      <th>feature</th>\n",
       "      <th>coef</th>\n",
       "    </tr>\n",
       "  </thead>\n",
       "  <tbody>\n",
       "    <tr>\n",
       "      <th>43</th>\n",
       "      <td>tx_MDcoleman_liau_index</td>\n",
       "      <td>0.494497</td>\n",
       "    </tr>\n",
       "    <tr>\n",
       "      <th>9</th>\n",
       "      <td>tx_MD_neg</td>\n",
       "      <td>0.159128</td>\n",
       "    </tr>\n",
       "    <tr>\n",
       "      <th>3</th>\n",
       "      <td>pct_volume</td>\n",
       "      <td>0.144896</td>\n",
       "    </tr>\n",
       "    <tr>\n",
       "      <th>2</th>\n",
       "      <td>rev_total_b</td>\n",
       "      <td>0.143217</td>\n",
       "    </tr>\n",
       "    <tr>\n",
       "      <th>10</th>\n",
       "      <td>tx_MD_pos</td>\n",
       "      <td>0.046582</td>\n",
       "    </tr>\n",
       "    <tr>\n",
       "      <th>21</th>\n",
       "      <td>tx_MD_subjectivity</td>\n",
       "      <td>0.005561</td>\n",
       "    </tr>\n",
       "    <tr>\n",
       "      <th>17</th>\n",
       "      <td>polarity</td>\n",
       "      <td>0.005493</td>\n",
       "    </tr>\n",
       "    <tr>\n",
       "      <th>51</th>\n",
       "      <td>tx_QAlinsear_write_formula</td>\n",
       "      <td>0.000550</td>\n",
       "    </tr>\n",
       "    <tr>\n",
       "      <th>38</th>\n",
       "      <td>tx_MDflesch_kincaid_grade</td>\n",
       "      <td>0.000075</td>\n",
       "    </tr>\n",
       "    <tr>\n",
       "      <th>34</th>\n",
       "      <td>tx_MD_num_syl</td>\n",
       "      <td>0.000000</td>\n",
       "    </tr>\n",
       "  </tbody>\n",
       "</table>\n",
       "</div>"
      ],
      "text/plain": [
       "                       feature      coef\n",
       "43     tx_MDcoleman_liau_index  0.494497\n",
       "9                    tx_MD_neg  0.159128\n",
       "3                   pct_volume  0.144896\n",
       "2                  rev_total_b  0.143217\n",
       "10                   tx_MD_pos  0.046582\n",
       "21          tx_MD_subjectivity  0.005561\n",
       "17                    polarity  0.005493\n",
       "51  tx_QAlinsear_write_formula  0.000550\n",
       "38   tx_MDflesch_kincaid_grade  0.000075\n",
       "34               tx_MD_num_syl  0.000000"
      ]
     },
     "execution_count": 18,
     "metadata": {},
     "output_type": "execute_result"
    }
   ],
   "source": [
    "feature_importance_df = pd.DataFrame()\n",
    "feature_importance_df['feature'] = X_train.columns\n",
    "feature_importance_df['coef'] = xb.feature_importances_\n",
    "feature_importance_df.sort_values(by='coef', ascending=False).head(10)"
   ]
  },
  {
   "cell_type": "code",
   "execution_count": 19,
   "metadata": {
    "scrolled": true
   },
   "outputs": [
    {
     "name": "stdout",
     "output_type": "stream",
     "text": [
      "[[3 1]\n",
      " [0 0]]\n",
      "              precision    recall  f1-score   support\n",
      "\n",
      "           0       1.00      0.75      0.86         4\n",
      "           1       0.00      0.00      0.00         0\n",
      "\n",
      "   micro avg       0.75      0.75      0.75         4\n",
      "   macro avg       0.50      0.38      0.43         4\n",
      "weighted avg       1.00      0.75      0.86         4\n",
      "\n"
     ]
    }
   ],
   "source": [
    "from sklearn.metrics import confusion_matrix  \n",
    "from sklearn.metrics import accuracy_score\n",
    "from sklearn.metrics import classification_report\n",
    "\n",
    "y_pred = et.predict(X_test_sc)  \n",
    "cm = confusion_matrix(y_test, y_pred)  \n",
    "\n",
    "print(cm)  \n",
    "print(classification_report(y_test, y_pred))"
   ]
  },
  {
   "cell_type": "markdown",
   "metadata": {},
   "source": [
    "## Principal Component Analysis (PCA) for Tesla"
   ]
  },
  {
   "cell_type": "code",
   "execution_count": 20,
   "metadata": {},
   "outputs": [
    {
     "name": "stdout",
     "output_type": "stream",
     "text": [
      "[7.52800649e-01 2.46397280e-01 6.70685104e-04]\n",
      "[0.75280065 0.99919793 0.99986861]\n"
     ]
    }
   ],
   "source": [
    "# Results 5 Principal Components\n",
    "from sklearn.decomposition import PCA\n",
    "pca = PCA(n_components=3)  \n",
    "\n",
    "X_train_pca = pca.fit_transform(X_train)  \n",
    "X_test_pca = pca.transform(X_test)  \n",
    "\n",
    "# Explained_variance Ration\n",
    "explained_variance = pca.explained_variance_ratio_  \n",
    "\n",
    "print(explained_variance[0:5])\n",
    "print (np.cumsum(explained_variance[0:5]))"
   ]
  },
  {
   "cell_type": "code",
   "execution_count": 21,
   "metadata": {},
   "outputs": [
    {
     "data": {
      "text/html": [
       "<div>\n",
       "<style scoped>\n",
       "    .dataframe tbody tr th:only-of-type {\n",
       "        vertical-align: middle;\n",
       "    }\n",
       "\n",
       "    .dataframe tbody tr th {\n",
       "        vertical-align: top;\n",
       "    }\n",
       "\n",
       "    .dataframe thead th {\n",
       "        text-align: right;\n",
       "    }\n",
       "</style>\n",
       "<table border=\"1\" class=\"dataframe\">\n",
       "  <thead>\n",
       "    <tr style=\"text-align: right;\">\n",
       "      <th></th>\n",
       "      <th>model</th>\n",
       "      <th>accuracy score</th>\n",
       "      <th>cv train score</th>\n",
       "      <th>cv test score</th>\n",
       "      <th>train score</th>\n",
       "      <th>test score</th>\n",
       "      <th>train-test gap</th>\n",
       "      <th>model status</th>\n",
       "      <th>bias vs variance</th>\n",
       "    </tr>\n",
       "  </thead>\n",
       "  <tbody>\n",
       "    <tr>\n",
       "      <th>0</th>\n",
       "      <td>(DecisionTreeClassifier(class_weight=None, cri...</td>\n",
       "      <td>0.50</td>\n",
       "      <td>0.333333</td>\n",
       "      <td>1.0</td>\n",
       "      <td>1.000000</td>\n",
       "      <td>0.50</td>\n",
       "      <td>0.500000</td>\n",
       "      <td>overfit</td>\n",
       "      <td>high variance</td>\n",
       "    </tr>\n",
       "    <tr>\n",
       "      <th>0</th>\n",
       "      <td>(ExtraTreeClassifier(class_weight=None, criter...</td>\n",
       "      <td>0.75</td>\n",
       "      <td>0.361111</td>\n",
       "      <td>1.0</td>\n",
       "      <td>1.000000</td>\n",
       "      <td>0.75</td>\n",
       "      <td>0.250000</td>\n",
       "      <td>overfit</td>\n",
       "      <td>high variance</td>\n",
       "    </tr>\n",
       "    <tr>\n",
       "      <th>0</th>\n",
       "      <td>(DecisionTreeClassifier(class_weight=None, cri...</td>\n",
       "      <td>0.75</td>\n",
       "      <td>0.416667</td>\n",
       "      <td>1.0</td>\n",
       "      <td>1.000000</td>\n",
       "      <td>0.75</td>\n",
       "      <td>0.250000</td>\n",
       "      <td>overfit</td>\n",
       "      <td>high variance</td>\n",
       "    </tr>\n",
       "    <tr>\n",
       "      <th>0</th>\n",
       "      <td>XGBClassifier(base_score=0.5, booster='gbtree'...</td>\n",
       "      <td>0.75</td>\n",
       "      <td>0.333333</td>\n",
       "      <td>1.0</td>\n",
       "      <td>0.727273</td>\n",
       "      <td>0.75</td>\n",
       "      <td>-0.022727</td>\n",
       "      <td>underfit</td>\n",
       "      <td>high variance</td>\n",
       "    </tr>\n",
       "    <tr>\n",
       "      <th>0</th>\n",
       "      <td>XGBClassifier(base_score=0.5, booster='gbtree'...</td>\n",
       "      <td>0.50</td>\n",
       "      <td>0.444444</td>\n",
       "      <td>1.0</td>\n",
       "      <td>0.818182</td>\n",
       "      <td>0.50</td>\n",
       "      <td>0.318182</td>\n",
       "      <td>overfit</td>\n",
       "      <td>high variance</td>\n",
       "    </tr>\n",
       "  </tbody>\n",
       "</table>\n",
       "</div>"
      ],
      "text/plain": [
       "                                               model  accuracy score  \\\n",
       "0  (DecisionTreeClassifier(class_weight=None, cri...            0.50   \n",
       "0  (ExtraTreeClassifier(class_weight=None, criter...            0.75   \n",
       "0  (DecisionTreeClassifier(class_weight=None, cri...            0.75   \n",
       "0  XGBClassifier(base_score=0.5, booster='gbtree'...            0.75   \n",
       "0  XGBClassifier(base_score=0.5, booster='gbtree'...            0.50   \n",
       "\n",
       "   cv train score  cv test score  train score  test score  train-test gap  \\\n",
       "0        0.333333            1.0     1.000000        0.50        0.500000   \n",
       "0        0.361111            1.0     1.000000        0.75        0.250000   \n",
       "0        0.416667            1.0     1.000000        0.75        0.250000   \n",
       "0        0.333333            1.0     0.727273        0.75       -0.022727   \n",
       "0        0.444444            1.0     0.818182        0.50        0.318182   \n",
       "\n",
       "  model status bias vs variance  \n",
       "0      overfit    high variance  \n",
       "0      overfit    high variance  \n",
       "0      overfit    high variance  \n",
       "0     underfit    high variance  \n",
       "0      overfit    high variance  "
      ]
     },
     "execution_count": 21,
     "metadata": {},
     "output_type": "execute_result"
    }
   ],
   "source": [
    "score_matrix = pd.DataFrame() # Instantiate the empty shell to hold the function\n",
    "\n",
    "models = [rf,et,ada, xb, xb1]\n",
    "\n",
    "for i in models:\n",
    "    score_matrix = score_matrix.append(model_scores(i, X_train_pca, y_train, X_test_pca, y_test))\n",
    "score_matrix"
   ]
  },
  {
   "cell_type": "code",
   "execution_count": 22,
   "metadata": {
    "scrolled": true
   },
   "outputs": [
    {
     "name": "stdout",
     "output_type": "stream",
     "text": [
      "[[3 1]\n",
      " [0 0]]\n",
      "              precision    recall  f1-score   support\n",
      "\n",
      "           0       1.00      0.75      0.86         4\n",
      "           1       0.00      0.00      0.00         0\n",
      "\n",
      "   micro avg       0.75      0.75      0.75         4\n",
      "   macro avg       0.50      0.38      0.43         4\n",
      "weighted avg       1.00      0.75      0.86         4\n",
      "\n"
     ]
    }
   ],
   "source": [
    "from sklearn.metrics import confusion_matrix  \n",
    "from sklearn.metrics import accuracy_score\n",
    "from sklearn.metrics import classification_report\n",
    "\n",
    "y_pred = et.predict(X_test_pca)  \n",
    "cm = confusion_matrix(y_test, y_pred)  \n",
    "\n",
    "print(cm)  \n",
    "print(classification_report(y_test, y_pred))"
   ]
  },
  {
   "cell_type": "markdown",
   "metadata": {},
   "source": [
    "# Simple Neural Network"
   ]
  },
  {
   "cell_type": "markdown",
   "metadata": {},
   "source": [
    "Neural Network doesn't provide any value to classify the output. It may attributed to two issues: \n",
    "\n",
    "1. The non-random part of the relationship between the input and output is too small compared to the random part (one could argue that stock prices are like this). I.e. the input are not sufficiently related to the output. There isn’t an universal way to detect this as it depends on the nature of the data.\n",
    "2. Too much noise in the dataset as feature columns contains similar information that people are repeatedly talking in the call transcript\n",
    "3. The test and training size of is too small. \n",
    "\n",
    "Therefore, neural network may not be the solution for this dataset"
   ]
  },
  {
   "cell_type": "code",
   "execution_count": 24,
   "metadata": {},
   "outputs": [
    {
     "data": {
      "text/plain": [
       "61"
      ]
     },
     "execution_count": 24,
     "metadata": {},
     "output_type": "execute_result"
    }
   ],
   "source": [
    "import pickle\n",
    "df = pickle.load(open( \"../data/df_final.pkl\", \"rb\" ))\n",
    "df = df.drop(columns=['Close','Open','pct_price'])\n",
    "df.drop_duplicates(subset='transcripts', keep='first', inplace=True)\n",
    "\n",
    "df = df.select_dtypes([np.number])\n",
    "len(df)"
   ]
  },
  {
   "cell_type": "code",
   "execution_count": 25,
   "metadata": {},
   "outputs": [],
   "source": [
    "X = df.drop(columns=['pct_price_target','Volume'])\n",
    "y = df['pct_price_target']\n",
    "\n",
    "X_train, X_test, y_train, y_test = train_test_split(X,\n",
    "                                                    y, \n",
    "                                                    test_size=0.25, \n",
    "                                                    random_state=42)"
   ]
  },
  {
   "cell_type": "code",
   "execution_count": 26,
   "metadata": {},
   "outputs": [
    {
     "name": "stderr",
     "output_type": "stream",
     "text": [
      "Using TensorFlow backend.\n"
     ]
    },
    {
     "name": "stdout",
     "output_type": "stream",
     "text": [
      "WARNING:tensorflow:From /Users/billyu/anaconda3/lib/python3.6/site-packages/tensorflow/python/framework/op_def_library.py:263: colocate_with (from tensorflow.python.framework.ops) is deprecated and will be removed in a future version.\n",
      "Instructions for updating:\n",
      "Colocations handled automatically by placer.\n"
     ]
    }
   ],
   "source": [
    "from keras.models import Sequential\n",
    "from keras import layers\n",
    "\n",
    "\n",
    "input_dim = X_train.shape[1]\n",
    "# Number of features\n",
    "\n",
    "model = Sequential()\n",
    "\n",
    "#hidden layers\n",
    "model.add(layers.Dense(5300, input_dim=input_dim, activation='relu'))\n",
    "\n",
    "model.add(layers.Dense(100, input_dim=input_dim, activation='relu'))\n",
    "model.add(layers.Dense(30, input_dim=input_dim, activation='relu'))\n",
    "\n",
    "#output layer\n",
    "model.add(layers.Dense(1, activation='sigmoid'))  #Dense should be 1 for the binary output "
   ]
  },
  {
   "cell_type": "code",
   "execution_count": 27,
   "metadata": {},
   "outputs": [],
   "source": [
    "model.compile(loss='binary_crossentropy', optimizer='adam', metrics=['accuracy'])"
   ]
  },
  {
   "cell_type": "code",
   "execution_count": 28,
   "metadata": {
    "scrolled": true
   },
   "outputs": [
    {
     "name": "stdout",
     "output_type": "stream",
     "text": [
      "WARNING:tensorflow:From /Users/billyu/anaconda3/lib/python3.6/site-packages/tensorflow/python/ops/math_ops.py:3066: to_int32 (from tensorflow.python.ops.math_ops) is deprecated and will be removed in a future version.\n",
      "Instructions for updating:\n",
      "Use tf.cast instead.\n",
      "Train on 45 samples, validate on 16 samples\n",
      "Epoch 1/30\n",
      "45/45 [==============================] - 0s 9ms/step - loss: 8.7238 - acc: 0.4000 - val_loss: 10.0738 - val_acc: 0.3750\n",
      "Epoch 2/30\n",
      "45/45 [==============================] - 0s 320us/step - loss: 6.0891 - acc: 0.6222 - val_loss: 10.0738 - val_acc: 0.3750\n",
      "Epoch 3/30\n",
      "45/45 [==============================] - 0s 781us/step - loss: 6.0891 - acc: 0.6222 - val_loss: 10.0738 - val_acc: 0.3750\n",
      "Epoch 4/30\n",
      "45/45 [==============================] - 0s 867us/step - loss: 6.0891 - acc: 0.6222 - val_loss: 10.0738 - val_acc: 0.3750\n",
      "Epoch 5/30\n",
      "45/45 [==============================] - 0s 560us/step - loss: 6.0891 - acc: 0.6222 - val_loss: 10.0738 - val_acc: 0.3750\n",
      "Epoch 6/30\n",
      "45/45 [==============================] - 0s 377us/step - loss: 6.0891 - acc: 0.6222 - val_loss: 10.0738 - val_acc: 0.3750\n",
      "Epoch 7/30\n",
      "45/45 [==============================] - 0s 1ms/step - loss: 6.0891 - acc: 0.6222 - val_loss: 10.0738 - val_acc: 0.3750\n",
      "Epoch 8/30\n",
      "45/45 [==============================] - 0s 892us/step - loss: 6.0891 - acc: 0.6222 - val_loss: 10.0738 - val_acc: 0.3750\n",
      "Epoch 9/30\n",
      "45/45 [==============================] - 0s 745us/step - loss: 6.0891 - acc: 0.6222 - val_loss: 10.0738 - val_acc: 0.3750\n",
      "Epoch 10/30\n",
      "45/45 [==============================] - 0s 637us/step - loss: 6.0891 - acc: 0.6222 - val_loss: 10.0738 - val_acc: 0.3750\n",
      "Epoch 11/30\n",
      "45/45 [==============================] - 0s 592us/step - loss: 6.0891 - acc: 0.6222 - val_loss: 10.0738 - val_acc: 0.3750\n",
      "Epoch 12/30\n",
      "45/45 [==============================] - 0s 478us/step - loss: 6.0891 - acc: 0.6222 - val_loss: 10.0738 - val_acc: 0.3750\n",
      "Epoch 13/30\n",
      "45/45 [==============================] - 0s 522us/step - loss: 6.0891 - acc: 0.6222 - val_loss: 10.0738 - val_acc: 0.3750\n",
      "Epoch 14/30\n",
      "45/45 [==============================] - 0s 854us/step - loss: 6.0891 - acc: 0.6222 - val_loss: 10.0738 - val_acc: 0.3750\n",
      "Epoch 15/30\n",
      "45/45 [==============================] - 0s 664us/step - loss: 6.0891 - acc: 0.6222 - val_loss: 10.0738 - val_acc: 0.3750\n",
      "Epoch 16/30\n",
      "45/45 [==============================] - 0s 925us/step - loss: 6.0891 - acc: 0.6222 - val_loss: 10.0738 - val_acc: 0.3750\n",
      "Epoch 17/30\n",
      "45/45 [==============================] - 0s 491us/step - loss: 6.0891 - acc: 0.6222 - val_loss: 10.0738 - val_acc: 0.3750\n",
      "Epoch 18/30\n",
      "45/45 [==============================] - 0s 317us/step - loss: 6.0891 - acc: 0.6222 - val_loss: 10.0738 - val_acc: 0.3750\n",
      "Epoch 19/30\n",
      "45/45 [==============================] - 0s 434us/step - loss: 6.0891 - acc: 0.6222 - val_loss: 10.0738 - val_acc: 0.3750\n",
      "Epoch 20/30\n",
      "45/45 [==============================] - 0s 444us/step - loss: 6.0891 - acc: 0.6222 - val_loss: 10.0738 - val_acc: 0.3750\n",
      "Epoch 21/30\n",
      "45/45 [==============================] - 0s 332us/step - loss: 6.0891 - acc: 0.6222 - val_loss: 10.0738 - val_acc: 0.3750\n",
      "Epoch 22/30\n",
      "45/45 [==============================] - 0s 313us/step - loss: 6.0891 - acc: 0.6222 - val_loss: 10.0738 - val_acc: 0.3750\n",
      "Epoch 23/30\n",
      "45/45 [==============================] - 0s 535us/step - loss: 6.0891 - acc: 0.6222 - val_loss: 10.0738 - val_acc: 0.3750\n",
      "Epoch 24/30\n",
      "45/45 [==============================] - 0s 272us/step - loss: 6.0891 - acc: 0.6222 - val_loss: 10.0738 - val_acc: 0.3750\n",
      "Epoch 25/30\n",
      "45/45 [==============================] - 0s 316us/step - loss: 6.0891 - acc: 0.6222 - val_loss: 10.0738 - val_acc: 0.3750\n",
      "Epoch 26/30\n",
      "45/45 [==============================] - 0s 317us/step - loss: 6.0891 - acc: 0.6222 - val_loss: 10.0738 - val_acc: 0.3750\n",
      "Epoch 27/30\n",
      "45/45 [==============================] - 0s 342us/step - loss: 6.0891 - acc: 0.6222 - val_loss: 10.0738 - val_acc: 0.3750\n",
      "Epoch 28/30\n",
      "45/45 [==============================] - 0s 423us/step - loss: 6.0891 - acc: 0.6222 - val_loss: 10.0738 - val_acc: 0.3750\n",
      "Epoch 29/30\n",
      "45/45 [==============================] - 0s 545us/step - loss: 6.0891 - acc: 0.6222 - val_loss: 10.0738 - val_acc: 0.3750\n",
      "Epoch 30/30\n",
      "45/45 [==============================] - 0s 543us/step - loss: 6.0891 - acc: 0.6222 - val_loss: 10.0738 - val_acc: 0.3750\n"
     ]
    }
   ],
   "source": [
    "history = model.fit(X_train, y_train, \n",
    "         epochs=30, \n",
    "         batch_size=128, \n",
    "         validation_data=(X_test,y_test))"
   ]
  },
  {
   "cell_type": "code",
   "execution_count": 29,
   "metadata": {},
   "outputs": [
    {
     "data": {
      "text/plain": [
       "<matplotlib.legend.Legend at 0x1a3ab7e4a8>"
      ]
     },
     "execution_count": 29,
     "metadata": {},
     "output_type": "execute_result"
    },
    {
     "data": {
      "image/png": "[encoded data removed]",
      "text/plain": [
       "<Figure size 432x288 with 1 Axes>"
      ]
     },
     "metadata": {
      "needs_background": "light"
     },
     "output_type": "display_data"
    }
   ],
   "source": [
    "plt.plot(history.history['loss'], label='Train loss') #the error (loss) is getting lower\n",
    "plt.plot(history.history['val_loss'], label='Test loss') #the error (loss) is getting lower\n",
    "plt.legend()"
   ]
  },
  {
   "cell_type": "code",
   "execution_count": 30,
   "metadata": {},
   "outputs": [
    {
     "data": {
      "text/plain": [
       "<matplotlib.legend.Legend at 0x1a1bac0160>"
      ]
     },
     "execution_count": 30,
     "metadata": {},
     "output_type": "execute_result"
    },
    {
     "data": {
      "image/png": "[encoded data removed]",
      "text/plain": [
       "<Figure size 432x288 with 1 Axes>"
      ]
     },
     "metadata": {
      "needs_background": "light"
     },
     "output_type": "display_data"
    }
   ],
   "source": [
    "plt.plot(history.history['acc'], label='Train accuracy')\n",
    "plt.plot(history.history['val_acc'], label='Test accuracy')\n",
    "plt.legend()"
   ]
  }
 ],
 "metadata": {
  "kernelspec": {
   "display_name": "Python 3",
   "language": "python",
   "name": "python3"
  },
  "language_info": {
   "codemirror_mode": {
    "name": "ipython",
    "version": 3
   },
   "file_extension": ".py",
   "mimetype": "text/x-python",
   "name": "python",
   "nbconvert_exporter": "python",
   "pygments_lexer": "ipython3",
   "version": "3.6.8"
  },
  "toc": {
   "base_numbering": 1,
   "nav_menu": {},
   "number_sections": true,
   "sideBar": true,
   "skip_h1_title": false,
   "title_cell": "Table of Contents",
   "title_sidebar": "Contents",
   "toc_cell": true,
   "toc_position": {
    "height": "calc(100% - 180px)",
    "left": "10px",
    "top": "150px",
    "width": "165px"
   },
   "toc_section_display": true,
   "toc_window_display": true
  }
 },
 "nbformat": 4,
 "nbformat_minor": 2
}
