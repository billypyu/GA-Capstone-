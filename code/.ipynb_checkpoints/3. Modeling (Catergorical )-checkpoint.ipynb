{
 "cells": [
  {
   "cell_type": "markdown",
   "metadata": {
    "toc": true
   },
   "source": [
    "<h1>Table of Contents<span class=\"tocSkip\"></span></h1>\n",
    "<div class=\"toc\"><ul class=\"toc-item\"><li><span><a href=\"#Class-Balance-for-Target-Value\" data-toc-modified-id=\"Class-Balance-for-Target-Value-1\"><span class=\"toc-item-num\">1&nbsp;&nbsp;</span>Class Balance for Target Value</a></span></li><li><span><a href=\"#Model-Instantiation\" data-toc-modified-id=\"Model-Instantiation-2\"><span class=\"toc-item-num\">2&nbsp;&nbsp;</span>Model Instantiation</a></span></li><li><span><a href=\"#Model-prep-and-Train/Test-split\" data-toc-modified-id=\"Model-prep-and-Train/Test-split-3\"><span class=\"toc-item-num\">3&nbsp;&nbsp;</span>Model prep and Train/Test split</a></span></li><li><span><a href=\"#CountVectorizer-(Transform-text-to-vectors)\" data-toc-modified-id=\"CountVectorizer-(Transform-text-to-vectors)-4\"><span class=\"toc-item-num\">4&nbsp;&nbsp;</span>CountVectorizer (Transform text to vectors)</a></span></li><li><span><a href=\"#Fit-Data\" data-toc-modified-id=\"Fit-Data-5\"><span class=\"toc-item-num\">5&nbsp;&nbsp;</span>Fit Data</a></span></li><li><span><a href=\"#Model-Score\" data-toc-modified-id=\"Model-Score-6\"><span class=\"toc-item-num\">6&nbsp;&nbsp;</span>Model Score</a></span></li><li><span><a href=\"#Second-Run\" data-toc-modified-id=\"Second-Run-7\"><span class=\"toc-item-num\">7&nbsp;&nbsp;</span>Second Run</a></span></li><li><span><a href=\"#Model-Score-for-MD-alone\" data-toc-modified-id=\"Model-Score-for-MD-alone-8\"><span class=\"toc-item-num\">8&nbsp;&nbsp;</span>Model Score for MD alone</a></span></li><li><span><a href=\"#Model-Score-for-QA-alone\" data-toc-modified-id=\"Model-Score-for-QA-alone-9\"><span class=\"toc-item-num\">9&nbsp;&nbsp;</span>Model Score for QA alone</a></span></li></ul></div>"
   ]
  },
  {
   "cell_type": "code",
   "execution_count": 19,
   "metadata": {},
   "outputs": [],
   "source": [
    "import pandas as pd\n",
    "import datetime\n",
    "import pandas_datareader as pdr\n",
    "\n",
    "import re\n",
    "from nltk.tokenize import RegexpTokenizer\n",
    "from nltk.stem import WordNetLemmatizer\n",
    "from nltk.corpus import stopwords\n",
    "\n",
    "\n",
    "from sklearn.model_selection import train_test_split, GridSearchCV\n",
    "from sklearn.feature_extraction.text import TfidfTransformer, CountVectorizer, TfidfVectorizer\n",
    "from sklearn.neighbors import KNeighborsClassifier\n",
    "\n",
    "from sklearn.naive_bayes import MultinomialNB, GaussianNB\n",
    "\n",
    "from sklearn.ensemble import ExtraTreesClassifier, GradientBoostingRegressor, VotingClassifier, RandomForestClassifier, GradientBoostingClassifier, BaggingClassifier,   AdaBoostClassifier\n",
    "from sklearn.tree import DecisionTreeClassifier\n",
    "\n",
    "from sklearn.linear_model import LogisticRegression\n",
    "from sklearn import metrics\n",
    "from sklearn.svm import LinearSVC\n",
    "import xgboost as xgb\n",
    "from sklearn.svm import SVC\n",
    "import xgboost as xgb\n",
    "\n",
    "from capstone_function import model_scores\n",
    "\n",
    "import matplotlib.pyplot as plt\n",
    "%matplotlib inline"
   ]
  },
  {
   "cell_type": "code",
   "execution_count": 2,
   "metadata": {},
   "outputs": [],
   "source": [
    "import pickle\n",
    "df = pickle.load( open( \"../data/df_words_target.pkl\", \"rb\" ) )"
   ]
  },
  {
   "cell_type": "markdown",
   "metadata": {},
   "source": [
    "# Class Balance for Target Value"
   ]
  },
  {
   "cell_type": "code",
   "execution_count": 99,
   "metadata": {},
   "outputs": [
    {
     "data": {
      "image/png": "[encoded data removed]",
      "text/plain": [
       "<Figure size 432x288 with 1 Axes>"
      ]
     },
     "metadata": {
      "needs_background": "light"
     },
     "output_type": "display_data"
    }
   ],
   "source": [
    "df.pct_price_target.value_counts(normalize=True).plot(kind='bar',title='Class Balance: Stock is up next day = 1 | Down =0');"
   ]
  },
  {
   "cell_type": "code",
   "execution_count": 4,
   "metadata": {},
   "outputs": [],
   "source": [
    "def tokenizer_lemmatizer (text): \n",
    "    '''\n",
    "    Initializing tokenizer and lemmatizer to handle NLP preprocessing. \n",
    "    1. breakdown the word by alphanumeric characters and dollar with number\n",
    "    2. Create a list that appended with lemmatized posts and rejoin words by one string \n",
    "       alongside removing characters and numbers\n",
    "    '''\n",
    "    \n",
    "    tokenizer = RegexpTokenizer('\\w+|\\$[\\d\\.]+|\\S+')\n",
    "    tokens = [tokenizer.tokenize(post.lower()) for post in (df[text])]\n",
    "    \n",
    "    \n",
    "    lemmatizer = WordNetLemmatizer()\n",
    "    lems = []\n",
    "    for post in tokens:\n",
    "        tok_post = []\n",
    "        for word in post:\n",
    "            tok_post.append(lemmatizer.lemmatize(word)) #Remove non-letter\n",
    "            #tok_post.append(re.sub(\"[^a-zA-Z]\", \"\", lemmatizer.lemmatize(word)))\n",
    "\n",
    "        posts = \" \".join(tok_post)        \n",
    "        lems.append(posts)\n",
    "        \n",
    "    \n",
    "    words_not_used = [ 'reeve musk', 'wa', 've', 'ha', 'don']\n",
    "    \n",
    "    lems = [w for w in lems if not w in words_not_used] #stopwords.words('english')\n",
    "    \n",
    "\n",
    "    df[text] = lems #overwrite the df\n",
    "    \n",
    "    print (f'tokenizer processed: {len(tokens)}')\n",
    "    print (f'lemmatizer processed: {len(lems)}')\n",
    "    #return lems\n"
   ]
  },
  {
   "cell_type": "code",
   "execution_count": 5,
   "metadata": {
    "scrolled": false
   },
   "outputs": [
    {
     "name": "stdout",
     "output_type": "stream",
     "text": [
      "tokenizer processed: 61\n",
      "lemmatizer processed: 61\n",
      "tokenizer processed: 61\n",
      "lemmatizer processed: 61\n",
      "tokenizer processed: 61\n",
      "lemmatizer processed: 61\n"
     ]
    }
   ],
   "source": [
    "tokenizer_lemmatizer('transcripts')\n",
    "tokenizer_lemmatizer('tx_MD')\n",
    "tokenizer_lemmatizer('tx_QA')\n"
   ]
  },
  {
   "cell_type": "markdown",
   "metadata": {},
   "source": [
    "# Model Instantiation"
   ]
  },
  {
   "cell_type": "code",
   "execution_count": 20,
   "metadata": {},
   "outputs": [],
   "source": [
    "nb = MultinomialNB()\n",
    "knn = KNeighborsClassifier()\n",
    "\n",
    "logreg = LogisticRegression(random_state=42)\n",
    "rf = RandomForestClassifier(random_state=42)\n",
    "et = ExtraTreesClassifier(random_state=42)\n",
    "ada = AdaBoostClassifier(random_state=42)\n",
    "gb = GradientBoostingClassifier(random_state=42)\n",
    "xb = xgb.XGBClassifier(random_state=42)\n",
    "\n",
    "svm = SVC (kernel='poly', degree=2)\n",
    "clf = SVC(gamma='scale')\n",
    "svc = LinearSVC()\n",
    "dt = DecisionTreeClassifier()\n",
    "\n",
    "#Emsenble model\n",
    "evc = VotingClassifier( estimators=[ ('lr',logreg), ('dt', dt), ('svm', svm),('et',et) ], voting='hard')\n",
    "\n",
    "rf1 = RandomForestClassifier(n_estimators=500, max_leaf_nodes=16, n_jobs=-1)\n",
    "\n",
    "xb1 = xgb.XGBClassifier(learning_rate =0.1,n_estimators=1000,max_depth=5,min_child_weight=1,gamma=0,subsample=0.8,colsample_bytree=0.8,\n",
    " objective= 'binary:logistic',nthread=4,scale_pos_weight=1,seed=42)\n",
    "\n",
    "ada1 = AdaBoostClassifier (DecisionTreeClassifier(), n_estimators=10, learning_rate=1, random_state= 42 )\n",
    "\n",
    "bg = BaggingClassifier(DecisionTreeClassifier(), max_samples=0.5, max_features=1,n_estimators=10,random_state= 42 )\n",
    "\n",
    "evc1 = VotingClassifier( estimators=[ ('svc',svc),('clf',clf), ('et', et), ('xb', xb),('gb',gb) ], voting='hard')"
   ]
  },
  {
   "cell_type": "markdown",
   "metadata": {},
   "source": [
    "# Model prep and Train/Test split"
   ]
  },
  {
   "cell_type": "code",
   "execution_count": 8,
   "metadata": {},
   "outputs": [],
   "source": [
    "# Text for transcripts\n",
    "X = df['transcripts']\n",
    "y = df['pct_price_target']\n",
    "\n",
    "X_train, X_test, y_train, y_test = train_test_split(X, y,random_state=42,stratify=y)"
   ]
  },
  {
   "cell_type": "code",
   "execution_count": 9,
   "metadata": {},
   "outputs": [],
   "source": [
    "# Text for MD\n",
    "X_1 = df['tx_MD']\n",
    "y_1 = df['pct_price_target']\n",
    "\n",
    "X_train_1, X_test_1, y_train_1, y_test_1 = train_test_split(X_1, y_1, random_state=42,stratify=y)"
   ]
  },
  {
   "cell_type": "code",
   "execution_count": 10,
   "metadata": {},
   "outputs": [],
   "source": [
    "# Text for MD\n",
    "X_2 = df['tx_QA']\n",
    "y_2 = df['pct_price_target']\n",
    "\n",
    "X_train_2, X_test_2, y_train_2, y_test_2 = train_test_split(X_2, y_2, random_state=42,stratify=y)"
   ]
  },
  {
   "cell_type": "markdown",
   "metadata": {},
   "source": [
    "# CountVectorizer (Transform text to vectors)"
   ]
  },
  {
   "cell_type": "code",
   "execution_count": 100,
   "metadata": {},
   "outputs": [],
   "source": [
    "words_not_use = stopwords.words('english')\n",
    "\n",
    "words_not_use.extend(\n",
    "['like', 'did', 'just', 've', 'people', 'time', 'tesla', 'feel', \n",
    " 'want', 'thing', 'kissing', 'lame', 'knock', 'knowledge', \n",
    " 'kong', 'laborious', 'laced','lacking', 'laid', 'zonei'])"
   ]
  },
  {
   "cell_type": "code",
   "execution_count": 30,
   "metadata": {},
   "outputs": [],
   "source": [
    "# Use default options for CountVectorizer.\n",
    "vect = CountVectorizer(analyzer = \"word\",\n",
    "                             tokenizer = None,\n",
    "                             preprocessor = None,\n",
    "                             stop_words = words_not_use, ngram_range=(1, 1))\n",
    "\n",
    "\n",
    "vect2 = CountVectorizer(analyzer = \"word\",\n",
    "                             tokenizer = None,\n",
    "                             preprocessor = None,\n",
    "                             stop_words = words_not_use, ngram_range=(2, 2))\n",
    "\n",
    "vect3 = CountVectorizer(analyzer = \"word\",\n",
    "                             tokenizer = None,\n",
    "                             preprocessor = None,\n",
    "                             stop_words = words_not_use, ngram_range=(3, 3))\n",
    "\n",
    "tvec = TfidfVectorizer(analyzer = \"word\",\n",
    "                             tokenizer = None,\n",
    "                             preprocessor = None,\n",
    "                             stop_words = words_not_use) \n"
   ]
  },
  {
   "cell_type": "markdown",
   "metadata": {},
   "source": [
    "# Fit Data "
   ]
  },
  {
   "cell_type": "code",
   "execution_count": 40,
   "metadata": {},
   "outputs": [],
   "source": [
    "# CountVectorizer\n",
    "X_train_vect = vect.fit_transform(X_train)\n",
    "X_test_vect = vect.transform(X_test)\n",
    "\n",
    "X_train_vect2 = vect2.fit_transform(X_train)\n",
    "X_test_vect2 = vect2.transform(X_test)\n",
    "\n",
    "X_train_vect3 = vect3.fit_transform(X_train)\n",
    "X_test_vect3 = vect3.transform(X_test)"
   ]
  },
  {
   "cell_type": "code",
   "execution_count": 41,
   "metadata": {},
   "outputs": [],
   "source": [
    "# TFIDF\n",
    "X_train_vect = vect.fit_transform(X_train)\n",
    "X_test_vect = vect.transform(X_test)"
   ]
  },
  {
   "cell_type": "markdown",
   "metadata": {},
   "source": [
    "# Model Score"
   ]
  },
  {
   "cell_type": "code",
   "execution_count": 102,
   "metadata": {
    "scrolled": false
   },
   "outputs": [
    {
     "data": {
      "text/html": [
       "<div>\n",
       "<style scoped>\n",
       "    .dataframe tbody tr th:only-of-type {\n",
       "        vertical-align: middle;\n",
       "    }\n",
       "\n",
       "    .dataframe tbody tr th {\n",
       "        vertical-align: top;\n",
       "    }\n",
       "\n",
       "    .dataframe thead th {\n",
       "        text-align: right;\n",
       "    }\n",
       "</style>\n",
       "<table border=\"1\" class=\"dataframe\">\n",
       "  <thead>\n",
       "    <tr style=\"text-align: right;\">\n",
       "      <th></th>\n",
       "      <th>model</th>\n",
       "      <th>accuracy score</th>\n",
       "      <th>cv train score</th>\n",
       "      <th>cv test score</th>\n",
       "      <th>train score</th>\n",
       "      <th>test score</th>\n",
       "      <th>train-test gap</th>\n",
       "      <th>model status</th>\n",
       "      <th>bias vs variance</th>\n",
       "    </tr>\n",
       "  </thead>\n",
       "  <tbody>\n",
       "    <tr>\n",
       "      <th>0</th>\n",
       "      <td>LogisticRegression(C=1.0, class_weight=None, d...</td>\n",
       "      <td>0.6250</td>\n",
       "      <td>0.423413</td>\n",
       "      <td>0.566667</td>\n",
       "      <td>1.000000</td>\n",
       "      <td>0.6250</td>\n",
       "      <td>0.375000</td>\n",
       "      <td>overfit</td>\n",
       "      <td>high variance</td>\n",
       "    </tr>\n",
       "    <tr>\n",
       "      <th>0</th>\n",
       "      <td>KNeighborsClassifier(algorithm='auto', leaf_si...</td>\n",
       "      <td>0.6875</td>\n",
       "      <td>0.418849</td>\n",
       "      <td>0.433333</td>\n",
       "      <td>0.577778</td>\n",
       "      <td>0.6875</td>\n",
       "      <td>-0.109722</td>\n",
       "      <td>underfit</td>\n",
       "      <td>high variance</td>\n",
       "    </tr>\n",
       "    <tr>\n",
       "      <th>0</th>\n",
       "      <td>(DecisionTreeClassifier(class_weight=None, cri...</td>\n",
       "      <td>0.4375</td>\n",
       "      <td>0.555754</td>\n",
       "      <td>0.566667</td>\n",
       "      <td>0.666667</td>\n",
       "      <td>0.4375</td>\n",
       "      <td>0.229167</td>\n",
       "      <td>overfit</td>\n",
       "      <td>high variance</td>\n",
       "    </tr>\n",
       "    <tr>\n",
       "      <th>0</th>\n",
       "      <td>(DecisionTreeClassifier(class_weight=None, cri...</td>\n",
       "      <td>0.5000</td>\n",
       "      <td>0.315079</td>\n",
       "      <td>0.444444</td>\n",
       "      <td>0.955556</td>\n",
       "      <td>0.5000</td>\n",
       "      <td>0.455556</td>\n",
       "      <td>overfit</td>\n",
       "      <td>high variance</td>\n",
       "    </tr>\n",
       "    <tr>\n",
       "      <th>0</th>\n",
       "      <td>(ExtraTreeClassifier(class_weight=None, criter...</td>\n",
       "      <td>0.5625</td>\n",
       "      <td>0.491667</td>\n",
       "      <td>0.433333</td>\n",
       "      <td>1.000000</td>\n",
       "      <td>0.5625</td>\n",
       "      <td>0.437500</td>\n",
       "      <td>overfit</td>\n",
       "      <td>high variance</td>\n",
       "    </tr>\n",
       "    <tr>\n",
       "      <th>0</th>\n",
       "      <td>(DecisionTreeClassifier(class_weight=None, cri...</td>\n",
       "      <td>0.3750</td>\n",
       "      <td>0.467857</td>\n",
       "      <td>0.577778</td>\n",
       "      <td>1.000000</td>\n",
       "      <td>0.3750</td>\n",
       "      <td>0.625000</td>\n",
       "      <td>overfit</td>\n",
       "      <td>high variance</td>\n",
       "    </tr>\n",
       "    <tr>\n",
       "      <th>0</th>\n",
       "      <td>([DecisionTreeRegressor(criterion='friedman_ms...</td>\n",
       "      <td>0.6250</td>\n",
       "      <td>0.469444</td>\n",
       "      <td>0.444444</td>\n",
       "      <td>1.000000</td>\n",
       "      <td>0.6250</td>\n",
       "      <td>0.375000</td>\n",
       "      <td>overfit</td>\n",
       "      <td>high variance</td>\n",
       "    </tr>\n",
       "    <tr>\n",
       "      <th>0</th>\n",
       "      <td>MultinomialNB(alpha=1.0, class_prior=None, fit...</td>\n",
       "      <td>0.6875</td>\n",
       "      <td>0.375992</td>\n",
       "      <td>0.377778</td>\n",
       "      <td>1.000000</td>\n",
       "      <td>0.6875</td>\n",
       "      <td>0.312500</td>\n",
       "      <td>overfit</td>\n",
       "      <td>high variance</td>\n",
       "    </tr>\n",
       "    <tr>\n",
       "      <th>0</th>\n",
       "      <td>LinearSVC(C=1.0, class_weight=None, dual=True,...</td>\n",
       "      <td>0.6250</td>\n",
       "      <td>0.357937</td>\n",
       "      <td>0.633333</td>\n",
       "      <td>1.000000</td>\n",
       "      <td>0.6250</td>\n",
       "      <td>0.375000</td>\n",
       "      <td>overfit</td>\n",
       "      <td>high variance</td>\n",
       "    </tr>\n",
       "    <tr>\n",
       "      <th>0</th>\n",
       "      <td>SVC(C=1.0, cache_size=200, class_weight=None, ...</td>\n",
       "      <td>0.5625</td>\n",
       "      <td>0.485913</td>\n",
       "      <td>0.500000</td>\n",
       "      <td>0.911111</td>\n",
       "      <td>0.5625</td>\n",
       "      <td>0.348611</td>\n",
       "      <td>overfit</td>\n",
       "      <td>high variance</td>\n",
       "    </tr>\n",
       "    <tr>\n",
       "      <th>0</th>\n",
       "      <td>XGBClassifier(base_score=0.5, booster='gbtree'...</td>\n",
       "      <td>0.7500</td>\n",
       "      <td>0.404167</td>\n",
       "      <td>0.566667</td>\n",
       "      <td>1.000000</td>\n",
       "      <td>0.7500</td>\n",
       "      <td>0.250000</td>\n",
       "      <td>overfit</td>\n",
       "      <td>high variance</td>\n",
       "    </tr>\n",
       "    <tr>\n",
       "      <th>0</th>\n",
       "      <td>XGBClassifier(base_score=0.5, booster='gbtree'...</td>\n",
       "      <td>0.6250</td>\n",
       "      <td>0.472421</td>\n",
       "      <td>0.566667</td>\n",
       "      <td>1.000000</td>\n",
       "      <td>0.6250</td>\n",
       "      <td>0.375000</td>\n",
       "      <td>overfit</td>\n",
       "      <td>high variance</td>\n",
       "    </tr>\n",
       "    <tr>\n",
       "      <th>0</th>\n",
       "      <td>VotingClassifier(estimators=[('svc', LinearSVC...</td>\n",
       "      <td>0.6250</td>\n",
       "      <td>0.377381</td>\n",
       "      <td>0.566667</td>\n",
       "      <td>1.000000</td>\n",
       "      <td>0.6250</td>\n",
       "      <td>0.375000</td>\n",
       "      <td>overfit</td>\n",
       "      <td>high variance</td>\n",
       "    </tr>\n",
       "  </tbody>\n",
       "</table>\n",
       "</div>"
      ],
      "text/plain": [
       "                                               model  accuracy score  \\\n",
       "0  LogisticRegression(C=1.0, class_weight=None, d...          0.6250   \n",
       "0  KNeighborsClassifier(algorithm='auto', leaf_si...          0.6875   \n",
       "0  (DecisionTreeClassifier(class_weight=None, cri...          0.4375   \n",
       "0  (DecisionTreeClassifier(class_weight=None, cri...          0.5000   \n",
       "0  (ExtraTreeClassifier(class_weight=None, criter...          0.5625   \n",
       "0  (DecisionTreeClassifier(class_weight=None, cri...          0.3750   \n",
       "0  ([DecisionTreeRegressor(criterion='friedman_ms...          0.6250   \n",
       "0  MultinomialNB(alpha=1.0, class_prior=None, fit...          0.6875   \n",
       "0  LinearSVC(C=1.0, class_weight=None, dual=True,...          0.6250   \n",
       "0  SVC(C=1.0, cache_size=200, class_weight=None, ...          0.5625   \n",
       "0  XGBClassifier(base_score=0.5, booster='gbtree'...          0.7500   \n",
       "0  XGBClassifier(base_score=0.5, booster='gbtree'...          0.6250   \n",
       "0  VotingClassifier(estimators=[('svc', LinearSVC...          0.6250   \n",
       "\n",
       "   cv train score  cv test score  train score  test score  train-test gap  \\\n",
       "0        0.423413       0.566667     1.000000      0.6250        0.375000   \n",
       "0        0.418849       0.433333     0.577778      0.6875       -0.109722   \n",
       "0        0.555754       0.566667     0.666667      0.4375        0.229167   \n",
       "0        0.315079       0.444444     0.955556      0.5000        0.455556   \n",
       "0        0.491667       0.433333     1.000000      0.5625        0.437500   \n",
       "0        0.467857       0.577778     1.000000      0.3750        0.625000   \n",
       "0        0.469444       0.444444     1.000000      0.6250        0.375000   \n",
       "0        0.375992       0.377778     1.000000      0.6875        0.312500   \n",
       "0        0.357937       0.633333     1.000000      0.6250        0.375000   \n",
       "0        0.485913       0.500000     0.911111      0.5625        0.348611   \n",
       "0        0.404167       0.566667     1.000000      0.7500        0.250000   \n",
       "0        0.472421       0.566667     1.000000      0.6250        0.375000   \n",
       "0        0.377381       0.566667     1.000000      0.6250        0.375000   \n",
       "\n",
       "  model status bias vs variance  \n",
       "0      overfit    high variance  \n",
       "0     underfit    high variance  \n",
       "0      overfit    high variance  \n",
       "0      overfit    high variance  \n",
       "0      overfit    high variance  \n",
       "0      overfit    high variance  \n",
       "0      overfit    high variance  \n",
       "0      overfit    high variance  \n",
       "0      overfit    high variance  \n",
       "0      overfit    high variance  \n",
       "0      overfit    high variance  \n",
       "0      overfit    high variance  \n",
       "0      overfit    high variance  "
      ]
     },
     "execution_count": 102,
     "metadata": {},
     "output_type": "execute_result"
    }
   ],
   "source": [
    "sm = pd.DataFrame() # Instantiate the empty shell to hold the function\n",
    "models = [logreg, knn, bg, rf, et, ada, gb, nb, svc, clf, xb,xb1,evc]\n",
    "\n",
    "for i in models:\n",
    "    sm = sm.append(model_scores(i, X_train_vect, y_train, X_test_vect, y_test))\n",
    "sm\n"
   ]
  },
  {
   "cell_type": "code",
   "execution_count": 49,
   "metadata": {},
   "outputs": [
    {
     "data": {
      "text/plain": [
       "array([0, 0, 1, 0, 0, 0, 1, 0, 0, 0, 1, 0, 1, 0, 0, 1])"
      ]
     },
     "execution_count": 49,
     "metadata": {},
     "output_type": "execute_result"
    }
   ],
   "source": [
    "xb.predict(X_test_vect)"
   ]
  },
  {
   "cell_type": "code",
   "execution_count": 79,
   "metadata": {},
   "outputs": [
    {
     "data": {
      "text/plain": [
       "array([0, 1, 0, 0, 0, 0, 1, 0, 1, 0, 1, 0, 0, 0, 0, 1])"
      ]
     },
     "execution_count": 79,
     "metadata": {},
     "output_type": "execute_result"
    }
   ],
   "source": [
    "rf.predict(X_test_vect)"
   ]
  },
  {
   "cell_type": "code",
   "execution_count": 69,
   "metadata": {},
   "outputs": [],
   "source": [
    "xbp = xb.predict_proba(X_test_vect)"
   ]
  },
  {
   "cell_type": "code",
   "execution_count": 70,
   "metadata": {},
   "outputs": [],
   "source": [
    "rfp= rf.predict_proba(X_test_vect)"
   ]
  },
  {
   "cell_type": "code",
   "execution_count": 74,
   "metadata": {},
   "outputs": [
    {
     "data": {
      "text/plain": [
       "array([[0.95667565, 0.04332433],\n",
       "       [0.50844026, 0.49155977],\n",
       "       [0.22949928, 0.7705007 ],\n",
       "       [0.8892762 , 0.1107238 ],\n",
       "       [0.7464902 , 0.25350982],\n",
       "       [0.66638744, 0.33361256],\n",
       "       [0.40718162, 0.5928184 ],\n",
       "       [0.88888186, 0.11111813],\n",
       "       [0.57492834, 0.42507166],\n",
       "       [0.9146126 , 0.08538741],\n",
       "       [0.38623613, 0.61376387],\n",
       "       [0.5141312 , 0.48586878],\n",
       "       [0.2458536 , 0.7541464 ],\n",
       "       [0.61025333, 0.38974667],\n",
       "       [0.63365376, 0.36634624],\n",
       "       [0.23593885, 0.76406115]], dtype=float32)"
      ]
     },
     "execution_count": 74,
     "metadata": {},
     "output_type": "execute_result"
    }
   ],
   "source": [
    "xbp "
   ]
  },
  {
   "cell_type": "code",
   "execution_count": 75,
   "metadata": {
    "scrolled": true
   },
   "outputs": [
    {
     "data": {
      "text/plain": [
       "array([[0.7, 0.3],\n",
       "       [0.4, 0.6],\n",
       "       [0.6, 0.4],\n",
       "       [0.8, 0.2],\n",
       "       [0.6, 0.4],\n",
       "       [0.6, 0.4],\n",
       "       [0.4, 0.6],\n",
       "       [0.6, 0.4],\n",
       "       [0.3, 0.7],\n",
       "       [0.7, 0.3],\n",
       "       [0.3, 0.7],\n",
       "       [0.5, 0.5],\n",
       "       [0.7, 0.3],\n",
       "       [0.7, 0.3],\n",
       "       [0.5, 0.5],\n",
       "       [0.4, 0.6]])"
      ]
     },
     "execution_count": 75,
     "metadata": {},
     "output_type": "execute_result"
    }
   ],
   "source": [
    "rfp"
   ]
  },
  {
   "cell_type": "code",
   "execution_count": 78,
   "metadata": {},
   "outputs": [
    {
     "data": {
      "text/plain": [
       "array([[0.82833782, 0.17166216],\n",
       "       [0.45422013, 0.54577989],\n",
       "       [0.41474964, 0.58525036],\n",
       "       [0.8446381 , 0.1553619 ],\n",
       "       [0.67324509, 0.32675491],\n",
       "       [0.63319372, 0.36680628],\n",
       "       [0.40359081, 0.59640919],\n",
       "       [0.74444093, 0.25555907],\n",
       "       [0.43746417, 0.56253583],\n",
       "       [0.8073063 , 0.1926937 ],\n",
       "       [0.34311807, 0.65688193],\n",
       "       [0.50706559, 0.49293439],\n",
       "       [0.4729268 , 0.5270732 ],\n",
       "       [0.65512667, 0.34487333],\n",
       "       [0.56682688, 0.43317312],\n",
       "       [0.31796942, 0.68203058]])"
      ]
     },
     "execution_count": 78,
     "metadata": {},
     "output_type": "execute_result"
    }
   ],
   "source": [
    "(xbp + rfp)/2"
   ]
  },
  {
   "cell_type": "code",
   "execution_count": null,
   "metadata": {},
   "outputs": [],
   "source": []
  },
  {
   "cell_type": "code",
   "execution_count": 83,
   "metadata": {},
   "outputs": [
    {
     "data": {
      "text/html": [
       "<div>\n",
       "<style scoped>\n",
       "    .dataframe tbody tr th:only-of-type {\n",
       "        vertical-align: middle;\n",
       "    }\n",
       "\n",
       "    .dataframe tbody tr th {\n",
       "        vertical-align: top;\n",
       "    }\n",
       "\n",
       "    .dataframe thead th {\n",
       "        text-align: right;\n",
       "    }\n",
       "</style>\n",
       "<table border=\"1\" class=\"dataframe\">\n",
       "  <thead>\n",
       "    <tr style=\"text-align: right;\">\n",
       "      <th></th>\n",
       "      <th>model</th>\n",
       "      <th>accuracy score</th>\n",
       "      <th>cv train score</th>\n",
       "      <th>cv test score</th>\n",
       "      <th>train score</th>\n",
       "      <th>test score</th>\n",
       "      <th>train-test gap</th>\n",
       "      <th>model status</th>\n",
       "      <th>bias vs variance</th>\n",
       "    </tr>\n",
       "  </thead>\n",
       "  <tbody>\n",
       "    <tr>\n",
       "      <th>0</th>\n",
       "      <td>LogisticRegression(C=1.0, class_weight=None, d...</td>\n",
       "      <td>0.8125</td>\n",
       "      <td>0.444048</td>\n",
       "      <td>0.566667</td>\n",
       "      <td>1.0</td>\n",
       "      <td>0.8125</td>\n",
       "      <td>0.1875</td>\n",
       "      <td>overfit</td>\n",
       "      <td>high variance</td>\n",
       "    </tr>\n",
       "    <tr>\n",
       "      <th>0</th>\n",
       "      <td>XGBClassifier(base_score=0.5, booster='gbtree'...</td>\n",
       "      <td>0.3125</td>\n",
       "      <td>0.423413</td>\n",
       "      <td>0.555556</td>\n",
       "      <td>1.0</td>\n",
       "      <td>0.3125</td>\n",
       "      <td>0.6875</td>\n",
       "      <td>overfit</td>\n",
       "      <td>high variance</td>\n",
       "    </tr>\n",
       "  </tbody>\n",
       "</table>\n",
       "</div>"
      ],
      "text/plain": [
       "                                               model  accuracy score  \\\n",
       "0  LogisticRegression(C=1.0, class_weight=None, d...          0.8125   \n",
       "0  XGBClassifier(base_score=0.5, booster='gbtree'...          0.3125   \n",
       "\n",
       "   cv train score  cv test score  train score  test score  train-test gap  \\\n",
       "0        0.444048       0.566667          1.0      0.8125          0.1875   \n",
       "0        0.423413       0.555556          1.0      0.3125          0.6875   \n",
       "\n",
       "  model status bias vs variance  \n",
       "0      overfit    high variance  \n",
       "0      overfit    high variance  "
      ]
     },
     "execution_count": 83,
     "metadata": {},
     "output_type": "execute_result"
    }
   ],
   "source": [
    "sm = pd.DataFrame() # Instantiate the empty shell to hold the function\n",
    "models = [logreg, xb]\n",
    "\n",
    "for i in models:\n",
    "    sm = sm.append(model_scores(i, X_train_vect2, y_train, X_test_vect2, y_test))\n",
    "sm"
   ]
  },
  {
   "cell_type": "code",
   "execution_count": 84,
   "metadata": {},
   "outputs": [
    {
     "data": {
      "text/html": [
       "<div>\n",
       "<style scoped>\n",
       "    .dataframe tbody tr th:only-of-type {\n",
       "        vertical-align: middle;\n",
       "    }\n",
       "\n",
       "    .dataframe tbody tr th {\n",
       "        vertical-align: top;\n",
       "    }\n",
       "\n",
       "    .dataframe thead th {\n",
       "        text-align: right;\n",
       "    }\n",
       "</style>\n",
       "<table border=\"1\" class=\"dataframe\">\n",
       "  <thead>\n",
       "    <tr style=\"text-align: right;\">\n",
       "      <th></th>\n",
       "      <th>model</th>\n",
       "      <th>accuracy score</th>\n",
       "      <th>cv train score</th>\n",
       "      <th>cv test score</th>\n",
       "      <th>train score</th>\n",
       "      <th>test score</th>\n",
       "      <th>train-test gap</th>\n",
       "      <th>model status</th>\n",
       "      <th>bias vs variance</th>\n",
       "    </tr>\n",
       "  </thead>\n",
       "  <tbody>\n",
       "    <tr>\n",
       "      <th>0</th>\n",
       "      <td>LogisticRegression(C=1.0, class_weight=None, d...</td>\n",
       "      <td>0.6875</td>\n",
       "      <td>0.396627</td>\n",
       "      <td>0.511111</td>\n",
       "      <td>1.0</td>\n",
       "      <td>0.6875</td>\n",
       "      <td>0.3125</td>\n",
       "      <td>overfit</td>\n",
       "      <td>high variance</td>\n",
       "    </tr>\n",
       "    <tr>\n",
       "      <th>0</th>\n",
       "      <td>XGBClassifier(base_score=0.5, booster='gbtree'...</td>\n",
       "      <td>0.3750</td>\n",
       "      <td>0.621230</td>\n",
       "      <td>0.455556</td>\n",
       "      <td>1.0</td>\n",
       "      <td>0.3750</td>\n",
       "      <td>0.6250</td>\n",
       "      <td>overfit</td>\n",
       "      <td>high variance</td>\n",
       "    </tr>\n",
       "  </tbody>\n",
       "</table>\n",
       "</div>"
      ],
      "text/plain": [
       "                                               model  accuracy score  \\\n",
       "0  LogisticRegression(C=1.0, class_weight=None, d...          0.6875   \n",
       "0  XGBClassifier(base_score=0.5, booster='gbtree'...          0.3750   \n",
       "\n",
       "   cv train score  cv test score  train score  test score  train-test gap  \\\n",
       "0        0.396627       0.511111          1.0      0.6875          0.3125   \n",
       "0        0.621230       0.455556          1.0      0.3750          0.6250   \n",
       "\n",
       "  model status bias vs variance  \n",
       "0      overfit    high variance  \n",
       "0      overfit    high variance  "
      ]
     },
     "execution_count": 84,
     "metadata": {},
     "output_type": "execute_result"
    }
   ],
   "source": [
    "sm = pd.DataFrame() # Instantiate the empty shell to hold the function\n",
    "models = [logreg,xb]\n",
    "\n",
    "for i in models:\n",
    "    sm = sm.append(model_scores(i, X_train_vect3, y_train, X_test_vect3, y_test))\n",
    "sm"
   ]
  },
  {
   "cell_type": "markdown",
   "metadata": {},
   "source": [
    "# Second Run"
   ]
  },
  {
   "cell_type": "code",
   "execution_count": 85,
   "metadata": {
    "scrolled": true
   },
   "outputs": [
    {
     "data": {
      "text/html": [
       "<div>\n",
       "<style scoped>\n",
       "    .dataframe tbody tr th:only-of-type {\n",
       "        vertical-align: middle;\n",
       "    }\n",
       "\n",
       "    .dataframe tbody tr th {\n",
       "        vertical-align: top;\n",
       "    }\n",
       "\n",
       "    .dataframe thead th {\n",
       "        text-align: right;\n",
       "    }\n",
       "</style>\n",
       "<table border=\"1\" class=\"dataframe\">\n",
       "  <thead>\n",
       "    <tr style=\"text-align: right;\">\n",
       "      <th></th>\n",
       "      <th>model</th>\n",
       "      <th>accuracy score</th>\n",
       "      <th>cv train score</th>\n",
       "      <th>cv test score</th>\n",
       "      <th>train score</th>\n",
       "      <th>test score</th>\n",
       "      <th>train-test gap</th>\n",
       "      <th>model status</th>\n",
       "      <th>bias vs variance</th>\n",
       "    </tr>\n",
       "  </thead>\n",
       "  <tbody>\n",
       "    <tr>\n",
       "      <th>0</th>\n",
       "      <td>LogisticRegression(C=1.0, class_weight=None, d...</td>\n",
       "      <td>0.6250</td>\n",
       "      <td>0.423413</td>\n",
       "      <td>0.566667</td>\n",
       "      <td>1.000000</td>\n",
       "      <td>0.6250</td>\n",
       "      <td>0.375000</td>\n",
       "      <td>overfit</td>\n",
       "      <td>high variance</td>\n",
       "    </tr>\n",
       "    <tr>\n",
       "      <th>0</th>\n",
       "      <td>KNeighborsClassifier(algorithm='auto', leaf_si...</td>\n",
       "      <td>0.6875</td>\n",
       "      <td>0.418849</td>\n",
       "      <td>0.433333</td>\n",
       "      <td>0.577778</td>\n",
       "      <td>0.6875</td>\n",
       "      <td>-0.109722</td>\n",
       "      <td>underfit</td>\n",
       "      <td>high variance</td>\n",
       "    </tr>\n",
       "    <tr>\n",
       "      <th>0</th>\n",
       "      <td>(DecisionTreeClassifier(class_weight=None, cri...</td>\n",
       "      <td>0.4375</td>\n",
       "      <td>0.460516</td>\n",
       "      <td>0.577778</td>\n",
       "      <td>0.955556</td>\n",
       "      <td>0.4375</td>\n",
       "      <td>0.518056</td>\n",
       "      <td>overfit</td>\n",
       "      <td>high variance</td>\n",
       "    </tr>\n",
       "    <tr>\n",
       "      <th>0</th>\n",
       "      <td>(ExtraTreeClassifier(class_weight=None, criter...</td>\n",
       "      <td>0.3750</td>\n",
       "      <td>0.554365</td>\n",
       "      <td>0.311111</td>\n",
       "      <td>1.000000</td>\n",
       "      <td>0.3750</td>\n",
       "      <td>0.625000</td>\n",
       "      <td>overfit</td>\n",
       "      <td>high variance</td>\n",
       "    </tr>\n",
       "    <tr>\n",
       "      <th>0</th>\n",
       "      <td>(DecisionTreeClassifier(class_weight=None, cri...</td>\n",
       "      <td>0.3750</td>\n",
       "      <td>0.467857</td>\n",
       "      <td>0.577778</td>\n",
       "      <td>1.000000</td>\n",
       "      <td>0.3750</td>\n",
       "      <td>0.625000</td>\n",
       "      <td>overfit</td>\n",
       "      <td>high variance</td>\n",
       "    </tr>\n",
       "    <tr>\n",
       "      <th>0</th>\n",
       "      <td>([DecisionTreeRegressor(criterion='friedman_ms...</td>\n",
       "      <td>0.6250</td>\n",
       "      <td>0.469444</td>\n",
       "      <td>0.444444</td>\n",
       "      <td>1.000000</td>\n",
       "      <td>0.6250</td>\n",
       "      <td>0.375000</td>\n",
       "      <td>overfit</td>\n",
       "      <td>high variance</td>\n",
       "    </tr>\n",
       "    <tr>\n",
       "      <th>0</th>\n",
       "      <td>MultinomialNB(alpha=1.0, class_prior=None, fit...</td>\n",
       "      <td>0.6875</td>\n",
       "      <td>0.375992</td>\n",
       "      <td>0.377778</td>\n",
       "      <td>1.000000</td>\n",
       "      <td>0.6875</td>\n",
       "      <td>0.312500</td>\n",
       "      <td>overfit</td>\n",
       "      <td>high variance</td>\n",
       "    </tr>\n",
       "    <tr>\n",
       "      <th>0</th>\n",
       "      <td>LinearSVC(C=1.0, class_weight=None, dual=True,...</td>\n",
       "      <td>0.6250</td>\n",
       "      <td>0.357937</td>\n",
       "      <td>0.633333</td>\n",
       "      <td>1.000000</td>\n",
       "      <td>0.6250</td>\n",
       "      <td>0.375000</td>\n",
       "      <td>overfit</td>\n",
       "      <td>high variance</td>\n",
       "    </tr>\n",
       "    <tr>\n",
       "      <th>0</th>\n",
       "      <td>SVC(C=1.0, cache_size=200, class_weight=None, ...</td>\n",
       "      <td>0.5625</td>\n",
       "      <td>0.485913</td>\n",
       "      <td>0.500000</td>\n",
       "      <td>0.911111</td>\n",
       "      <td>0.5625</td>\n",
       "      <td>0.348611</td>\n",
       "      <td>overfit</td>\n",
       "      <td>high variance</td>\n",
       "    </tr>\n",
       "    <tr>\n",
       "      <th>0</th>\n",
       "      <td>XGBClassifier(base_score=0.5, booster='gbtree'...</td>\n",
       "      <td>0.7500</td>\n",
       "      <td>0.404167</td>\n",
       "      <td>0.566667</td>\n",
       "      <td>1.000000</td>\n",
       "      <td>0.7500</td>\n",
       "      <td>0.250000</td>\n",
       "      <td>overfit</td>\n",
       "      <td>high variance</td>\n",
       "    </tr>\n",
       "    <tr>\n",
       "      <th>0</th>\n",
       "      <td>VotingClassifier(estimators=[('svc', LinearSVC...</td>\n",
       "      <td>0.6250</td>\n",
       "      <td>0.377381</td>\n",
       "      <td>0.633333</td>\n",
       "      <td>1.000000</td>\n",
       "      <td>0.6250</td>\n",
       "      <td>0.375000</td>\n",
       "      <td>overfit</td>\n",
       "      <td>high variance</td>\n",
       "    </tr>\n",
       "  </tbody>\n",
       "</table>\n",
       "</div>"
      ],
      "text/plain": [
       "                                               model  accuracy score  \\\n",
       "0  LogisticRegression(C=1.0, class_weight=None, d...          0.6250   \n",
       "0  KNeighborsClassifier(algorithm='auto', leaf_si...          0.6875   \n",
       "0  (DecisionTreeClassifier(class_weight=None, cri...          0.4375   \n",
       "0  (ExtraTreeClassifier(class_weight=None, criter...          0.3750   \n",
       "0  (DecisionTreeClassifier(class_weight=None, cri...          0.3750   \n",
       "0  ([DecisionTreeRegressor(criterion='friedman_ms...          0.6250   \n",
       "0  MultinomialNB(alpha=1.0, class_prior=None, fit...          0.6875   \n",
       "0  LinearSVC(C=1.0, class_weight=None, dual=True,...          0.6250   \n",
       "0  SVC(C=1.0, cache_size=200, class_weight=None, ...          0.5625   \n",
       "0  XGBClassifier(base_score=0.5, booster='gbtree'...          0.7500   \n",
       "0  VotingClassifier(estimators=[('svc', LinearSVC...          0.6250   \n",
       "\n",
       "   cv train score  cv test score  train score  test score  train-test gap  \\\n",
       "0        0.423413       0.566667     1.000000      0.6250        0.375000   \n",
       "0        0.418849       0.433333     0.577778      0.6875       -0.109722   \n",
       "0        0.460516       0.577778     0.955556      0.4375        0.518056   \n",
       "0        0.554365       0.311111     1.000000      0.3750        0.625000   \n",
       "0        0.467857       0.577778     1.000000      0.3750        0.625000   \n",
       "0        0.469444       0.444444     1.000000      0.6250        0.375000   \n",
       "0        0.375992       0.377778     1.000000      0.6875        0.312500   \n",
       "0        0.357937       0.633333     1.000000      0.6250        0.375000   \n",
       "0        0.485913       0.500000     0.911111      0.5625        0.348611   \n",
       "0        0.404167       0.566667     1.000000      0.7500        0.250000   \n",
       "0        0.377381       0.633333     1.000000      0.6250        0.375000   \n",
       "\n",
       "  model status bias vs variance  \n",
       "0      overfit    high variance  \n",
       "0     underfit    high variance  \n",
       "0      overfit    high variance  \n",
       "0      overfit    high variance  \n",
       "0      overfit    high variance  \n",
       "0      overfit    high variance  \n",
       "0      overfit    high variance  \n",
       "0      overfit    high variance  \n",
       "0      overfit    high variance  \n",
       "0      overfit    high variance  \n",
       "0      overfit    high variance  "
      ]
     },
     "execution_count": 85,
     "metadata": {},
     "output_type": "execute_result"
    }
   ],
   "source": [
    "sm = pd.DataFrame() # Instantiate the empty shell to hold the function\n",
    "models = [logreg, knn, rf, et, ada, gb, nb, svc, clf, xb,evc]\n",
    "\n",
    "for i in models:\n",
    "    sm = sm.append(model_scores(i, X_train_vect, y_train, X_test_vect, y_test))\n",
    "sm"
   ]
  },
  {
   "cell_type": "markdown",
   "metadata": {},
   "source": [
    "# Model Score for MD alone"
   ]
  },
  {
   "cell_type": "code",
   "execution_count": null,
   "metadata": {},
   "outputs": [],
   "source": [
    "X = df['tx_MD']\n",
    "y = df['pct_price_target']\n",
    "\n",
    "X_train, X_test, y_train, y_test = train_test_split(X, \n",
    "                                                    y,\n",
    "                                                    random_state=42,\n",
    "                                                    stratify=y)\n",
    "\n",
    "\n",
    "# Create document-term matrices.\n",
    "X_train_dtm = vect.fit_transform(X_train)\n",
    "X_test_dtm = vect.transform(X_test)\n",
    "\n",
    "# Use Naive Bayes to predict the star rating.\n",
    "\n",
    "nb.fit(X_train_dtm, y_train)\n",
    "y_pred_class = nb.predict(X_test_dtm)\n",
    "\n",
    "# Calculate accuracy.\n",
    "print((metrics.accuracy_score(y_test, y_pred_class)))"
   ]
  },
  {
   "cell_type": "markdown",
   "metadata": {},
   "source": [
    "# Model Score for QA alone"
   ]
  },
  {
   "cell_type": "code",
   "execution_count": null,
   "metadata": {},
   "outputs": [],
   "source": [
    "from sklearn.naive_bayes import MultinomialNB\n",
    "\n",
    "nb = MultinomialNB()\n",
    "from sklearn import metrics\n",
    "\n",
    "# Use default options for CountVectorizer.\n",
    "vect = CountVectorizer(analyzer = \"word\",\n",
    "                             tokenizer = None,\n",
    "                             preprocessor = None,\n",
    "                             stop_words = 'english', ngram_range=(2, 2))\n",
    "\n",
    "\n",
    "X = df['tx_QA']\n",
    "y = df['pct_price_target']\n",
    "\n",
    "X_train, X_test, y_train, y_test = train_test_split(X, \n",
    "                                                    y,\n",
    "                                                    random_state=42,\n",
    "                                                    stratify=y)\n",
    "\n",
    "\n",
    "# Create document-term matrices.\n",
    "X_train_dtm = vect.fit_transform(X_train)\n",
    "X_test_dtm = vect.transform(X_test)\n",
    "\n",
    "# Use Naive Bayes to predict the star rating.\n",
    "\n",
    "nb.fit(X_train_dtm, y_train)\n",
    "y_pred_class = nb.predict(X_test_dtm)\n",
    "\n",
    "# Calculate accuracy.\n",
    "print((metrics.accuracy_score(y_test, y_pred_class)))"
   ]
  }
 ],
 "metadata": {
  "kernelspec": {
   "display_name": "Python 3",
   "language": "python",
   "name": "python3"
  },
  "language_info": {
   "codemirror_mode": {
    "name": "ipython",
    "version": 3
   },
   "file_extension": ".py",
   "mimetype": "text/x-python",
   "name": "python",
   "nbconvert_exporter": "python",
   "pygments_lexer": "ipython3",
   "version": "3.6.8"
  },
  "toc": {
   "base_numbering": 1,
   "nav_menu": {},
   "number_sections": true,
   "sideBar": true,
   "skip_h1_title": false,
   "title_cell": "Table of Contents",
   "title_sidebar": "Contents",
   "toc_cell": true,
   "toc_position": {},
   "toc_section_display": true,
   "toc_window_display": true
  }
 },
 "nbformat": 4,
 "nbformat_minor": 2
}
