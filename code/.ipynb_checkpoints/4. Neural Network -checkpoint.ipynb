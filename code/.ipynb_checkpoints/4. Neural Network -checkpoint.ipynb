{
 "cells": [
  {
   "cell_type": "markdown",
   "metadata": {
    "toc": true
   },
   "source": [
    "<h1>Table of Contents<span class=\"tocSkip\"></span></h1>\n",
    "<div class=\"toc\"><ul class=\"toc-item\"><li><span><a href=\"#Text-for-Neural-Network\" data-toc-modified-id=\"Text-for-Neural-Network-1\"><span class=\"toc-item-num\">1&nbsp;&nbsp;</span>Text for Neural Network</a></span></li><li><span><a href=\"#Loading-new-document-that-never-seen-before\" data-toc-modified-id=\"Loading-new-document-that-never-seen-before-2\"><span class=\"toc-item-num\">2&nbsp;&nbsp;</span>Loading new document that never seen before</a></span></li><li><span><a href=\"#Transfom-the-text-for-the-doc\" data-toc-modified-id=\"Transfom-the-text-for-the-doc-3\"><span class=\"toc-item-num\">3&nbsp;&nbsp;</span>Transfom the text for the doc</a></span></li></ul></div>"
   ]
  },
  {
   "cell_type": "code",
   "execution_count": 1,
   "metadata": {},
   "outputs": [
    {
     "name": "stderr",
     "output_type": "stream",
     "text": [
      "Using TensorFlow backend.\n"
     ]
    }
   ],
   "source": [
    "import pandas as pd\n",
    "import datetime\n",
    "import pandas_datareader as pdr\n",
    "from bs4 import BeautifulSoup\n",
    "\n",
    "import re\n",
    "from textstat.textstat import textstat \n",
    "\n",
    "from sklearn.model_selection import train_test_split\n",
    "from sklearn.feature_extraction.text import TfidfTransformer, CountVectorizer, TfidfVectorizer\n",
    "from keras.utils.np_utils import to_categorical\n",
    "\n",
    "import matplotlib.pyplot as plt\n",
    "%matplotlib inline"
   ]
  },
  {
   "cell_type": "markdown",
   "metadata": {},
   "source": [
    "How to deploy a neural network with a df with num and text? "
   ]
  },
  {
   "cell_type": "code",
   "execution_count": 2,
   "metadata": {},
   "outputs": [],
   "source": [
    "import pickle\n",
    "\n",
    "df_1 = pickle.load( open( \"../data/df_1.pkl\", \"rb\" ) )"
   ]
  },
  {
   "cell_type": "code",
   "execution_count": 3,
   "metadata": {
    "scrolled": false
   },
   "outputs": [
    {
     "data": {
      "text/html": [
       "<div>\n",
       "<style scoped>\n",
       "    .dataframe tbody tr th:only-of-type {\n",
       "        vertical-align: middle;\n",
       "    }\n",
       "\n",
       "    .dataframe tbody tr th {\n",
       "        vertical-align: top;\n",
       "    }\n",
       "\n",
       "    .dataframe thead th {\n",
       "        text-align: right;\n",
       "    }\n",
       "</style>\n",
       "<table border=\"1\" class=\"dataframe\">\n",
       "  <thead>\n",
       "    <tr style=\"text-align: right;\">\n",
       "      <th></th>\n",
       "      <th>transcripts</th>\n",
       "      <th>tx_MD</th>\n",
       "      <th>tx_QA</th>\n",
       "      <th>esp_date</th>\n",
       "      <th>esp_status_all</th>\n",
       "      <th>esp_status</th>\n",
       "      <th>esp</th>\n",
       "      <th>company</th>\n",
       "      <th>rev_yoy_growth_percent</th>\n",
       "      <th>rev_status</th>\n",
       "      <th>...</th>\n",
       "      <th>tx_QA_avg_sentence_length</th>\n",
       "      <th>tx_QAtextstat.lexicon_count</th>\n",
       "      <th>tx_QAflesch_reading_ease</th>\n",
       "      <th>tx_QAflesch_kincaid_grade</th>\n",
       "      <th>tx_QAdifficult_words</th>\n",
       "      <th>tx_QAlinsear_write_formula</th>\n",
       "      <th>tx_QAgunning_fog</th>\n",
       "      <th>tx_QAautomated_readability_index</th>\n",
       "      <th>tx_QAcoleman_liau_index</th>\n",
       "      <th>tx_QAdale_chall_readability_score</th>\n",
       "    </tr>\n",
       "  </thead>\n",
       "  <tbody>\n",
       "    <tr>\n",
       "      <th>0</th>\n",
       "      <td>Tesla, Inc (TSLA) CEO Elon Musk on Q1 2019 Res...</td>\n",
       "      <td>Tesla, Inc (TSLA) CEO Elon Musk on Q1 2019 Res...</td>\n",
       "      <td>\\nOperator\\nThank you. Our first question come...</td>\n",
       "      <td>2019-04-24</td>\n",
       "      <td>EPS of $-1.7675 misses by $-0.83</td>\n",
       "      <td>misses</td>\n",
       "      <td>-1.7675</td>\n",
       "      <td>TSLA</td>\n",
       "      <td>33.23</td>\n",
       "      <td>misses</td>\n",
       "      <td>...</td>\n",
       "      <td>17.3</td>\n",
       "      <td>5255</td>\n",
       "      <td>70.84</td>\n",
       "      <td>7.7</td>\n",
       "      <td>476</td>\n",
       "      <td>6.250000</td>\n",
       "      <td>8.71</td>\n",
       "      <td>8.7</td>\n",
       "      <td>8.06</td>\n",
       "      <td>5.92</td>\n",
       "    </tr>\n",
       "    <tr>\n",
       "      <th>1</th>\n",
       "      <td>Tesla, Inc. (TSLA) CEO Elon Musk on Q4 2018 Re...</td>\n",
       "      <td>Tesla, Inc. (TSLA) CEO Elon Musk on Q4 2018 Re...</td>\n",
       "      <td>\\nOperator\\nThank you [Operator Instructions] ...</td>\n",
       "      <td>2019-01-30</td>\n",
       "      <td>EPS of $1.93 misses by $-0.09</td>\n",
       "      <td>misses</td>\n",
       "      <td>1.93</td>\n",
       "      <td>TSLA</td>\n",
       "      <td>119.75</td>\n",
       "      <td>beats</td>\n",
       "      <td>...</td>\n",
       "      <td>15.9</td>\n",
       "      <td>6423</td>\n",
       "      <td>72.26</td>\n",
       "      <td>7.1</td>\n",
       "      <td>536</td>\n",
       "      <td>7.571429</td>\n",
       "      <td>8.04</td>\n",
       "      <td>8.2</td>\n",
       "      <td>7.94</td>\n",
       "      <td>5.74</td>\n",
       "    </tr>\n",
       "  </tbody>\n",
       "</table>\n",
       "<p>2 rows × 65 columns</p>\n",
       "</div>"
      ],
      "text/plain": [
       "                                         transcripts  \\\n",
       "0  Tesla, Inc (TSLA) CEO Elon Musk on Q1 2019 Res...   \n",
       "1  Tesla, Inc. (TSLA) CEO Elon Musk on Q4 2018 Re...   \n",
       "\n",
       "                                               tx_MD  \\\n",
       "0  Tesla, Inc (TSLA) CEO Elon Musk on Q1 2019 Res...   \n",
       "1  Tesla, Inc. (TSLA) CEO Elon Musk on Q4 2018 Re...   \n",
       "\n",
       "                                               tx_QA   esp_date  \\\n",
       "0  \\nOperator\\nThank you. Our first question come... 2019-04-24   \n",
       "1  \\nOperator\\nThank you [Operator Instructions] ... 2019-01-30   \n",
       "\n",
       "                     esp_status_all esp_status      esp company  \\\n",
       "0  EPS of $-1.7675 misses by $-0.83     misses  -1.7675    TSLA   \n",
       "1     EPS of $1.93 misses by $-0.09     misses     1.93    TSLA   \n",
       "\n",
       "   rev_yoy_growth_percent rev_status  ...  tx_QA_avg_sentence_length  \\\n",
       "0                   33.23     misses  ...                       17.3   \n",
       "1                  119.75      beats  ...                       15.9   \n",
       "\n",
       "  tx_QAtextstat.lexicon_count tx_QAflesch_reading_ease  \\\n",
       "0                        5255                    70.84   \n",
       "1                        6423                    72.26   \n",
       "\n",
       "   tx_QAflesch_kincaid_grade  tx_QAdifficult_words  \\\n",
       "0                        7.7                   476   \n",
       "1                        7.1                   536   \n",
       "\n",
       "   tx_QAlinsear_write_formula  tx_QAgunning_fog  \\\n",
       "0                    6.250000              8.71   \n",
       "1                    7.571429              8.04   \n",
       "\n",
       "   tx_QAautomated_readability_index  tx_QAcoleman_liau_index  \\\n",
       "0                               8.7                     8.06   \n",
       "1                               8.2                     7.94   \n",
       "\n",
       "   tx_QAdale_chall_readability_score  \n",
       "0                               5.92  \n",
       "1                               5.74  \n",
       "\n",
       "[2 rows x 65 columns]"
      ]
     },
     "execution_count": 3,
     "metadata": {},
     "output_type": "execute_result"
    }
   ],
   "source": [
    "df_1.head(2)"
   ]
  },
  {
   "cell_type": "markdown",
   "metadata": {},
   "source": [
    "# Text for Neural Network"
   ]
  },
  {
   "cell_type": "markdown",
   "metadata": {},
   "source": [
    "Model 1 is transcript\n",
    "\n",
    "Model 2 is Tx_MD\n",
    "\n",
    "Model 3 is Tx_QA"
   ]
  },
  {
   "cell_type": "code",
   "execution_count": 4,
   "metadata": {},
   "outputs": [],
   "source": [
    "import pickle\n",
    "\n",
    "df = pickle.load(open( \"../data/df_words_target.p\", \"rb\" ))"
   ]
  },
  {
   "cell_type": "code",
   "execution_count": 5,
   "metadata": {
    "scrolled": true
   },
   "outputs": [
    {
     "data": {
      "text/html": [
       "<div>\n",
       "<style scoped>\n",
       "    .dataframe tbody tr th:only-of-type {\n",
       "        vertical-align: middle;\n",
       "    }\n",
       "\n",
       "    .dataframe tbody tr th {\n",
       "        vertical-align: top;\n",
       "    }\n",
       "\n",
       "    .dataframe thead th {\n",
       "        text-align: right;\n",
       "    }\n",
       "</style>\n",
       "<table border=\"1\" class=\"dataframe\">\n",
       "  <thead>\n",
       "    <tr style=\"text-align: right;\">\n",
       "      <th></th>\n",
       "      <th>esp_date</th>\n",
       "      <th>transcripts</th>\n",
       "      <th>tx_MD</th>\n",
       "      <th>tx_QA</th>\n",
       "      <th>pct_price_target</th>\n",
       "      <th>esp_target</th>\n",
       "      <th>rev_target</th>\n",
       "      <th>weekly_return</th>\n",
       "    </tr>\n",
       "  </thead>\n",
       "  <tbody>\n",
       "    <tr>\n",
       "      <th>0</th>\n",
       "      <td>2019-04-24</td>\n",
       "      <td>Tesla, Inc (TSLA) CEO Elon Musk on Q1 2019 Res...</td>\n",
       "      <td>Tesla, Inc (TSLA) CEO Elon Musk on Q1 2019 Res...</td>\n",
       "      <td>\\nOperator\\nThank you. Our first question come...</td>\n",
       "      <td>0</td>\n",
       "      <td>0</td>\n",
       "      <td>0</td>\n",
       "      <td>1</td>\n",
       "    </tr>\n",
       "    <tr>\n",
       "      <th>1</th>\n",
       "      <td>2019-01-30</td>\n",
       "      <td>Tesla, Inc. (TSLA) CEO Elon Musk on Q4 2018 Re...</td>\n",
       "      <td>Tesla, Inc. (TSLA) CEO Elon Musk on Q4 2018 Re...</td>\n",
       "      <td>\\nOperator\\nThank you [Operator Instructions] ...</td>\n",
       "      <td>1</td>\n",
       "      <td>0</td>\n",
       "      <td>1</td>\n",
       "      <td>0</td>\n",
       "    </tr>\n",
       "  </tbody>\n",
       "</table>\n",
       "</div>"
      ],
      "text/plain": [
       "    esp_date                                        transcripts  \\\n",
       "0 2019-04-24  Tesla, Inc (TSLA) CEO Elon Musk on Q1 2019 Res...   \n",
       "1 2019-01-30  Tesla, Inc. (TSLA) CEO Elon Musk on Q4 2018 Re...   \n",
       "\n",
       "                                               tx_MD  \\\n",
       "0  Tesla, Inc (TSLA) CEO Elon Musk on Q1 2019 Res...   \n",
       "1  Tesla, Inc. (TSLA) CEO Elon Musk on Q4 2018 Re...   \n",
       "\n",
       "                                               tx_QA  pct_price_target  \\\n",
       "0  \\nOperator\\nThank you. Our first question come...                 0   \n",
       "1  \\nOperator\\nThank you [Operator Instructions] ...                 1   \n",
       "\n",
       "   esp_target  rev_target  weekly_return  \n",
       "0           0           0              1  \n",
       "1           0           1              0  "
      ]
     },
     "execution_count": 5,
     "metadata": {},
     "output_type": "execute_result"
    }
   ],
   "source": [
    "df.head(2)"
   ]
  },
  {
   "cell_type": "code",
   "execution_count": 6,
   "metadata": {},
   "outputs": [],
   "source": [
    "from sklearn.naive_bayes import MultinomialNB\n",
    "from sklearn import metrics\n",
    "\n",
    "# Use default options for CountVectorizer.\n",
    "cvec = CountVectorizer(stop_words = 'english', ngram_range=(1, 1))\n",
    "\n",
    "X = df['transcripts']\n",
    "y = df['weekly_return']\n",
    "\n",
    "# Create document-term matrices.\n",
    "X_cvec = cvec.fit_transform(X)"
   ]
  },
  {
   "cell_type": "code",
   "execution_count": 7,
   "metadata": {},
   "outputs": [],
   "source": [
    "X = X_cvec.toarray()"
   ]
  },
  {
   "cell_type": "code",
   "execution_count": 8,
   "metadata": {},
   "outputs": [
    {
     "data": {
      "text/plain": [
       "((11, 5330), (11,))"
      ]
     },
     "execution_count": 8,
     "metadata": {},
     "output_type": "execute_result"
    }
   ],
   "source": [
    "X.shape, y.shape"
   ]
  },
  {
   "cell_type": "code",
   "execution_count": 9,
   "metadata": {},
   "outputs": [
    {
     "data": {
      "text/plain": [
       "0     1\n",
       "1     0\n",
       "2     0\n",
       "3     0\n",
       "4     0\n",
       "5     1\n",
       "6     1\n",
       "7     0\n",
       "8     0\n",
       "9     1\n",
       "10    1\n",
       "Name: weekly_return, dtype: int64"
      ]
     },
     "execution_count": 9,
     "metadata": {},
     "output_type": "execute_result"
    }
   ],
   "source": [
    "#only use in multi classes, y -1 for multiples class if y start 1, 2,3. \n",
    "#y = to_categorical(y) \n",
    "#y.values\n",
    "y   #Array or series formatt"
   ]
  },
  {
   "cell_type": "code",
   "execution_count": 10,
   "metadata": {},
   "outputs": [],
   "source": [
    "X_train, X_test, y_train, y_test = train_test_split(X, \n",
    "                                                    y, \n",
    "                                                    test_size=0.33, \n",
    "                                                    random_state=42)"
   ]
  },
  {
   "cell_type": "code",
   "execution_count": 11,
   "metadata": {},
   "outputs": [
    {
     "data": {
      "text/plain": [
       "((7, 5330), (7,))"
      ]
     },
     "execution_count": 11,
     "metadata": {},
     "output_type": "execute_result"
    }
   ],
   "source": [
    "X_train.shape, y_train.shape"
   ]
  },
  {
   "cell_type": "code",
   "execution_count": 12,
   "metadata": {},
   "outputs": [
    {
     "name": "stdout",
     "output_type": "stream",
     "text": [
      "WARNING:tensorflow:From /Users/billyu/anaconda3/lib/python3.6/site-packages/tensorflow/python/framework/op_def_library.py:263: colocate_with (from tensorflow.python.framework.ops) is deprecated and will be removed in a future version.\n",
      "Instructions for updating:\n",
      "Colocations handled automatically by placer.\n"
     ]
    }
   ],
   "source": [
    "from keras.models import Sequential\n",
    "from keras import layers\n",
    "\n",
    "\n",
    "input_dim = X_train.shape[1]\n",
    "# Number of features\n",
    "\n",
    "model = Sequential()\n",
    "\n",
    "#hidden layers\n",
    "model.add(layers.Dense(500, input_dim=input_dim, activation='relu'))\n",
    "\n",
    "model.add(layers.Dense(100, input_dim=input_dim, activation='relu'))\n",
    "model.add(layers.Dense(30, input_dim=input_dim, activation='relu'))\n",
    "\n",
    "#output layer\n",
    "model.add(layers.Dense(1, activation='sigmoid'))  #Dense should be 1 for the binary output "
   ]
  },
  {
   "cell_type": "code",
   "execution_count": 13,
   "metadata": {},
   "outputs": [],
   "source": [
    "model.compile(loss='binary_crossentropy', optimizer='adam', metrics=['accuracy'])"
   ]
  },
  {
   "cell_type": "code",
   "execution_count": 14,
   "metadata": {
    "scrolled": true
   },
   "outputs": [
    {
     "name": "stdout",
     "output_type": "stream",
     "text": [
      "_________________________________________________________________\n",
      "Layer (type)                 Output Shape              Param #   \n",
      "=================================================================\n",
      "dense_1 (Dense)              (None, 500)               2665500   \n",
      "_________________________________________________________________\n",
      "dense_2 (Dense)              (None, 100)               50100     \n",
      "_________________________________________________________________\n",
      "dense_3 (Dense)              (None, 30)                3030      \n",
      "_________________________________________________________________\n",
      "dense_4 (Dense)              (None, 1)                 31        \n",
      "=================================================================\n",
      "Total params: 2,718,661\n",
      "Trainable params: 2,718,661\n",
      "Non-trainable params: 0\n",
      "_________________________________________________________________\n"
     ]
    }
   ],
   "source": [
    "model.summary()"
   ]
  },
  {
   "cell_type": "code",
   "execution_count": 15,
   "metadata": {
    "scrolled": true
   },
   "outputs": [
    {
     "name": "stdout",
     "output_type": "stream",
     "text": [
      "WARNING:tensorflow:From /Users/billyu/anaconda3/lib/python3.6/site-packages/tensorflow/python/ops/math_ops.py:3066: to_int32 (from tensorflow.python.ops.math_ops) is deprecated and will be removed in a future version.\n",
      "Instructions for updating:\n",
      "Use tf.cast instead.\n",
      "Train on 7 samples, validate on 4 samples\n",
      "Epoch 1/15\n",
      "7/7 [==============================] - 1s 74ms/step - loss: 3.4725 - acc: 0.1429 - val_loss: 11.7094 - val_acc: 0.0000e+00\n",
      "Epoch 2/15\n",
      "7/7 [==============================] - 0s 4ms/step - loss: 1.6995 - acc: 0.8571 - val_loss: 12.5120 - val_acc: 0.0000e+00\n",
      "Epoch 3/15\n",
      "7/7 [==============================] - 0s 5ms/step - loss: 0.9189 - acc: 0.8571 - val_loss: 7.1034 - val_acc: 0.0000e+00\n",
      "Epoch 4/15\n",
      "7/7 [==============================] - 0s 7ms/step - loss: 9.5714e-04 - acc: 1.0000 - val_loss: 2.7841 - val_acc: 0.0000e+00\n",
      "Epoch 5/15\n",
      "7/7 [==============================] - 0s 7ms/step - loss: 0.0037 - acc: 1.0000 - val_loss: 1.0430 - val_acc: 0.7500\n",
      "Epoch 6/15\n",
      "7/7 [==============================] - 0s 4ms/step - loss: 0.0983 - acc: 1.0000 - val_loss: 3.2728 - val_acc: 0.0000e+00\n",
      "Epoch 7/15\n",
      "7/7 [==============================] - 0s 6ms/step - loss: 1.9608e-04 - acc: 1.0000 - val_loss: 6.9227 - val_acc: 0.0000e+00\n",
      "Epoch 8/15\n",
      "7/7 [==============================] - 0s 6ms/step - loss: 1.0729e-06 - acc: 1.0000 - val_loss: 10.5691 - val_acc: 0.0000e+00\n",
      "Epoch 9/15\n",
      "7/7 [==============================] - 0s 6ms/step - loss: 1.0274e-07 - acc: 1.0000 - val_loss: 13.9829 - val_acc: 0.0000e+00\n",
      "Epoch 10/15\n",
      "7/7 [==============================] - 0s 8ms/step - loss: 1.0274e-07 - acc: 1.0000 - val_loss: 15.6873 - val_acc: 0.0000e+00\n",
      "Epoch 11/15\n",
      "7/7 [==============================] - 0s 6ms/step - loss: 1.3680e-07 - acc: 1.0000 - val_loss: 16.1181 - val_acc: 0.0000e+00\n",
      "Epoch 12/15\n",
      "7/7 [==============================] - 0s 7ms/step - loss: 2.7304e-07 - acc: 1.0000 - val_loss: 16.1181 - val_acc: 0.0000e+00\n",
      "Epoch 13/15\n",
      "7/7 [==============================] - 0s 6ms/step - loss: 6.9879e-07 - acc: 1.0000 - val_loss: 16.1181 - val_acc: 0.0000e+00\n",
      "Epoch 14/15\n",
      "7/7 [==============================] - 0s 6ms/step - loss: 1.7376e-06 - acc: 1.0000 - val_loss: 16.1181 - val_acc: 0.0000e+00\n",
      "Epoch 15/15\n",
      "7/7 [==============================] - 0s 7ms/step - loss: 4.2751e-06 - acc: 1.0000 - val_loss: 16.1181 - val_acc: 0.0000e+00\n"
     ]
    }
   ],
   "source": [
    "history = model.fit(X_train, y_train, \n",
    "         epochs=15, \n",
    "         batch_size=128, \n",
    "         validation_data=(X_test,y_test))"
   ]
  },
  {
   "cell_type": "code",
   "execution_count": 16,
   "metadata": {},
   "outputs": [
    {
     "data": {
      "text/plain": [
       "dict_keys(['val_loss', 'val_acc', 'loss', 'acc'])"
      ]
     },
     "execution_count": 16,
     "metadata": {},
     "output_type": "execute_result"
    }
   ],
   "source": [
    "history.history.keys()"
   ]
  },
  {
   "cell_type": "code",
   "execution_count": 17,
   "metadata": {},
   "outputs": [
    {
     "data": {
      "text/plain": [
       "<matplotlib.legend.Legend at 0x1a2fe3bcc0>"
      ]
     },
     "execution_count": 17,
     "metadata": {},
     "output_type": "execute_result"
    },
    {
     "data": {
      "image/png": "[encoded data removed]",
      "text/plain": [
       "<Figure size 432x288 with 1 Axes>"
      ]
     },
     "metadata": {
      "needs_background": "light"
     },
     "output_type": "display_data"
    }
   ],
   "source": [
    "plt.plot(history.history['loss'], label='Train loss') #the error (loss) is getting lower\n",
    "plt.plot(history.history['val_loss'], label='Test loss') #the error (loss) is getting lower\n",
    "plt.legend()"
   ]
  },
  {
   "cell_type": "code",
   "execution_count": 18,
   "metadata": {},
   "outputs": [
    {
     "data": {
      "text/plain": [
       "<matplotlib.legend.Legend at 0x1a2fe58da0>"
      ]
     },
     "execution_count": 18,
     "metadata": {},
     "output_type": "execute_result"
    },
    {
     "data": {
      "image/png": "[encoded data removed]",
      "text/plain": [
       "<Figure size 432x288 with 1 Axes>"
      ]
     },
     "metadata": {
      "needs_background": "light"
     },
     "output_type": "display_data"
    }
   ],
   "source": [
    "plt.plot(history.history['acc'], label='Train accuracy')\n",
    "plt.plot(history.history['val_acc'], label='Test accuracy')\n",
    "plt.legend()\n"
   ]
  },
  {
   "cell_type": "code",
   "execution_count": 19,
   "metadata": {},
   "outputs": [
    {
     "data": {
      "text/plain": [
       "array([[1.2665290e-12],\n",
       "       [4.3113242e-14],\n",
       "       [1.9515146e-15],\n",
       "       [1.5911289e-14]], dtype=float32)"
      ]
     },
     "execution_count": 19,
     "metadata": {},
     "output_type": "execute_result"
    }
   ],
   "source": [
    "model.predict(X_test) #left is 0, and right is one for probability"
   ]
  },
  {
   "cell_type": "code",
   "execution_count": 20,
   "metadata": {},
   "outputs": [
    {
     "data": {
      "text/plain": [
       "array([0, 0, 0, 0])"
      ]
     },
     "execution_count": 20,
     "metadata": {},
     "output_type": "execute_result"
    }
   ],
   "source": [
    "model.predict(X_test).argmax(axis = 1)\n",
    "#model.predict_classes(X_test)"
   ]
  },
  {
   "cell_type": "markdown",
   "metadata": {},
   "source": [
    "# Loading new document that never seen before"
   ]
  },
  {
   "cell_type": "code",
   "execution_count": 37,
   "metadata": {},
   "outputs": [
    {
     "data": {
      "text/plain": [
       "['SolarCity (SCTY) Lyndon R. Rive on Q2 2016 Results - Earnings Call Transcript .txt']"
      ]
     },
     "execution_count": 37,
     "metadata": {},
     "output_type": "execute_result"
    }
   ],
   "source": [
    "import glob\n",
    "\n",
    "filenames = []\n",
    "for filename in glob.glob('*.txt'):\n",
    "    filenames.append(filename)\n",
    "filenames[0:5]"
   ]
  },
  {
   "cell_type": "code",
   "execution_count": 38,
   "metadata": {},
   "outputs": [
    {
     "name": "stdout",
     "output_type": "stream",
     "text": [
      "total files loaded: 1\n"
     ]
    }
   ],
   "source": [
    "transcripts = []\n",
    "for filename in filenames: \n",
    "    with open(filename, 'r') as f:\n",
    "        cont = f.read()\n",
    "        transcripts.append(cont)\n",
    "        \n",
    "print('total files loaded:',len(transcripts))"
   ]
  },
  {
   "cell_type": "code",
   "execution_count": 39,
   "metadata": {
    "scrolled": true
   },
   "outputs": [
    {
     "data": {
      "text/html": [
       "<div>\n",
       "<style scoped>\n",
       "    .dataframe tbody tr th:only-of-type {\n",
       "        vertical-align: middle;\n",
       "    }\n",
       "\n",
       "    .dataframe tbody tr th {\n",
       "        vertical-align: top;\n",
       "    }\n",
       "\n",
       "    .dataframe thead th {\n",
       "        text-align: right;\n",
       "    }\n",
       "</style>\n",
       "<table border=\"1\" class=\"dataframe\">\n",
       "  <thead>\n",
       "    <tr style=\"text-align: right;\">\n",
       "      <th></th>\n",
       "      <th>transcripts</th>\n",
       "    </tr>\n",
       "  </thead>\n",
       "  <tbody>\n",
       "    <tr>\n",
       "      <th>0</th>\n",
       "      <td>SolarCity (SCTY) Lyndon R. Rive on Q2 2016 Res...</td>\n",
       "    </tr>\n",
       "  </tbody>\n",
       "</table>\n",
       "</div>"
      ],
      "text/plain": [
       "                                         transcripts\n",
       "0  SolarCity (SCTY) Lyndon R. Rive on Q2 2016 Res..."
      ]
     },
     "execution_count": 39,
     "metadata": {},
     "output_type": "execute_result"
    }
   ],
   "source": [
    "df_test = pd.DataFrame(transcripts, columns=[ 'transcripts'])\n",
    "df_test.head()"
   ]
  },
  {
   "cell_type": "markdown",
   "metadata": {},
   "source": [
    "# Transfom the text for the doc"
   ]
  },
  {
   "cell_type": "code",
   "execution_count": 25,
   "metadata": {
    "scrolled": true
   },
   "outputs": [],
   "source": [
    "X_1 = df_test['transcripts']"
   ]
  },
  {
   "cell_type": "code",
   "execution_count": 26,
   "metadata": {},
   "outputs": [],
   "source": [
    "X_cvec_1= cvec.transform(X_1)"
   ]
  },
  {
   "cell_type": "code",
   "execution_count": 27,
   "metadata": {},
   "outputs": [
    {
     "data": {
      "text/plain": [
       "0    SolarCity (SCTY) Lyndon R. Rive on Q2 2016 Res...\n",
       "Name: transcripts, dtype: object"
      ]
     },
     "execution_count": 27,
     "metadata": {},
     "output_type": "execute_result"
    }
   ],
   "source": [
    "X_1"
   ]
  },
  {
   "cell_type": "code",
   "execution_count": 28,
   "metadata": {},
   "outputs": [],
   "source": [
    "X_1 = X_cvec_1.toarray()"
   ]
  },
  {
   "cell_type": "code",
   "execution_count": 29,
   "metadata": {},
   "outputs": [
    {
     "data": {
      "text/plain": [
       "array([[0, 0, 1, ..., 0, 0, 0]])"
      ]
     },
     "execution_count": 29,
     "metadata": {},
     "output_type": "execute_result"
    }
   ],
   "source": [
    "X_1"
   ]
  },
  {
   "cell_type": "code",
   "execution_count": 30,
   "metadata": {},
   "outputs": [
    {
     "data": {
      "text/plain": [
       "(1, 5330)"
      ]
     },
     "execution_count": 30,
     "metadata": {},
     "output_type": "execute_result"
    }
   ],
   "source": [
    "X_1.shape"
   ]
  },
  {
   "cell_type": "code",
   "execution_count": 31,
   "metadata": {},
   "outputs": [
    {
     "data": {
      "text/plain": [
       "array([[0]], dtype=int32)"
      ]
     },
     "execution_count": 31,
     "metadata": {},
     "output_type": "execute_result"
    }
   ],
   "source": [
    "model.predict_classes(X_1) "
   ]
  },
  {
   "cell_type": "code",
   "execution_count": null,
   "metadata": {},
   "outputs": [],
   "source": []
  }
 ],
 "metadata": {
  "kernelspec": {
   "display_name": "Python 3",
   "language": "python",
   "name": "python3"
  },
  "language_info": {
   "codemirror_mode": {
    "name": "ipython",
    "version": 3
   },
   "file_extension": ".py",
   "mimetype": "text/x-python",
   "name": "python",
   "nbconvert_exporter": "python",
   "pygments_lexer": "ipython3",
   "version": "3.6.8"
  },
  "toc": {
   "base_numbering": 1,
   "nav_menu": {},
   "number_sections": true,
   "sideBar": true,
   "skip_h1_title": false,
   "title_cell": "Table of Contents",
   "title_sidebar": "Contents",
   "toc_cell": true,
   "toc_position": {
    "height": "calc(100% - 180px)",
    "left": "10px",
    "top": "150px",
    "width": "165px"
   },
   "toc_section_display": true,
   "toc_window_display": true
  }
 },
 "nbformat": 4,
 "nbformat_minor": 2
}
