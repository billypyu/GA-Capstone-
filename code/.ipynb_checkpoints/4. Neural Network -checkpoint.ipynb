{
 "cells": [
  {
   "cell_type": "markdown",
   "metadata": {
    "toc": true
   },
   "source": [
    "<h1>Table of Contents<span class=\"tocSkip\"></span></h1>\n",
    "<div class=\"toc\"><ul class=\"toc-item\"><li><span><a href=\"#Text-for-Neural-Network\" data-toc-modified-id=\"Text-for-Neural-Network-1\"><span class=\"toc-item-num\">1&nbsp;&nbsp;</span>Text for Neural Network</a></span></li><li><span><a href=\"#Loading-new-document-that-never-seen-before\" data-toc-modified-id=\"Loading-new-document-that-never-seen-before-2\"><span class=\"toc-item-num\">2&nbsp;&nbsp;</span>Loading new document that never seen before</a></span></li><li><span><a href=\"#Transfom-the-text-for-the-doc\" data-toc-modified-id=\"Transfom-the-text-for-the-doc-3\"><span class=\"toc-item-num\">3&nbsp;&nbsp;</span>Transfom the text for the doc</a></span></li></ul></div>"
   ]
  },
  {
   "cell_type": "code",
   "execution_count": 1,
   "metadata": {},
   "outputs": [
    {
     "name": "stderr",
     "output_type": "stream",
     "text": [
      "Using TensorFlow backend.\n"
     ]
    }
   ],
   "source": [
    "import pandas as pd\n",
    "import datetime\n",
    "import pandas_datareader as pdr\n",
    "from bs4 import BeautifulSoup\n",
    "\n",
    "import re\n",
    "from textstat.textstat import textstat \n",
    "\n",
    "from sklearn.model_selection import train_test_split\n",
    "from sklearn.feature_extraction.text import TfidfTransformer, CountVectorizer, TfidfVectorizer\n",
    "from keras.utils.np_utils import to_categorical\n",
    "\n",
    "import matplotlib.pyplot as plt\n",
    "%matplotlib inline"
   ]
  },
  {
   "cell_type": "markdown",
   "metadata": {},
   "source": [
    "How to deploy a neural network with a df with num and text? "
   ]
  },
  {
   "cell_type": "code",
   "execution_count": 2,
   "metadata": {},
   "outputs": [],
   "source": [
    "import pickle\n",
    "\n",
    "df = pickle.load( open( \"../data/df_final.pkl\", \"rb\" ) )"
   ]
  },
  {
   "cell_type": "code",
   "execution_count": 3,
   "metadata": {
    "scrolled": false
   },
   "outputs": [
    {
     "data": {
      "text/html": [
       "<div>\n",
       "<style scoped>\n",
       "    .dataframe tbody tr th:only-of-type {\n",
       "        vertical-align: middle;\n",
       "    }\n",
       "\n",
       "    .dataframe tbody tr th {\n",
       "        vertical-align: top;\n",
       "    }\n",
       "\n",
       "    .dataframe thead th {\n",
       "        text-align: right;\n",
       "    }\n",
       "</style>\n",
       "<table border=\"1\" class=\"dataframe\">\n",
       "  <thead>\n",
       "    <tr style=\"text-align: right;\">\n",
       "      <th></th>\n",
       "      <th>transcripts</th>\n",
       "      <th>tx_MD</th>\n",
       "      <th>tx_QA</th>\n",
       "      <th>esp_date</th>\n",
       "      <th>esp_status_all</th>\n",
       "      <th>esp_status</th>\n",
       "      <th>esp</th>\n",
       "      <th>company</th>\n",
       "      <th>rev_yoy_growth_percent</th>\n",
       "      <th>rev_status</th>\n",
       "      <th>...</th>\n",
       "      <th>tx_QA_avg_sentence_length</th>\n",
       "      <th>tx_QAtextstat.lexicon_count</th>\n",
       "      <th>tx_QAflesch_reading_ease</th>\n",
       "      <th>tx_QAflesch_kincaid_grade</th>\n",
       "      <th>tx_QAdifficult_words</th>\n",
       "      <th>tx_QAlinsear_write_formula</th>\n",
       "      <th>tx_QAgunning_fog</th>\n",
       "      <th>tx_QAautomated_readability_index</th>\n",
       "      <th>tx_QAcoleman_liau_index</th>\n",
       "      <th>tx_QAdale_chall_readability_score</th>\n",
       "    </tr>\n",
       "  </thead>\n",
       "  <tbody>\n",
       "    <tr>\n",
       "      <th>0</th>\n",
       "      <td>Fiat Chrysler Automobiles N.V. (FCAU) CEO Mike...</td>\n",
       "      <td>Fiat Chrysler Automobiles N.V. (FCAU) CEO Mike...</td>\n",
       "      <td>\\n\\nOperator\\n\\nThank you, sir. [Operator Inst...</td>\n",
       "      <td>2019-05-03</td>\n",
       "      <td>EPS of $0.40318064732892821145 misses by $-0.08</td>\n",
       "      <td>misses</td>\n",
       "      <td>0.403181</td>\n",
       "      <td>FCAU</td>\n",
       "      <td>16.200001</td>\n",
       "      <td>misses</td>\n",
       "      <td>...</td>\n",
       "      <td>28.5</td>\n",
       "      <td>6529</td>\n",
       "      <td>67.93</td>\n",
       "      <td>10.9</td>\n",
       "      <td>499</td>\n",
       "      <td>5.444444</td>\n",
       "      <td>12.83</td>\n",
       "      <td>14.3</td>\n",
       "      <td>8.59</td>\n",
       "      <td>6.26</td>\n",
       "    </tr>\n",
       "    <tr>\n",
       "      <th>1</th>\n",
       "      <td>General Motors Company (GM) CEO Mary Barra on ...</td>\n",
       "      <td>General Motors Company (GM) CEO Mary Barra on ...</td>\n",
       "      <td>\\n\\nOperator\\n\\n[Operator Instructions] Your f...</td>\n",
       "      <td>2019-04-30</td>\n",
       "      <td>EPS of $1.41 beats by $0.29</td>\n",
       "      <td>beats</td>\n",
       "      <td>1.410000</td>\n",
       "      <td>GM</td>\n",
       "      <td>3.380000</td>\n",
       "      <td>misses</td>\n",
       "      <td>...</td>\n",
       "      <td>21.7</td>\n",
       "      <td>7177</td>\n",
       "      <td>66.37</td>\n",
       "      <td>9.4</td>\n",
       "      <td>572</td>\n",
       "      <td>6.000000</td>\n",
       "      <td>10.22</td>\n",
       "      <td>11.5</td>\n",
       "      <td>8.94</td>\n",
       "      <td>5.97</td>\n",
       "    </tr>\n",
       "  </tbody>\n",
       "</table>\n",
       "<p>2 rows × 73 columns</p>\n",
       "</div>"
      ],
      "text/plain": [
       "                                         transcripts  \\\n",
       "0  Fiat Chrysler Automobiles N.V. (FCAU) CEO Mike...   \n",
       "1  General Motors Company (GM) CEO Mary Barra on ...   \n",
       "\n",
       "                                               tx_MD  \\\n",
       "0  Fiat Chrysler Automobiles N.V. (FCAU) CEO Mike...   \n",
       "1  General Motors Company (GM) CEO Mary Barra on ...   \n",
       "\n",
       "                                               tx_QA   esp_date  \\\n",
       "0  \\n\\nOperator\\n\\nThank you, sir. [Operator Inst... 2019-05-03   \n",
       "1  \\n\\nOperator\\n\\n[Operator Instructions] Your f... 2019-04-30   \n",
       "\n",
       "                                    esp_status_all esp_status       esp  \\\n",
       "0  EPS of $0.40318064732892821145 misses by $-0.08     misses  0.403181   \n",
       "1                      EPS of $1.41 beats by $0.29      beats  1.410000   \n",
       "\n",
       "  company  rev_yoy_growth_percent rev_status  ...  tx_QA_avg_sentence_length  \\\n",
       "0    FCAU               16.200001     misses  ...                       28.5   \n",
       "1      GM                3.380000     misses  ...                       21.7   \n",
       "\n",
       "  tx_QAtextstat.lexicon_count tx_QAflesch_reading_ease  \\\n",
       "0                        6529                    67.93   \n",
       "1                        7177                    66.37   \n",
       "\n",
       "  tx_QAflesch_kincaid_grade  tx_QAdifficult_words  tx_QAlinsear_write_formula  \\\n",
       "0                      10.9                   499                    5.444444   \n",
       "1                       9.4                   572                    6.000000   \n",
       "\n",
       "   tx_QAgunning_fog  tx_QAautomated_readability_index  \\\n",
       "0             12.83                              14.3   \n",
       "1             10.22                              11.5   \n",
       "\n",
       "   tx_QAcoleman_liau_index  tx_QAdale_chall_readability_score  \n",
       "0                     8.59                               6.26  \n",
       "1                     8.94                               5.97  \n",
       "\n",
       "[2 rows x 73 columns]"
      ]
     },
     "execution_count": 3,
     "metadata": {},
     "output_type": "execute_result"
    }
   ],
   "source": [
    "df.head(2)"
   ]
  },
  {
   "cell_type": "markdown",
   "metadata": {},
   "source": [
    "# Text for Neural Network"
   ]
  },
  {
   "cell_type": "markdown",
   "metadata": {},
   "source": [
    "Model 1 is transcript\n",
    "\n",
    "Model 2 is Tx_MD\n",
    "\n",
    "Model 3 is Tx_QA"
   ]
  },
  {
   "cell_type": "code",
   "execution_count": 4,
   "metadata": {},
   "outputs": [],
   "source": [
    "# import pickle\n",
    "\n",
    "# df = pickle.load(open( \"../data/df_words_target.pkl\", \"rb\" ))"
   ]
  },
  {
   "cell_type": "code",
   "execution_count": 5,
   "metadata": {},
   "outputs": [],
   "source": [
    "from sklearn.naive_bayes import MultinomialNB\n",
    "from sklearn import metrics\n",
    "\n",
    "# Use default options for CountVectorizer.\n",
    "cvec = CountVectorizer(stop_words = 'english', ngram_range=(1, 1))\n",
    "\n",
    "X = df['transcripts']\n",
    "y = df['pct_price_target']\n",
    "\n",
    "# Create document-term matrices.\n",
    "X_cvec = cvec.fit_transform(X)"
   ]
  },
  {
   "cell_type": "code",
   "execution_count": 6,
   "metadata": {},
   "outputs": [],
   "source": [
    "X = X_cvec.toarray()"
   ]
  },
  {
   "cell_type": "code",
   "execution_count": 7,
   "metadata": {},
   "outputs": [
    {
     "data": {
      "text/plain": [
       "((61, 10603), (61,))"
      ]
     },
     "execution_count": 7,
     "metadata": {},
     "output_type": "execute_result"
    }
   ],
   "source": [
    "X.shape, y.shape\n",
    "# only use in multi classes, y -1 for multiples class if y start 1, 2,3. \n",
    "# y = to_categorical(y) \n",
    "# Array or series formatt"
   ]
  },
  {
   "cell_type": "code",
   "execution_count": 9,
   "metadata": {},
   "outputs": [],
   "source": [
    "X_train, X_test, y_train, y_test = train_test_split(X, \n",
    "                                                    y, \n",
    "                                                    test_size=0.33, \n",
    "                                                    random_state=42)"
   ]
  },
  {
   "cell_type": "code",
   "execution_count": 10,
   "metadata": {},
   "outputs": [
    {
     "data": {
      "text/plain": [
       "((40, 10603), (40,))"
      ]
     },
     "execution_count": 10,
     "metadata": {},
     "output_type": "execute_result"
    }
   ],
   "source": [
    "X_train.shape, y_train.shape"
   ]
  },
  {
   "cell_type": "code",
   "execution_count": 11,
   "metadata": {},
   "outputs": [
    {
     "name": "stdout",
     "output_type": "stream",
     "text": [
      "WARNING:tensorflow:From /Users/billyu/anaconda3/lib/python3.6/site-packages/tensorflow/python/framework/op_def_library.py:263: colocate_with (from tensorflow.python.framework.ops) is deprecated and will be removed in a future version.\n",
      "Instructions for updating:\n",
      "Colocations handled automatically by placer.\n"
     ]
    }
   ],
   "source": [
    "from keras.models import Sequential\n",
    "from keras import layers\n",
    "\n",
    "\n",
    "input_dim = X_train.shape[1]\n",
    "# Number of features\n",
    "\n",
    "model = Sequential()\n",
    "\n",
    "#hidden layers\n",
    "model.add(layers.Dense(5300, input_dim=input_dim, activation='relu'))\n",
    "\n",
    "model.add(layers.Dense(100, input_dim=input_dim, activation='relu'))\n",
    "model.add(layers.Dense(30, input_dim=input_dim, activation='relu'))\n",
    "\n",
    "#output layer\n",
    "model.add(layers.Dense(1, activation='sigmoid'))  #Dense should be 1 for the binary output "
   ]
  },
  {
   "cell_type": "code",
   "execution_count": 12,
   "metadata": {},
   "outputs": [],
   "source": [
    "model.compile(loss='binary_crossentropy', optimizer='adam', metrics=['accuracy'])"
   ]
  },
  {
   "cell_type": "code",
   "execution_count": 13,
   "metadata": {
    "scrolled": true
   },
   "outputs": [
    {
     "name": "stdout",
     "output_type": "stream",
     "text": [
      "_________________________________________________________________\n",
      "Layer (type)                 Output Shape              Param #   \n",
      "=================================================================\n",
      "dense_1 (Dense)              (None, 5300)              56201200  \n",
      "_________________________________________________________________\n",
      "dense_2 (Dense)              (None, 100)               530100    \n",
      "_________________________________________________________________\n",
      "dense_3 (Dense)              (None, 30)                3030      \n",
      "_________________________________________________________________\n",
      "dense_4 (Dense)              (None, 1)                 31        \n",
      "=================================================================\n",
      "Total params: 56,734,361\n",
      "Trainable params: 56,734,361\n",
      "Non-trainable params: 0\n",
      "_________________________________________________________________\n"
     ]
    }
   ],
   "source": [
    "model.summary()"
   ]
  },
  {
   "cell_type": "code",
   "execution_count": 14,
   "metadata": {
    "scrolled": true
   },
   "outputs": [
    {
     "name": "stdout",
     "output_type": "stream",
     "text": [
      "WARNING:tensorflow:From /Users/billyu/anaconda3/lib/python3.6/site-packages/tensorflow/python/ops/math_ops.py:3066: to_int32 (from tensorflow.python.ops.math_ops) is deprecated and will be removed in a future version.\n",
      "Instructions for updating:\n",
      "Use tf.cast instead.\n",
      "Train on 40 samples, validate on 21 samples\n",
      "Epoch 1/15\n",
      "40/40 [==============================] - 6s 141ms/step - loss: 0.7158 - acc: 0.5500 - val_loss: 9.6127 - val_acc: 0.3810\n",
      "Epoch 2/15\n",
      "40/40 [==============================] - 1s 35ms/step - loss: 3.3122 - acc: 0.6750 - val_loss: 6.2067 - val_acc: 0.5714\n",
      "Epoch 3/15\n",
      "40/40 [==============================] - 1s 25ms/step - loss: 7.8498 - acc: 0.4500 - val_loss: 6.0733 - val_acc: 0.6190\n",
      "Epoch 4/15\n",
      "40/40 [==============================] - 1s 23ms/step - loss: 9.3121 - acc: 0.4000 - val_loss: 5.3786 - val_acc: 0.5714\n",
      "Epoch 5/15\n",
      "40/40 [==============================] - 1s 24ms/step - loss: 8.4547 - acc: 0.4500 - val_loss: 6.5719 - val_acc: 0.5238\n",
      "Epoch 6/15\n",
      "40/40 [==============================] - 1s 23ms/step - loss: 5.8125 - acc: 0.5750 - val_loss: 9.9779 - val_acc: 0.3810\n",
      "Epoch 7/15\n",
      "40/40 [==============================] - 1s 25ms/step - loss: 5.4238 - acc: 0.6500 - val_loss: 9.9779 - val_acc: 0.3810\n",
      "Epoch 8/15\n",
      "40/40 [==============================] - 1s 24ms/step - loss: 5.6413 - acc: 0.6500 - val_loss: 9.9779 - val_acc: 0.3810\n",
      "Epoch 9/15\n",
      "40/40 [==============================] - 1s 23ms/step - loss: 5.6413 - acc: 0.6500 - val_loss: 9.9779 - val_acc: 0.3810\n",
      "Epoch 10/15\n",
      "40/40 [==============================] - 1s 31ms/step - loss: 5.6413 - acc: 0.6500 - val_loss: 9.9779 - val_acc: 0.3810\n",
      "Epoch 11/15\n",
      "40/40 [==============================] - 1s 30ms/step - loss: 5.6413 - acc: 0.6500 - val_loss: 9.9779 - val_acc: 0.3810\n",
      "Epoch 12/15\n",
      "40/40 [==============================] - 1s 29ms/step - loss: 5.6413 - acc: 0.6500 - val_loss: 9.9779 - val_acc: 0.3810\n",
      "Epoch 13/15\n",
      "40/40 [==============================] - 1s 27ms/step - loss: 5.6413 - acc: 0.6500 - val_loss: 9.9779 - val_acc: 0.3810\n",
      "Epoch 14/15\n",
      "40/40 [==============================] - 1s 25ms/step - loss: 5.6413 - acc: 0.6500 - val_loss: 9.9779 - val_acc: 0.3810\n",
      "Epoch 15/15\n",
      "40/40 [==============================] - 1s 23ms/step - loss: 5.6413 - acc: 0.6500 - val_loss: 9.9779 - val_acc: 0.3810\n"
     ]
    }
   ],
   "source": [
    "history = model.fit(X_train, y_train, \n",
    "         epochs=15, \n",
    "         batch_size=128, \n",
    "         validation_data=(X_test,y_test))"
   ]
  },
  {
   "cell_type": "code",
   "execution_count": 15,
   "metadata": {},
   "outputs": [
    {
     "data": {
      "text/plain": [
       "dict_keys(['val_loss', 'val_acc', 'loss', 'acc'])"
      ]
     },
     "execution_count": 15,
     "metadata": {},
     "output_type": "execute_result"
    }
   ],
   "source": [
    "history.history.keys()"
   ]
  },
  {
   "cell_type": "code",
   "execution_count": 16,
   "metadata": {},
   "outputs": [
    {
     "data": {
      "text/plain": [
       "<matplotlib.legend.Legend at 0x1a28215470>"
      ]
     },
     "execution_count": 16,
     "metadata": {},
     "output_type": "execute_result"
    },
    {
     "data": {
      "image/png": "[encoded data removed]",
      "text/plain": [
       "<Figure size 432x288 with 1 Axes>"
      ]
     },
     "metadata": {
      "needs_background": "light"
     },
     "output_type": "display_data"
    }
   ],
   "source": [
    "plt.plot(history.history['loss'], label='Train loss') #the error (loss) is getting lower\n",
    "plt.plot(history.history['val_loss'], label='Test loss') #the error (loss) is getting lower\n",
    "plt.legend()"
   ]
  },
  {
   "cell_type": "code",
   "execution_count": 17,
   "metadata": {},
   "outputs": [
    {
     "data": {
      "text/plain": [
       "<matplotlib.legend.Legend at 0x1a282357b8>"
      ]
     },
     "execution_count": 17,
     "metadata": {},
     "output_type": "execute_result"
    },
    {
     "data": {
      "image/png": "[encoded data removed]",
      "text/plain": [
       "<Figure size 432x288 with 1 Axes>"
      ]
     },
     "metadata": {
      "needs_background": "light"
     },
     "output_type": "display_data"
    }
   ],
   "source": [
    "# Similar to the error terms, the accuracy decreases after epochs of 4. \n",
    "plt.plot(history.history['acc'], label='Train accuracy')\n",
    "plt.plot(history.history['val_acc'], label='Test accuracy')\n",
    "plt.legend()\n"
   ]
  },
  {
   "cell_type": "code",
   "execution_count": 18,
   "metadata": {},
   "outputs": [
    {
     "data": {
      "text/plain": [
       "array([[0.],\n",
       "       [0.],\n",
       "       [0.],\n",
       "       [0.],\n",
       "       [0.],\n",
       "       [0.],\n",
       "       [0.],\n",
       "       [0.],\n",
       "       [0.],\n",
       "       [0.],\n",
       "       [0.],\n",
       "       [0.],\n",
       "       [0.],\n",
       "       [0.],\n",
       "       [0.],\n",
       "       [0.],\n",
       "       [0.],\n",
       "       [0.],\n",
       "       [0.],\n",
       "       [0.],\n",
       "       [0.]], dtype=float32)"
      ]
     },
     "execution_count": 18,
     "metadata": {},
     "output_type": "execute_result"
    }
   ],
   "source": [
    "model.predict(X_test) "
   ]
  },
  {
   "cell_type": "code",
   "execution_count": 19,
   "metadata": {},
   "outputs": [
    {
     "data": {
      "text/plain": [
       "array([0, 0, 0, 0, 0, 0, 0, 0, 0, 0, 0, 0, 0, 0, 0, 0, 0, 0, 0, 0, 0])"
      ]
     },
     "execution_count": 19,
     "metadata": {},
     "output_type": "execute_result"
    }
   ],
   "source": [
    "model.predict(X_test).argmax(axis = 1)\n",
    "#model.predict_classes(X_test)"
   ]
  },
  {
   "cell_type": "markdown",
   "metadata": {},
   "source": [
    "# Loading new document that never seen before"
   ]
  },
  {
   "cell_type": "code",
   "execution_count": 20,
   "metadata": {},
   "outputs": [
    {
     "data": {
      "text/plain": [
       "[\"Tesla Motors' (TSLA) CEO Elon Musk on Q3 2014 Results -- Earnings Call Transcript.txt\"]"
      ]
     },
     "execution_count": 20,
     "metadata": {},
     "output_type": "execute_result"
    }
   ],
   "source": [
    "import glob\n",
    "\n",
    "filenames = []\n",
    "for filename in glob.glob('*.txt'):\n",
    "    filenames.append(filename)\n",
    "filenames[0:5]"
   ]
  },
  {
   "cell_type": "code",
   "execution_count": 21,
   "metadata": {},
   "outputs": [
    {
     "name": "stdout",
     "output_type": "stream",
     "text": [
      "total files loaded: 1\n"
     ]
    }
   ],
   "source": [
    "transcripts = []\n",
    "for filename in filenames: \n",
    "    with open(filename, 'r') as f:\n",
    "        cont = f.read()\n",
    "        transcripts.append(cont)\n",
    "        \n",
    "print('total files loaded:',len(transcripts))"
   ]
  },
  {
   "cell_type": "code",
   "execution_count": 22,
   "metadata": {
    "scrolled": true
   },
   "outputs": [
    {
     "data": {
      "text/html": [
       "<div>\n",
       "<style scoped>\n",
       "    .dataframe tbody tr th:only-of-type {\n",
       "        vertical-align: middle;\n",
       "    }\n",
       "\n",
       "    .dataframe tbody tr th {\n",
       "        vertical-align: top;\n",
       "    }\n",
       "\n",
       "    .dataframe thead th {\n",
       "        text-align: right;\n",
       "    }\n",
       "</style>\n",
       "<table border=\"1\" class=\"dataframe\">\n",
       "  <thead>\n",
       "    <tr style=\"text-align: right;\">\n",
       "      <th></th>\n",
       "      <th>transcripts</th>\n",
       "    </tr>\n",
       "  </thead>\n",
       "  <tbody>\n",
       "    <tr>\n",
       "      <th>0</th>\n",
       "      <td>Tesla Motors' (TSLA) CEO Elon Musk on Q3 2014 ...</td>\n",
       "    </tr>\n",
       "  </tbody>\n",
       "</table>\n",
       "</div>"
      ],
      "text/plain": [
       "                                         transcripts\n",
       "0  Tesla Motors' (TSLA) CEO Elon Musk on Q3 2014 ..."
      ]
     },
     "execution_count": 22,
     "metadata": {},
     "output_type": "execute_result"
    }
   ],
   "source": [
    "df_test = pd.DataFrame(transcripts, columns=[ 'transcripts'])\n",
    "df_test.head()"
   ]
  },
  {
   "cell_type": "markdown",
   "metadata": {},
   "source": [
    "# Transfom the text for the doc"
   ]
  },
  {
   "cell_type": "markdown",
   "metadata": {},
   "source": [
    "The price on Q3 2014 was down next day. This model predicted correctly as 0. However, since this is only one document, it is not representative enough. Therefore, we need to collect more data to improve the training and testing size"
   ]
  },
  {
   "cell_type": "code",
   "execution_count": 23,
   "metadata": {
    "scrolled": true
   },
   "outputs": [],
   "source": [
    "X_1 = df_test['transcripts']"
   ]
  },
  {
   "cell_type": "code",
   "execution_count": 24,
   "metadata": {},
   "outputs": [],
   "source": [
    "X_cvec_1= cvec.transform(X_1)"
   ]
  },
  {
   "cell_type": "code",
   "execution_count": 25,
   "metadata": {},
   "outputs": [
    {
     "data": {
      "text/plain": [
       "0    Tesla Motors' (TSLA) CEO Elon Musk on Q3 2014 ...\n",
       "Name: transcripts, dtype: object"
      ]
     },
     "execution_count": 25,
     "metadata": {},
     "output_type": "execute_result"
    }
   ],
   "source": [
    "X_1"
   ]
  },
  {
   "cell_type": "code",
   "execution_count": 26,
   "metadata": {},
   "outputs": [],
   "source": [
    "X_1 = X_cvec_1.toarray()"
   ]
  },
  {
   "cell_type": "code",
   "execution_count": 27,
   "metadata": {},
   "outputs": [
    {
     "data": {
      "text/plain": [
       "array([[ 0, 13,  0, ...,  0,  0,  0]])"
      ]
     },
     "execution_count": 27,
     "metadata": {},
     "output_type": "execute_result"
    }
   ],
   "source": [
    "X_1"
   ]
  },
  {
   "cell_type": "code",
   "execution_count": 28,
   "metadata": {},
   "outputs": [
    {
     "data": {
      "text/plain": [
       "(1, 10603)"
      ]
     },
     "execution_count": 28,
     "metadata": {},
     "output_type": "execute_result"
    }
   ],
   "source": [
    "X_1.shape"
   ]
  },
  {
   "cell_type": "code",
   "execution_count": 29,
   "metadata": {},
   "outputs": [
    {
     "data": {
      "text/plain": [
       "array([[0]], dtype=int32)"
      ]
     },
     "execution_count": 29,
     "metadata": {},
     "output_type": "execute_result"
    }
   ],
   "source": [
    "model.predict_classes(X_1) "
   ]
  }
 ],
 "metadata": {
  "kernelspec": {
   "display_name": "Python 3",
   "language": "python",
   "name": "python3"
  },
  "language_info": {
   "codemirror_mode": {
    "name": "ipython",
    "version": 3
   },
   "file_extension": ".py",
   "mimetype": "text/x-python",
   "name": "python",
   "nbconvert_exporter": "python",
   "pygments_lexer": "ipython3",
   "version": "3.6.8"
  },
  "toc": {
   "base_numbering": 1,
   "nav_menu": {},
   "number_sections": true,
   "sideBar": true,
   "skip_h1_title": false,
   "title_cell": "Table of Contents",
   "title_sidebar": "Contents",
   "toc_cell": true,
   "toc_position": {
    "height": "calc(100% - 180px)",
    "left": "10px",
    "top": "150px",
    "width": "165px"
   },
   "toc_section_display": true,
   "toc_window_display": true
  }
 },
 "nbformat": 4,
 "nbformat_minor": 2
}
